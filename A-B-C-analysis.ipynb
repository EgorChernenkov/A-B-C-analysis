{
 "cells": [
  {
   "cell_type": "markdown",
   "metadata": {},
   "source": [
    "# E-commerce — Анализ товарного ассортимента"
   ]
  },
  {
   "cell_type": "markdown",
   "metadata": {},
   "source": [
    "## Введение"
   ]
  },
  {
   "cell_type": "markdown",
   "metadata": {},
   "source": [
    "В нашем распоряжении данные о транзакциях интернет-магазина товаров для дома \"Пока все еще тут\". Опираясь на эти данные, мы проведем исследовательский анализ продаж магазина и товарного ассортимента, а так же проверим несколько гипотез, которые возникнут в процессе исследования. \n",
    "\n",
    "**Целью** данного исследования будет анализ продаж магазина и товарного ассортимента \n",
    "**Задачами** данного исследования являются: \n",
    "1) Анализ продаж \n",
    "2) Определение товарных категорий \n",
    "3) Анализ товарного ассортимента, определение лучших и худших по продажам товаров \n",
    "4) Выделить основной и дополнительный ассортимент \n",
    "\\\n",
    "**План работы:** \\\n",
    "**1) Введение** \\\n",
    "\\\n",
    "**2) Знакомство с данными** \\\n",
    "\\\n",
    "**3) Предобработка данных** \\\n",
    "    3.1) Изменение типов данных в столбцах \\\n",
    "    3.2) Проверка на количество пропусков \\\n",
    "    3.3) Выявление явных и неявных дубликатов \\\n",
    "    3.4) Анализ аномалий в данных \\\n",
    "    3.5) Добавление столбцов с месяцем и часом заказа\\\n",
    "    \\\n",
    "**4) Основная часть** \\\n",
    "    4.1) Общий анализ продаж магазина \\\n",
    "        *- суммарная выручка* \\\n",
    "        *- количество заказов* \\\n",
    "        *- количество пользователей* \\\n",
    "        *- продажи по месяцам* \\\n",
    "        \\\n",
    "    4.2) Разбитие ассортимента по товарным категориям и их анализ \\\n",
    "        *- по выручке* \\\n",
    "        *- по количеству* \\\n",
    "        \\\n",
    "    4.3) ABC-анализ \\\n",
    "        *- по выручке* \\\n",
    "        *- по количеству* \\\n",
    "    \\\n",
    "    4.4) Выявление десятки лучших и худших товаров\\\n",
    "        *- по выручке* \\\n",
    "        *- по количеству* \\\n",
    "    \\\n",
    "    4.5) Анализ лучших товаров в динамике по месяцам \\\n",
    "    \\\n",
    "    4.6) Анализ числа заказов\\\n",
    "        *- по часам* \\\n",
    "        *- по месяцам* \\\n",
    "    \\\n",
    "    4.7) Проверка гипотез, сформулированных в процессе исследования \\\n",
    "    \\\n",
    "**5) Заключение**"
   ]
  },
  {
   "cell_type": "markdown",
   "metadata": {},
   "source": [
    "## Знакомство с данными"
   ]
  },
  {
   "cell_type": "code",
   "execution_count": 1,
   "metadata": {},
   "outputs": [],
   "source": [
    "import pandas as pd\n",
    "from IPython.display import display\n",
    "import matplotlib.pyplot as plt\n",
    "from scipy.stats import ttest_ind"
   ]
  },
  {
   "cell_type": "code",
   "execution_count": 3,
   "metadata": {},
   "outputs": [
    {
     "data": {
      "text/html": [
       "<div>\n",
       "<style scoped>\n",
       "    .dataframe tbody tr th:only-of-type {\n",
       "        vertical-align: middle;\n",
       "    }\n",
       "\n",
       "    .dataframe tbody tr th {\n",
       "        vertical-align: top;\n",
       "    }\n",
       "\n",
       "    .dataframe thead th {\n",
       "        text-align: right;\n",
       "    }\n",
       "</style>\n",
       "<table border=\"1\" class=\"dataframe\">\n",
       "  <thead>\n",
       "    <tr style=\"text-align: right;\">\n",
       "      <th></th>\n",
       "      <th>date</th>\n",
       "      <th>customer_id</th>\n",
       "      <th>order_id</th>\n",
       "      <th>product</th>\n",
       "      <th>quantity</th>\n",
       "      <th>price</th>\n",
       "    </tr>\n",
       "  </thead>\n",
       "  <tbody>\n",
       "    <tr>\n",
       "      <th>0</th>\n",
       "      <td>2018100100</td>\n",
       "      <td>ee47d746-6d2f-4d3c-9622-c31412542920</td>\n",
       "      <td>68477</td>\n",
       "      <td>Комнатное растение в горшке Алое Вера, d12, h30</td>\n",
       "      <td>1</td>\n",
       "      <td>142.0</td>\n",
       "    </tr>\n",
       "    <tr>\n",
       "      <th>1</th>\n",
       "      <td>2018100100</td>\n",
       "      <td>ee47d746-6d2f-4d3c-9622-c31412542920</td>\n",
       "      <td>68477</td>\n",
       "      <td>Комнатное растение в горшке Кофе Арабика, d12,...</td>\n",
       "      <td>1</td>\n",
       "      <td>194.0</td>\n",
       "    </tr>\n",
       "    <tr>\n",
       "      <th>2</th>\n",
       "      <td>2018100100</td>\n",
       "      <td>ee47d746-6d2f-4d3c-9622-c31412542920</td>\n",
       "      <td>68477</td>\n",
       "      <td>Радермахера d-12 см h-20 см</td>\n",
       "      <td>1</td>\n",
       "      <td>112.0</td>\n",
       "    </tr>\n",
       "    <tr>\n",
       "      <th>3</th>\n",
       "      <td>2018100100</td>\n",
       "      <td>ee47d746-6d2f-4d3c-9622-c31412542920</td>\n",
       "      <td>68477</td>\n",
       "      <td>Хризолидокарпус Лутесценс d-9 см</td>\n",
       "      <td>1</td>\n",
       "      <td>179.0</td>\n",
       "    </tr>\n",
       "    <tr>\n",
       "      <th>4</th>\n",
       "      <td>2018100100</td>\n",
       "      <td>ee47d746-6d2f-4d3c-9622-c31412542920</td>\n",
       "      <td>68477</td>\n",
       "      <td>Циперус Зумула d-12 см h-25 см</td>\n",
       "      <td>1</td>\n",
       "      <td>112.0</td>\n",
       "    </tr>\n",
       "    <tr>\n",
       "      <th>...</th>\n",
       "      <td>...</td>\n",
       "      <td>...</td>\n",
       "      <td>...</td>\n",
       "      <td>...</td>\n",
       "      <td>...</td>\n",
       "      <td>...</td>\n",
       "    </tr>\n",
       "    <tr>\n",
       "      <th>7469</th>\n",
       "      <td>2020013021</td>\n",
       "      <td>63208953-a8e4-4f77-9b47-3a46e7b72eee</td>\n",
       "      <td>104002</td>\n",
       "      <td>томата (помидор) Черниченский черри № 116 сорт...</td>\n",
       "      <td>2</td>\n",
       "      <td>38.0</td>\n",
       "    </tr>\n",
       "    <tr>\n",
       "      <th>7470</th>\n",
       "      <td>2020013022</td>\n",
       "      <td>d99d25f1-4017-4fcd-8d29-c580cc695a1a</td>\n",
       "      <td>107336</td>\n",
       "      <td>Дендробиум Санок Анна Грин 1 ствол d-12 см</td>\n",
       "      <td>1</td>\n",
       "      <td>869.0</td>\n",
       "    </tr>\n",
       "    <tr>\n",
       "      <th>7471</th>\n",
       "      <td>2020013102</td>\n",
       "      <td>2c9bd08d-8c55-4e7a-9bfb-8c56ba42c6d6</td>\n",
       "      <td>106336</td>\n",
       "      <td>Подставка для обуви резиновая Attribute 80x40 ...</td>\n",
       "      <td>1</td>\n",
       "      <td>354.0</td>\n",
       "    </tr>\n",
       "    <tr>\n",
       "      <th>7472</th>\n",
       "      <td>2020013112</td>\n",
       "      <td>cdd17932-623e-415f-a577-3b31312fd0e2</td>\n",
       "      <td>102002</td>\n",
       "      <td>Тагетис крупноцветковый рассада однолетних цве...</td>\n",
       "      <td>1</td>\n",
       "      <td>128.0</td>\n",
       "    </tr>\n",
       "    <tr>\n",
       "      <th>7473</th>\n",
       "      <td>2020013115</td>\n",
       "      <td>2e460a26-35af-453d-a369-a036e95a40e0</td>\n",
       "      <td>103225</td>\n",
       "      <td>Вешалка для блузок 41 см красный Attribute AHM781</td>\n",
       "      <td>1</td>\n",
       "      <td>104.0</td>\n",
       "    </tr>\n",
       "  </tbody>\n",
       "</table>\n",
       "<p>7474 rows × 6 columns</p>\n",
       "</div>"
      ],
      "text/plain": [
       "            date                           customer_id  order_id  \\\n",
       "0     2018100100  ee47d746-6d2f-4d3c-9622-c31412542920     68477   \n",
       "1     2018100100  ee47d746-6d2f-4d3c-9622-c31412542920     68477   \n",
       "2     2018100100  ee47d746-6d2f-4d3c-9622-c31412542920     68477   \n",
       "3     2018100100  ee47d746-6d2f-4d3c-9622-c31412542920     68477   \n",
       "4     2018100100  ee47d746-6d2f-4d3c-9622-c31412542920     68477   \n",
       "...          ...                                   ...       ...   \n",
       "7469  2020013021  63208953-a8e4-4f77-9b47-3a46e7b72eee    104002   \n",
       "7470  2020013022  d99d25f1-4017-4fcd-8d29-c580cc695a1a    107336   \n",
       "7471  2020013102  2c9bd08d-8c55-4e7a-9bfb-8c56ba42c6d6    106336   \n",
       "7472  2020013112  cdd17932-623e-415f-a577-3b31312fd0e2    102002   \n",
       "7473  2020013115  2e460a26-35af-453d-a369-a036e95a40e0    103225   \n",
       "\n",
       "                                                product  quantity  price  \n",
       "0       Комнатное растение в горшке Алое Вера, d12, h30         1  142.0  \n",
       "1     Комнатное растение в горшке Кофе Арабика, d12,...         1  194.0  \n",
       "2                           Радермахера d-12 см h-20 см         1  112.0  \n",
       "3                      Хризолидокарпус Лутесценс d-9 см         1  179.0  \n",
       "4                        Циперус Зумула d-12 см h-25 см         1  112.0  \n",
       "...                                                 ...       ...    ...  \n",
       "7469  томата (помидор) Черниченский черри № 116 сорт...         2   38.0  \n",
       "7470         Дендробиум Санок Анна Грин 1 ствол d-12 см         1  869.0  \n",
       "7471  Подставка для обуви резиновая Attribute 80x40 ...         1  354.0  \n",
       "7472  Тагетис крупноцветковый рассада однолетних цве...         1  128.0  \n",
       "7473  Вешалка для блузок 41 см красный Attribute AHM781         1  104.0  \n",
       "\n",
       "[7474 rows x 6 columns]"
      ]
     },
     "execution_count": 3,
     "metadata": {},
     "output_type": "execute_result"
    }
   ],
   "source": [
    "data"
   ]
  },
  {
   "cell_type": "code",
   "execution_count": 4,
   "metadata": {},
   "outputs": [
    {
     "name": "stdout",
     "output_type": "stream",
     "text": [
      "<class 'pandas.core.frame.DataFrame'>\n",
      "RangeIndex: 7474 entries, 0 to 7473\n",
      "Data columns (total 6 columns):\n",
      " #   Column       Non-Null Count  Dtype  \n",
      "---  ------       --------------  -----  \n",
      " 0   date         7474 non-null   int64  \n",
      " 1   customer_id  7474 non-null   object \n",
      " 2   order_id     7474 non-null   int64  \n",
      " 3   product      7474 non-null   object \n",
      " 4   quantity     7474 non-null   int64  \n",
      " 5   price        7474 non-null   float64\n",
      "dtypes: float64(1), int64(3), object(2)\n",
      "memory usage: 350.5+ KB\n"
     ]
    }
   ],
   "source": [
    "data.info()"
   ]
  },
  {
   "cell_type": "markdown",
   "metadata": {},
   "source": [
    "Данные содержат 7474 строки \\\n",
    "Колонки в `ecom_dataset_upd.csv` : \\\n",
    "`date` — дата заказа; \\\n",
    "`customer_id` — идентификатор покупателя; \\\n",
    "`order_id` — идентификатор заказа; \\\n",
    "`product` — наименование товара; \\\n",
    "`quantity` — количество товара в заказе; \\\n",
    "`price` — цена товара \\\n",
    "\\\n",
    "Сразу же в глаза бросаются неверные типы данных в столбцах `date` и `price`, а так же то, что в данных отсутствуют пропуски"
   ]
  },
  {
   "cell_type": "markdown",
   "metadata": {},
   "source": [
    "## Предобработка данных"
   ]
  },
  {
   "cell_type": "markdown",
   "metadata": {},
   "source": [
    "### Изменение типов данных в столбцах"
   ]
  },
  {
   "cell_type": "code",
   "execution_count": 5,
   "metadata": {},
   "outputs": [],
   "source": [
    "data['date'] = pd.to_datetime(data['date'], format = '%Y%m%d%H')\n",
    "data['price'] = data['price'].astype('int')"
   ]
  },
  {
   "cell_type": "code",
   "execution_count": 6,
   "metadata": {},
   "outputs": [
    {
     "name": "stdout",
     "output_type": "stream",
     "text": [
      "2018-10-01 00:00:00\n",
      "2020-01-31 15:00:00\n"
     ]
    }
   ],
   "source": [
    "print(data['date'].min())\n",
    "print(data['date'].max())"
   ]
  },
  {
   "cell_type": "markdown",
   "metadata": {},
   "source": [
    "Данные распределены по времени от 1 октября 2018 до 31 января 2020 года"
   ]
  },
  {
   "cell_type": "markdown",
   "metadata": {},
   "source": [
    "### Проверка на количество пропусков"
   ]
  },
  {
   "cell_type": "code",
   "execution_count": 7,
   "metadata": {},
   "outputs": [
    {
     "data": {
      "text/plain": [
       "date           0\n",
       "customer_id    0\n",
       "order_id       0\n",
       "product        0\n",
       "quantity       0\n",
       "price          0\n",
       "dtype: int64"
      ]
     },
     "execution_count": 7,
     "metadata": {},
     "output_type": "execute_result"
    }
   ],
   "source": [
    "data.isna().sum()"
   ]
  },
  {
   "cell_type": "markdown",
   "metadata": {},
   "source": [
    "Пропуски в данных отсутствуют"
   ]
  },
  {
   "cell_type": "markdown",
   "metadata": {},
   "source": [
    "### Выявление явных и неявных дубликатов"
   ]
  },
  {
   "cell_type": "code",
   "execution_count": 8,
   "metadata": {},
   "outputs": [
    {
     "data": {
      "text/plain": [
       "0"
      ]
     },
     "execution_count": 8,
     "metadata": {},
     "output_type": "execute_result"
    }
   ],
   "source": [
    "data.duplicated().sum()"
   ]
  },
  {
   "cell_type": "markdown",
   "metadata": {},
   "source": [
    "Явные дубликаты в данных отсутствуют. Попробуем поискать неявные дубликаты с помощью столбцов с заказами и товарами. Если в одном заказе куплено несколько штук одного товара, они должны быть в одной строке с увеличением количества."
   ]
  },
  {
   "cell_type": "code",
   "execution_count": 9,
   "metadata": {},
   "outputs": [
    {
     "data": {
      "text/html": [
       "<div>\n",
       "<style scoped>\n",
       "    .dataframe tbody tr th:only-of-type {\n",
       "        vertical-align: middle;\n",
       "    }\n",
       "\n",
       "    .dataframe tbody tr th {\n",
       "        vertical-align: top;\n",
       "    }\n",
       "\n",
       "    .dataframe thead th {\n",
       "        text-align: right;\n",
       "    }\n",
       "</style>\n",
       "<table border=\"1\" class=\"dataframe\">\n",
       "  <thead>\n",
       "    <tr style=\"text-align: right;\">\n",
       "      <th></th>\n",
       "      <th>date</th>\n",
       "      <th>customer_id</th>\n",
       "      <th>order_id</th>\n",
       "      <th>product</th>\n",
       "      <th>quantity</th>\n",
       "      <th>price</th>\n",
       "    </tr>\n",
       "  </thead>\n",
       "  <tbody>\n",
       "    <tr>\n",
       "      <th>15</th>\n",
       "      <td>2018-10-01 18:00:00</td>\n",
       "      <td>17213b88-1514-47a4-b8aa-ce51378ab34e</td>\n",
       "      <td>68476</td>\n",
       "      <td>Мини-сковорода Marmiton \"Сердце\" с антипригарн...</td>\n",
       "      <td>1</td>\n",
       "      <td>239</td>\n",
       "    </tr>\n",
       "    <tr>\n",
       "      <th>16</th>\n",
       "      <td>2018-10-01 18:00:00</td>\n",
       "      <td>17213b88-1514-47a4-b8aa-ce51378ab34e</td>\n",
       "      <td>68476</td>\n",
       "      <td>Сковорода алюминиевая с антипригарным покрытие...</td>\n",
       "      <td>1</td>\n",
       "      <td>824</td>\n",
       "    </tr>\n",
       "    <tr>\n",
       "      <th>17</th>\n",
       "      <td>2018-10-01 18:00:00</td>\n",
       "      <td>17213b88-1514-47a4-b8aa-ce51378ab34e</td>\n",
       "      <td>68476</td>\n",
       "      <td>Стеклянная крышка для сковороды ALPENKOK 26 см...</td>\n",
       "      <td>1</td>\n",
       "      <td>262</td>\n",
       "    </tr>\n",
       "    <tr>\n",
       "      <th>18</th>\n",
       "      <td>2018-10-01 18:00:00</td>\n",
       "      <td>17213b88-1514-47a4-b8aa-ce51378ab34e</td>\n",
       "      <td>68476</td>\n",
       "      <td>Сушилка для белья напольная Colombo Star 18, 3679</td>\n",
       "      <td>1</td>\n",
       "      <td>1049</td>\n",
       "    </tr>\n",
       "    <tr>\n",
       "      <th>19</th>\n",
       "      <td>2018-10-01 21:00:00</td>\n",
       "      <td>b731df05-98fa-4610-8496-716ec530a02c</td>\n",
       "      <td>68474</td>\n",
       "      <td>Доска гладильная Eurogold Professional 130х48 ...</td>\n",
       "      <td>1</td>\n",
       "      <td>3299</td>\n",
       "    </tr>\n",
       "    <tr>\n",
       "      <th>58</th>\n",
       "      <td>2018-10-02 18:00:00</td>\n",
       "      <td>b731df05-98fa-4610-8496-716ec530a02c</td>\n",
       "      <td>68474</td>\n",
       "      <td>Доска гладильная Eurogold Professional 130х48 ...</td>\n",
       "      <td>1</td>\n",
       "      <td>3299</td>\n",
       "    </tr>\n",
       "    <tr>\n",
       "      <th>59</th>\n",
       "      <td>2018-10-02 19:00:00</td>\n",
       "      <td>b731df05-98fa-4610-8496-716ec530a02c</td>\n",
       "      <td>68474</td>\n",
       "      <td>Доска гладильная Eurogold Professional 130х48 ...</td>\n",
       "      <td>1</td>\n",
       "      <td>3299</td>\n",
       "    </tr>\n",
       "    <tr>\n",
       "      <th>60</th>\n",
       "      <td>2018-10-02 20:00:00</td>\n",
       "      <td>b731df05-98fa-4610-8496-716ec530a02c</td>\n",
       "      <td>68474</td>\n",
       "      <td>Доска гладильная Eurogold Professional 130х48 ...</td>\n",
       "      <td>1</td>\n",
       "      <td>3299</td>\n",
       "    </tr>\n",
       "    <tr>\n",
       "      <th>63</th>\n",
       "      <td>2018-10-03 04:00:00</td>\n",
       "      <td>b731df05-98fa-4610-8496-716ec530a02c</td>\n",
       "      <td>68474</td>\n",
       "      <td>Доска гладильная Eurogold Professional 130х48 ...</td>\n",
       "      <td>1</td>\n",
       "      <td>3299</td>\n",
       "    </tr>\n",
       "    <tr>\n",
       "      <th>80</th>\n",
       "      <td>2018-10-04 09:00:00</td>\n",
       "      <td>32de7df8-8d4f-4c84-a7b9-c41d00dd83ba</td>\n",
       "      <td>68522</td>\n",
       "      <td>Эвкалипт Гунни d-17 см h-60 см</td>\n",
       "      <td>1</td>\n",
       "      <td>1409</td>\n",
       "    </tr>\n",
       "    <tr>\n",
       "      <th>94</th>\n",
       "      <td>2018-10-04 13:00:00</td>\n",
       "      <td>32de7df8-8d4f-4c84-a7b9-c41d00dd83ba</td>\n",
       "      <td>68522</td>\n",
       "      <td>Эвкалипт Гунни d-17 см h-60 см</td>\n",
       "      <td>1</td>\n",
       "      <td>1409</td>\n",
       "    </tr>\n",
       "    <tr>\n",
       "      <th>102</th>\n",
       "      <td>2018-10-05 00:00:00</td>\n",
       "      <td>b80e4826-7218-4bf9-ac08-eb2c81ab3f62</td>\n",
       "      <td>13547</td>\n",
       "      <td>Рассада зелени для кухни Лаванды в кассете по ...</td>\n",
       "      <td>1</td>\n",
       "      <td>315</td>\n",
       "    </tr>\n",
       "    <tr>\n",
       "      <th>103</th>\n",
       "      <td>2018-10-05 00:00:00</td>\n",
       "      <td>b80e4826-7218-4bf9-ac08-eb2c81ab3f62</td>\n",
       "      <td>13547</td>\n",
       "      <td>Рассада зелени для кухни Розмарина в кассете п...</td>\n",
       "      <td>1</td>\n",
       "      <td>207</td>\n",
       "    </tr>\n",
       "    <tr>\n",
       "      <th>104</th>\n",
       "      <td>2018-10-05 00:00:00</td>\n",
       "      <td>b80e4826-7218-4bf9-ac08-eb2c81ab3f62</td>\n",
       "      <td>13547</td>\n",
       "      <td>Рассада зелени для кухни Тимьяна в кассете по ...</td>\n",
       "      <td>1</td>\n",
       "      <td>162</td>\n",
       "    </tr>\n",
       "    <tr>\n",
       "      <th>124</th>\n",
       "      <td>2018-10-07 16:00:00</td>\n",
       "      <td>ce0e0c29-8c8b-4714-84bd-80957224d4cf</td>\n",
       "      <td>68557</td>\n",
       "      <td>Сумка-тележка хозяйственная Gimi Market синяя</td>\n",
       "      <td>1</td>\n",
       "      <td>1874</td>\n",
       "    </tr>\n",
       "    <tr>\n",
       "      <th>126</th>\n",
       "      <td>2018-10-07 17:00:00</td>\n",
       "      <td>ce0e0c29-8c8b-4714-84bd-80957224d4cf</td>\n",
       "      <td>68557</td>\n",
       "      <td>Сумка-тележка хозяйственная Gimi Market синяя</td>\n",
       "      <td>1</td>\n",
       "      <td>1874</td>\n",
       "    </tr>\n",
       "    <tr>\n",
       "      <th>140</th>\n",
       "      <td>2018-10-08 15:00:00</td>\n",
       "      <td>3de09660-90bc-4a28-aaf1-34c8435fe59c</td>\n",
       "      <td>68574</td>\n",
       "      <td>Таз пластмассовый 15,0 л пищевой овальный \"Ekk...</td>\n",
       "      <td>1</td>\n",
       "      <td>209</td>\n",
       "    </tr>\n",
       "    <tr>\n",
       "      <th>141</th>\n",
       "      <td>2018-10-08 15:00:00</td>\n",
       "      <td>3de09660-90bc-4a28-aaf1-34c8435fe59c</td>\n",
       "      <td>68574</td>\n",
       "      <td>Таз пластмассовый 18,0 л пищевой (Иж), 1404047</td>\n",
       "      <td>1</td>\n",
       "      <td>194</td>\n",
       "    </tr>\n",
       "    <tr>\n",
       "      <th>142</th>\n",
       "      <td>2018-10-08 15:00:00</td>\n",
       "      <td>3de09660-90bc-4a28-aaf1-34c8435fe59c</td>\n",
       "      <td>68574</td>\n",
       "      <td>Таз пластмассовый 20,0 л пищевой (Минеральные ...</td>\n",
       "      <td>1</td>\n",
       "      <td>277</td>\n",
       "    </tr>\n",
       "    <tr>\n",
       "      <th>143</th>\n",
       "      <td>2018-10-08 15:00:00</td>\n",
       "      <td>3de09660-90bc-4a28-aaf1-34c8435fe59c</td>\n",
       "      <td>68574</td>\n",
       "      <td>Таз пластмассовый 24,0 л пищевой круглый (Иж),...</td>\n",
       "      <td>1</td>\n",
       "      <td>239</td>\n",
       "    </tr>\n",
       "    <tr>\n",
       "      <th>147</th>\n",
       "      <td>2018-10-08 19:00:00</td>\n",
       "      <td>3de09660-90bc-4a28-aaf1-34c8435fe59c</td>\n",
       "      <td>68574</td>\n",
       "      <td>Таз пластмассовый 15,0 л пищевой овальный \"Ekk...</td>\n",
       "      <td>1</td>\n",
       "      <td>209</td>\n",
       "    </tr>\n",
       "    <tr>\n",
       "      <th>148</th>\n",
       "      <td>2018-10-08 19:00:00</td>\n",
       "      <td>3de09660-90bc-4a28-aaf1-34c8435fe59c</td>\n",
       "      <td>68574</td>\n",
       "      <td>Таз пластмассовый 18,0 л пищевой (Иж), 1404047</td>\n",
       "      <td>1</td>\n",
       "      <td>194</td>\n",
       "    </tr>\n",
       "    <tr>\n",
       "      <th>149</th>\n",
       "      <td>2018-10-08 19:00:00</td>\n",
       "      <td>3de09660-90bc-4a28-aaf1-34c8435fe59c</td>\n",
       "      <td>68574</td>\n",
       "      <td>Таз пластмассовый 20,0 л пищевой (Минеральные ...</td>\n",
       "      <td>1</td>\n",
       "      <td>277</td>\n",
       "    </tr>\n",
       "    <tr>\n",
       "      <th>150</th>\n",
       "      <td>2018-10-08 19:00:00</td>\n",
       "      <td>3de09660-90bc-4a28-aaf1-34c8435fe59c</td>\n",
       "      <td>68574</td>\n",
       "      <td>Таз пластмассовый 24,0 л пищевой круглый (Иж),...</td>\n",
       "      <td>1</td>\n",
       "      <td>239</td>\n",
       "    </tr>\n",
       "    <tr>\n",
       "      <th>152</th>\n",
       "      <td>2018-10-09 06:00:00</td>\n",
       "      <td>3de09660-90bc-4a28-aaf1-34c8435fe59c</td>\n",
       "      <td>68574</td>\n",
       "      <td>Таз пластмассовый 15,0 л пищевой овальный \"Ekk...</td>\n",
       "      <td>1</td>\n",
       "      <td>209</td>\n",
       "    </tr>\n",
       "    <tr>\n",
       "      <th>153</th>\n",
       "      <td>2018-10-09 06:00:00</td>\n",
       "      <td>3de09660-90bc-4a28-aaf1-34c8435fe59c</td>\n",
       "      <td>68574</td>\n",
       "      <td>Таз пластмассовый 18,0 л пищевой (Иж), 1404047</td>\n",
       "      <td>1</td>\n",
       "      <td>194</td>\n",
       "    </tr>\n",
       "    <tr>\n",
       "      <th>154</th>\n",
       "      <td>2018-10-09 06:00:00</td>\n",
       "      <td>3de09660-90bc-4a28-aaf1-34c8435fe59c</td>\n",
       "      <td>68574</td>\n",
       "      <td>Таз пластмассовый 20,0 л пищевой (Минеральные ...</td>\n",
       "      <td>1</td>\n",
       "      <td>277</td>\n",
       "    </tr>\n",
       "    <tr>\n",
       "      <th>155</th>\n",
       "      <td>2018-10-09 06:00:00</td>\n",
       "      <td>3de09660-90bc-4a28-aaf1-34c8435fe59c</td>\n",
       "      <td>68574</td>\n",
       "      <td>Таз пластмассовый 24,0 л пищевой круглый (Иж),...</td>\n",
       "      <td>1</td>\n",
       "      <td>239</td>\n",
       "    </tr>\n",
       "    <tr>\n",
       "      <th>211</th>\n",
       "      <td>2018-10-11 14:00:00</td>\n",
       "      <td>cd09ea73-d9ce-48c3-b4c5-018113735e80</td>\n",
       "      <td>68611</td>\n",
       "      <td>Крепеж для пружины дверной, 1107055</td>\n",
       "      <td>150</td>\n",
       "      <td>19</td>\n",
       "    </tr>\n",
       "    <tr>\n",
       "      <th>212</th>\n",
       "      <td>2018-10-11 14:00:00</td>\n",
       "      <td>cd09ea73-d9ce-48c3-b4c5-018113735e80</td>\n",
       "      <td>68611</td>\n",
       "      <td>Пружина дверная 240 мм оцинкованная (Д-19 мм) ...</td>\n",
       "      <td>150</td>\n",
       "      <td>38</td>\n",
       "    </tr>\n",
       "  </tbody>\n",
       "</table>\n",
       "</div>"
      ],
      "text/plain": [
       "                   date                           customer_id  order_id  \\\n",
       "15  2018-10-01 18:00:00  17213b88-1514-47a4-b8aa-ce51378ab34e     68476   \n",
       "16  2018-10-01 18:00:00  17213b88-1514-47a4-b8aa-ce51378ab34e     68476   \n",
       "17  2018-10-01 18:00:00  17213b88-1514-47a4-b8aa-ce51378ab34e     68476   \n",
       "18  2018-10-01 18:00:00  17213b88-1514-47a4-b8aa-ce51378ab34e     68476   \n",
       "19  2018-10-01 21:00:00  b731df05-98fa-4610-8496-716ec530a02c     68474   \n",
       "58  2018-10-02 18:00:00  b731df05-98fa-4610-8496-716ec530a02c     68474   \n",
       "59  2018-10-02 19:00:00  b731df05-98fa-4610-8496-716ec530a02c     68474   \n",
       "60  2018-10-02 20:00:00  b731df05-98fa-4610-8496-716ec530a02c     68474   \n",
       "63  2018-10-03 04:00:00  b731df05-98fa-4610-8496-716ec530a02c     68474   \n",
       "80  2018-10-04 09:00:00  32de7df8-8d4f-4c84-a7b9-c41d00dd83ba     68522   \n",
       "94  2018-10-04 13:00:00  32de7df8-8d4f-4c84-a7b9-c41d00dd83ba     68522   \n",
       "102 2018-10-05 00:00:00  b80e4826-7218-4bf9-ac08-eb2c81ab3f62     13547   \n",
       "103 2018-10-05 00:00:00  b80e4826-7218-4bf9-ac08-eb2c81ab3f62     13547   \n",
       "104 2018-10-05 00:00:00  b80e4826-7218-4bf9-ac08-eb2c81ab3f62     13547   \n",
       "124 2018-10-07 16:00:00  ce0e0c29-8c8b-4714-84bd-80957224d4cf     68557   \n",
       "126 2018-10-07 17:00:00  ce0e0c29-8c8b-4714-84bd-80957224d4cf     68557   \n",
       "140 2018-10-08 15:00:00  3de09660-90bc-4a28-aaf1-34c8435fe59c     68574   \n",
       "141 2018-10-08 15:00:00  3de09660-90bc-4a28-aaf1-34c8435fe59c     68574   \n",
       "142 2018-10-08 15:00:00  3de09660-90bc-4a28-aaf1-34c8435fe59c     68574   \n",
       "143 2018-10-08 15:00:00  3de09660-90bc-4a28-aaf1-34c8435fe59c     68574   \n",
       "147 2018-10-08 19:00:00  3de09660-90bc-4a28-aaf1-34c8435fe59c     68574   \n",
       "148 2018-10-08 19:00:00  3de09660-90bc-4a28-aaf1-34c8435fe59c     68574   \n",
       "149 2018-10-08 19:00:00  3de09660-90bc-4a28-aaf1-34c8435fe59c     68574   \n",
       "150 2018-10-08 19:00:00  3de09660-90bc-4a28-aaf1-34c8435fe59c     68574   \n",
       "152 2018-10-09 06:00:00  3de09660-90bc-4a28-aaf1-34c8435fe59c     68574   \n",
       "153 2018-10-09 06:00:00  3de09660-90bc-4a28-aaf1-34c8435fe59c     68574   \n",
       "154 2018-10-09 06:00:00  3de09660-90bc-4a28-aaf1-34c8435fe59c     68574   \n",
       "155 2018-10-09 06:00:00  3de09660-90bc-4a28-aaf1-34c8435fe59c     68574   \n",
       "211 2018-10-11 14:00:00  cd09ea73-d9ce-48c3-b4c5-018113735e80     68611   \n",
       "212 2018-10-11 14:00:00  cd09ea73-d9ce-48c3-b4c5-018113735e80     68611   \n",
       "\n",
       "                                               product  quantity  price  \n",
       "15   Мини-сковорода Marmiton \"Сердце\" с антипригарн...         1    239  \n",
       "16   Сковорода алюминиевая с антипригарным покрытие...         1    824  \n",
       "17   Стеклянная крышка для сковороды ALPENKOK 26 см...         1    262  \n",
       "18   Сушилка для белья напольная Colombo Star 18, 3679         1   1049  \n",
       "19   Доска гладильная Eurogold Professional 130х48 ...         1   3299  \n",
       "58   Доска гладильная Eurogold Professional 130х48 ...         1   3299  \n",
       "59   Доска гладильная Eurogold Professional 130х48 ...         1   3299  \n",
       "60   Доска гладильная Eurogold Professional 130х48 ...         1   3299  \n",
       "63   Доска гладильная Eurogold Professional 130х48 ...         1   3299  \n",
       "80                      Эвкалипт Гунни d-17 см h-60 см         1   1409  \n",
       "94                      Эвкалипт Гунни d-17 см h-60 см         1   1409  \n",
       "102  Рассада зелени для кухни Лаванды в кассете по ...         1    315  \n",
       "103  Рассада зелени для кухни Розмарина в кассете п...         1    207  \n",
       "104  Рассада зелени для кухни Тимьяна в кассете по ...         1    162  \n",
       "124      Сумка-тележка хозяйственная Gimi Market синяя         1   1874  \n",
       "126      Сумка-тележка хозяйственная Gimi Market синяя         1   1874  \n",
       "140  Таз пластмассовый 15,0 л пищевой овальный \"Ekk...         1    209  \n",
       "141     Таз пластмассовый 18,0 л пищевой (Иж), 1404047         1    194  \n",
       "142  Таз пластмассовый 20,0 л пищевой (Минеральные ...         1    277  \n",
       "143  Таз пластмассовый 24,0 л пищевой круглый (Иж),...         1    239  \n",
       "147  Таз пластмассовый 15,0 л пищевой овальный \"Ekk...         1    209  \n",
       "148     Таз пластмассовый 18,0 л пищевой (Иж), 1404047         1    194  \n",
       "149  Таз пластмассовый 20,0 л пищевой (Минеральные ...         1    277  \n",
       "150  Таз пластмассовый 24,0 л пищевой круглый (Иж),...         1    239  \n",
       "152  Таз пластмассовый 15,0 л пищевой овальный \"Ekk...         1    209  \n",
       "153     Таз пластмассовый 18,0 л пищевой (Иж), 1404047         1    194  \n",
       "154  Таз пластмассовый 20,0 л пищевой (Минеральные ...         1    277  \n",
       "155  Таз пластмассовый 24,0 л пищевой круглый (Иж),...         1    239  \n",
       "211                Крепеж для пружины дверной, 1107055       150     19  \n",
       "212  Пружина дверная 240 мм оцинкованная (Д-19 мм) ...       150     38  "
      ]
     },
     "execution_count": 9,
     "metadata": {},
     "output_type": "execute_result"
    }
   ],
   "source": [
    "data[data.duplicated(subset=['product', 'order_id', 'customer_id'], keep=False)].head(30)"
   ]
  },
  {
   "cell_type": "markdown",
   "metadata": {},
   "source": [
    "Мы действительно обнаружили строки, в которых внутри одного заказа встречались дубликаты товаров. Возник вопрос: являются ли эти дубликаты следствием ошибки выгрузки, либо это товары были куплены в некотором количестве, но записаны в разные строки? Взглянув подробнее на некоторые подобные заказы, мы склонны полагать, что это все-таки ошибка выгрузки. Особенно сильно это заметно, например, в строках 140-155 таблицы выше. Мы видим, что в заказ добавлены пластмассовые тазы разного объема, а затем все те же тазы в таком же порядке и количестве задублированы еще раз. От подобных дубликатов мы решаем избавиться"
   ]
  },
  {
   "cell_type": "code",
   "execution_count": 10,
   "metadata": {},
   "outputs": [],
   "source": [
    "data.drop_duplicates(subset=['order_id', 'product'], keep='first', inplace=True)"
   ]
  },
  {
   "cell_type": "markdown",
   "metadata": {},
   "source": [
    "Теперь проверим, чтобы в наших данных у каждого заказа был лишь один пользователь"
   ]
  },
  {
   "cell_type": "code",
   "execution_count": 11,
   "metadata": {},
   "outputs": [
    {
     "name": "stdout",
     "output_type": "stream",
     "text": [
      "Есть заказы с несколькими пользователями:\n",
      "     order_id  customer_id\n",
      "902     69485            2\n"
     ]
    }
   ],
   "source": [
    "duplicate_orders = data.groupby('order_id')['customer_id'].nunique().reset_index()\n",
    "multiple_customers = duplicate_orders[duplicate_orders['customer_id'] > 1]\n",
    "if not multiple_customers.empty:\n",
    "    print(\"Есть заказы с несколькими пользователями:\")\n",
    "    print(multiple_customers)\n",
    "else:\n",
    "    print(\"Все заказы относятся только к одному пользователю.\")\n"
   ]
  },
  {
   "cell_type": "markdown",
   "metadata": {},
   "source": [
    "Обнаружился один заказ, у которого указано два пользователя. Взглянем на этот заказ подробнее"
   ]
  },
  {
   "cell_type": "code",
   "execution_count": 12,
   "metadata": {},
   "outputs": [
    {
     "data": {
      "text/html": [
       "<div>\n",
       "<style scoped>\n",
       "    .dataframe tbody tr th:only-of-type {\n",
       "        vertical-align: middle;\n",
       "    }\n",
       "\n",
       "    .dataframe tbody tr th {\n",
       "        vertical-align: top;\n",
       "    }\n",
       "\n",
       "    .dataframe thead th {\n",
       "        text-align: right;\n",
       "    }\n",
       "</style>\n",
       "<table border=\"1\" class=\"dataframe\">\n",
       "  <thead>\n",
       "    <tr style=\"text-align: right;\">\n",
       "      <th></th>\n",
       "      <th>date</th>\n",
       "      <th>customer_id</th>\n",
       "      <th>order_id</th>\n",
       "      <th>product</th>\n",
       "      <th>quantity</th>\n",
       "      <th>price</th>\n",
       "    </tr>\n",
       "  </thead>\n",
       "  <tbody>\n",
       "    <tr>\n",
       "      <th>1282</th>\n",
       "      <td>2018-12-20 16:00:00</td>\n",
       "      <td>5be0f4b4-947f-4672-b147-73ef5936ecd4</td>\n",
       "      <td>69485</td>\n",
       "      <td>Набор столовых приборов 24 предмета SAINT GERM...</td>\n",
       "      <td>1</td>\n",
       "      <td>1087</td>\n",
       "    </tr>\n",
       "    <tr>\n",
       "      <th>1292</th>\n",
       "      <td>2018-12-21 11:00:00</td>\n",
       "      <td>266beb08-ec9b-43b4-89bb-ac60fa23ffee</td>\n",
       "      <td>69485</td>\n",
       "      <td>Набор столовых приборов 24 предмета FARANDOLE ...</td>\n",
       "      <td>1</td>\n",
       "      <td>1274</td>\n",
       "    </tr>\n",
       "  </tbody>\n",
       "</table>\n",
       "</div>"
      ],
      "text/plain": [
       "                    date                           customer_id  order_id  \\\n",
       "1282 2018-12-20 16:00:00  5be0f4b4-947f-4672-b147-73ef5936ecd4     69485   \n",
       "1292 2018-12-21 11:00:00  266beb08-ec9b-43b4-89bb-ac60fa23ffee     69485   \n",
       "\n",
       "                                                product  quantity  price  \n",
       "1282  Набор столовых приборов 24 предмета SAINT GERM...         1   1087  \n",
       "1292  Набор столовых приборов 24 предмета FARANDOLE ...         1   1274  "
      ]
     },
     "execution_count": 12,
     "metadata": {},
     "output_type": "execute_result"
    }
   ],
   "source": [
    "data.query('order_id == 69485')"
   ]
  },
  {
   "cell_type": "markdown",
   "metadata": {},
   "source": [
    "С разницей в один день в заказ был добавлен другой товар другим пользователем."
   ]
  },
  {
   "cell_type": "code",
   "execution_count": 13,
   "metadata": {},
   "outputs": [
    {
     "data": {
      "text/html": [
       "<div>\n",
       "<style scoped>\n",
       "    .dataframe tbody tr th:only-of-type {\n",
       "        vertical-align: middle;\n",
       "    }\n",
       "\n",
       "    .dataframe tbody tr th {\n",
       "        vertical-align: top;\n",
       "    }\n",
       "\n",
       "    .dataframe thead th {\n",
       "        text-align: right;\n",
       "    }\n",
       "</style>\n",
       "<table border=\"1\" class=\"dataframe\">\n",
       "  <thead>\n",
       "    <tr style=\"text-align: right;\">\n",
       "      <th></th>\n",
       "      <th>date</th>\n",
       "      <th>customer_id</th>\n",
       "      <th>order_id</th>\n",
       "      <th>product</th>\n",
       "      <th>quantity</th>\n",
       "      <th>price</th>\n",
       "    </tr>\n",
       "  </thead>\n",
       "  <tbody>\n",
       "    <tr>\n",
       "      <th>1292</th>\n",
       "      <td>2018-12-21 11:00:00</td>\n",
       "      <td>266beb08-ec9b-43b4-89bb-ac60fa23ffee</td>\n",
       "      <td>69485</td>\n",
       "      <td>Набор столовых приборов 24 предмета FARANDOLE ...</td>\n",
       "      <td>1</td>\n",
       "      <td>1274</td>\n",
       "    </tr>\n",
       "  </tbody>\n",
       "</table>\n",
       "</div>"
      ],
      "text/plain": [
       "                    date                           customer_id  order_id  \\\n",
       "1292 2018-12-21 11:00:00  266beb08-ec9b-43b4-89bb-ac60fa23ffee     69485   \n",
       "\n",
       "                                                product  quantity  price  \n",
       "1292  Набор столовых приборов 24 предмета FARANDOLE ...         1   1274  "
      ]
     },
     "execution_count": 13,
     "metadata": {},
     "output_type": "execute_result"
    }
   ],
   "source": [
    "data.query('customer_id == \"266beb08-ec9b-43b4-89bb-ac60fa23ffee\"')"
   ]
  },
  {
   "cell_type": "markdown",
   "metadata": {},
   "source": [
    "Поскольку это единственный заказ данного пользователя за все время пользования интернет-магазином, данный заказ выглядит скорее как очень странная ошибка выгрузки данных. Избавимся от него."
   ]
  },
  {
   "cell_type": "code",
   "execution_count": 14,
   "metadata": {},
   "outputs": [],
   "source": [
    "data = data.query('customer_id != \"266beb08-ec9b-43b4-89bb-ac60fa23ffee\"')"
   ]
  },
  {
   "cell_type": "markdown",
   "metadata": {},
   "source": [
    "### Поиск аномалий"
   ]
  },
  {
   "cell_type": "markdown",
   "metadata": {},
   "source": [
    "В качестве аномалий постараемся поискать аномально дорогие товары, заказы с аномально большим количеством единоразово купленных товаров, а так же пользователей, сделавших аномально много заказов."
   ]
  },
  {
   "cell_type": "code",
   "execution_count": 15,
   "metadata": {},
   "outputs": [
    {
     "data": {
      "text/html": [
       "<div>\n",
       "<style scoped>\n",
       "    .dataframe tbody tr th:only-of-type {\n",
       "        vertical-align: middle;\n",
       "    }\n",
       "\n",
       "    .dataframe tbody tr th {\n",
       "        vertical-align: top;\n",
       "    }\n",
       "\n",
       "    .dataframe thead th {\n",
       "        text-align: right;\n",
       "    }\n",
       "</style>\n",
       "<table border=\"1\" class=\"dataframe\">\n",
       "  <thead>\n",
       "    <tr style=\"text-align: right;\">\n",
       "      <th></th>\n",
       "      <th>date</th>\n",
       "      <th>customer_id</th>\n",
       "      <th>order_id</th>\n",
       "      <th>product</th>\n",
       "      <th>quantity</th>\n",
       "      <th>price</th>\n",
       "    </tr>\n",
       "  </thead>\n",
       "  <tbody>\n",
       "    <tr>\n",
       "      <th>5992</th>\n",
       "      <td>2019-07-29 17:00:00</td>\n",
       "      <td>0d87f4ae-465a-4fac-81e6-5d629761783e</td>\n",
       "      <td>72139</td>\n",
       "      <td>Сушилка уличная Leifheit 85210 LINOMATIC V 400...</td>\n",
       "      <td>1</td>\n",
       "      <td>14917</td>\n",
       "    </tr>\n",
       "    <tr>\n",
       "      <th>2697</th>\n",
       "      <td>2019-04-05 19:00:00</td>\n",
       "      <td>c0c60544-3a99-49d0-8a8e-cf7f293c22cb</td>\n",
       "      <td>71035</td>\n",
       "      <td>Сумка-тележка хозяйственная Andersen Royal Sho...</td>\n",
       "      <td>1</td>\n",
       "      <td>8737</td>\n",
       "    </tr>\n",
       "    <tr>\n",
       "      <th>1981</th>\n",
       "      <td>2019-02-24 10:00:00</td>\n",
       "      <td>ac250053-a236-467a-97d2-ddbb9bf4a1ba</td>\n",
       "      <td>70423</td>\n",
       "      <td>Сумка-тележка хозяйственная Andersen Alu Star ...</td>\n",
       "      <td>1</td>\n",
       "      <td>8437</td>\n",
       "    </tr>\n",
       "    <tr>\n",
       "      <th>2997</th>\n",
       "      <td>2019-04-21 16:00:00</td>\n",
       "      <td>19d904d8-8d16-476d-8f66-b2a3b7a23660</td>\n",
       "      <td>71227</td>\n",
       "      <td>Сумка-тележка хозяйственная Rolser MNB019 rojo...</td>\n",
       "      <td>1</td>\n",
       "      <td>8077</td>\n",
       "    </tr>\n",
       "    <tr>\n",
       "      <th>7436</th>\n",
       "      <td>2020-01-26 19:00:00</td>\n",
       "      <td>04416514-5346-4f90-93e3-fb7365e2ee8c</td>\n",
       "      <td>109758</td>\n",
       "      <td>Сумка-тележка хозяйственная Rolser MNB019 rojo...</td>\n",
       "      <td>1</td>\n",
       "      <td>8077</td>\n",
       "    </tr>\n",
       "    <tr>\n",
       "      <th>6629</th>\n",
       "      <td>2019-10-16 15:00:00</td>\n",
       "      <td>d5584388-ffbe-42fd-a746-a98828ec919f</td>\n",
       "      <td>72992</td>\n",
       "      <td>Стремянка 7 ступенчатая Hailo 8040-707 XXL 13 ...</td>\n",
       "      <td>1</td>\n",
       "      <td>7724</td>\n",
       "    </tr>\n",
       "    <tr>\n",
       "      <th>2339</th>\n",
       "      <td>2019-03-14 18:00:00</td>\n",
       "      <td>27d4ce42-352b-4756-bf5b-8724e05d5131</td>\n",
       "      <td>70740</td>\n",
       "      <td>Сумка-тележка хозяйственная Rolser IMX006 bass...</td>\n",
       "      <td>1</td>\n",
       "      <td>7679</td>\n",
       "    </tr>\n",
       "    <tr>\n",
       "      <th>7190</th>\n",
       "      <td>2019-12-31 10:00:00</td>\n",
       "      <td>f279d50f-a508-40b4-bde5-5cb4a1be3ad0</td>\n",
       "      <td>107812</td>\n",
       "      <td>Сумка-тележка хозяйственная Rolser IMX006 bass...</td>\n",
       "      <td>2</td>\n",
       "      <td>7679</td>\n",
       "    </tr>\n",
       "    <tr>\n",
       "      <th>5994</th>\n",
       "      <td>2019-07-30 01:00:00</td>\n",
       "      <td>e2fe6b48-1955-4882-925c-733f545df026</td>\n",
       "      <td>72140</td>\n",
       "      <td>Сумка-тележка хозяйственная Rolser MNB017 fucs...</td>\n",
       "      <td>1</td>\n",
       "      <td>7679</td>\n",
       "    </tr>\n",
       "    <tr>\n",
       "      <th>654</th>\n",
       "      <td>2018-11-05 22:00:00</td>\n",
       "      <td>fc333417-1d11-4a2a-b946-0957ae0603e9</td>\n",
       "      <td>68872</td>\n",
       "      <td>Сумка-тележка хозяйственная Rolser MOU041 malv...</td>\n",
       "      <td>1</td>\n",
       "      <td>7597</td>\n",
       "    </tr>\n",
       "    <tr>\n",
       "      <th>6913</th>\n",
       "      <td>2019-11-24 15:00:00</td>\n",
       "      <td>ad66d870-22f5-43bc-958f-73420822586b</td>\n",
       "      <td>103766</td>\n",
       "      <td>Гладильная доска Leifheit AirBoard Compact M P...</td>\n",
       "      <td>1</td>\n",
       "      <td>7424</td>\n",
       "    </tr>\n",
       "    <tr>\n",
       "      <th>1241</th>\n",
       "      <td>2018-12-17 17:00:00</td>\n",
       "      <td>86c97bf1-c834-423e-9e38-8acda68f97e8</td>\n",
       "      <td>69417</td>\n",
       "      <td>Гладильная доска Leifheit AirBoard Compact M P...</td>\n",
       "      <td>1</td>\n",
       "      <td>7424</td>\n",
       "    </tr>\n",
       "    <tr>\n",
       "      <th>6169</th>\n",
       "      <td>2019-08-23 12:00:00</td>\n",
       "      <td>8d85f320-5f55-4647-814c-da1a6b21c2a4</td>\n",
       "      <td>72381</td>\n",
       "      <td>Урна уличная стальная Сальвадор 02.021.0 46х11...</td>\n",
       "      <td>1</td>\n",
       "      <td>7349</td>\n",
       "    </tr>\n",
       "    <tr>\n",
       "      <th>7272</th>\n",
       "      <td>2020-01-08 11:00:00</td>\n",
       "      <td>db6caedb-e231-4adc-bcd0-e45b8992f3da</td>\n",
       "      <td>107979</td>\n",
       "      <td>Автоматическая щетка Leifheit для мытья окон с...</td>\n",
       "      <td>1</td>\n",
       "      <td>7229</td>\n",
       "    </tr>\n",
       "    <tr>\n",
       "      <th>2976</th>\n",
       "      <td>2019-04-20 08:00:00</td>\n",
       "      <td>16838b36-762a-474d-bda4-bad95f8d7813</td>\n",
       "      <td>71209</td>\n",
       "      <td>Автоматическая щетка Leifheit для мытья окон с...</td>\n",
       "      <td>1</td>\n",
       "      <td>7229</td>\n",
       "    </tr>\n",
       "  </tbody>\n",
       "</table>\n",
       "</div>"
      ],
      "text/plain": [
       "                    date                           customer_id  order_id  \\\n",
       "5992 2019-07-29 17:00:00  0d87f4ae-465a-4fac-81e6-5d629761783e     72139   \n",
       "2697 2019-04-05 19:00:00  c0c60544-3a99-49d0-8a8e-cf7f293c22cb     71035   \n",
       "1981 2019-02-24 10:00:00  ac250053-a236-467a-97d2-ddbb9bf4a1ba     70423   \n",
       "2997 2019-04-21 16:00:00  19d904d8-8d16-476d-8f66-b2a3b7a23660     71227   \n",
       "7436 2020-01-26 19:00:00  04416514-5346-4f90-93e3-fb7365e2ee8c    109758   \n",
       "6629 2019-10-16 15:00:00  d5584388-ffbe-42fd-a746-a98828ec919f     72992   \n",
       "2339 2019-03-14 18:00:00  27d4ce42-352b-4756-bf5b-8724e05d5131     70740   \n",
       "7190 2019-12-31 10:00:00  f279d50f-a508-40b4-bde5-5cb4a1be3ad0    107812   \n",
       "5994 2019-07-30 01:00:00  e2fe6b48-1955-4882-925c-733f545df026     72140   \n",
       "654  2018-11-05 22:00:00  fc333417-1d11-4a2a-b946-0957ae0603e9     68872   \n",
       "6913 2019-11-24 15:00:00  ad66d870-22f5-43bc-958f-73420822586b    103766   \n",
       "1241 2018-12-17 17:00:00  86c97bf1-c834-423e-9e38-8acda68f97e8     69417   \n",
       "6169 2019-08-23 12:00:00  8d85f320-5f55-4647-814c-da1a6b21c2a4     72381   \n",
       "7272 2020-01-08 11:00:00  db6caedb-e231-4adc-bcd0-e45b8992f3da    107979   \n",
       "2976 2019-04-20 08:00:00  16838b36-762a-474d-bda4-bad95f8d7813     71209   \n",
       "\n",
       "                                                product  quantity  price  \n",
       "5992  Сушилка уличная Leifheit 85210 LINOMATIC V 400...         1  14917  \n",
       "2697  Сумка-тележка хозяйственная Andersen Royal Sho...         1   8737  \n",
       "1981  Сумка-тележка хозяйственная Andersen Alu Star ...         1   8437  \n",
       "2997  Сумка-тележка хозяйственная Rolser MNB019 rojo...         1   8077  \n",
       "7436  Сумка-тележка хозяйственная Rolser MNB019 rojo...         1   8077  \n",
       "6629  Стремянка 7 ступенчатая Hailo 8040-707 XXL 13 ...         1   7724  \n",
       "2339  Сумка-тележка хозяйственная Rolser IMX006 bass...         1   7679  \n",
       "7190  Сумка-тележка хозяйственная Rolser IMX006 bass...         2   7679  \n",
       "5994  Сумка-тележка хозяйственная Rolser MNB017 fucs...         1   7679  \n",
       "654   Сумка-тележка хозяйственная Rolser MOU041 malv...         1   7597  \n",
       "6913  Гладильная доска Leifheit AirBoard Compact M P...         1   7424  \n",
       "1241  Гладильная доска Leifheit AirBoard Compact M P...         1   7424  \n",
       "6169  Урна уличная стальная Сальвадор 02.021.0 46х11...         1   7349  \n",
       "7272  Автоматическая щетка Leifheit для мытья окон с...         1   7229  \n",
       "2976  Автоматическая щетка Leifheit для мытья окон с...         1   7229  "
      ]
     },
     "execution_count": 15,
     "metadata": {},
     "output_type": "execute_result"
    }
   ],
   "source": [
    "data.sort_values('price', ascending=False).head(15)"
   ]
  },
  {
   "cell_type": "markdown",
   "metadata": {},
   "source": [
    "Аномально дорогих товаров не обнаружено. В основном самые дорогие товары: сушилки, сумки-тележки, гладильные доски, урны и автоматические щетки"
   ]
  },
  {
   "cell_type": "code",
   "execution_count": 16,
   "metadata": {},
   "outputs": [
    {
     "data": {
      "text/html": [
       "<div>\n",
       "<style scoped>\n",
       "    .dataframe tbody tr th:only-of-type {\n",
       "        vertical-align: middle;\n",
       "    }\n",
       "\n",
       "    .dataframe tbody tr th {\n",
       "        vertical-align: top;\n",
       "    }\n",
       "\n",
       "    .dataframe thead th {\n",
       "        text-align: right;\n",
       "    }\n",
       "</style>\n",
       "<table border=\"1\" class=\"dataframe\">\n",
       "  <thead>\n",
       "    <tr style=\"text-align: right;\">\n",
       "      <th></th>\n",
       "      <th>date</th>\n",
       "      <th>customer_id</th>\n",
       "      <th>order_id</th>\n",
       "      <th>product</th>\n",
       "      <th>quantity</th>\n",
       "      <th>price</th>\n",
       "    </tr>\n",
       "  </thead>\n",
       "  <tbody>\n",
       "    <tr>\n",
       "      <th>5456</th>\n",
       "      <td>2019-06-18 15:00:00</td>\n",
       "      <td>312e9a3e-5fca-43ff-a6a1-892d2b2d5ba6</td>\n",
       "      <td>71743</td>\n",
       "      <td>Вантуз с деревянной ручкой d14 см красный, Bur...</td>\n",
       "      <td>1000</td>\n",
       "      <td>675</td>\n",
       "    </tr>\n",
       "    <tr>\n",
       "      <th>5071</th>\n",
       "      <td>2019-06-11 07:00:00</td>\n",
       "      <td>146cd9bf-a95c-4afb-915b-5f6684b17444</td>\n",
       "      <td>71668</td>\n",
       "      <td>Вешалки мягкие для деликатных вещей 3 шт шоколад</td>\n",
       "      <td>334</td>\n",
       "      <td>148</td>\n",
       "    </tr>\n",
       "    <tr>\n",
       "      <th>3961</th>\n",
       "      <td>2019-05-20 21:00:00</td>\n",
       "      <td>5d189e88-d4d6-4eac-ab43-fa65a3c4d106</td>\n",
       "      <td>71478</td>\n",
       "      <td>Муляж ЯБЛОКО 9 см красное</td>\n",
       "      <td>300</td>\n",
       "      <td>51</td>\n",
       "    </tr>\n",
       "    <tr>\n",
       "      <th>1158</th>\n",
       "      <td>2018-12-10 14:00:00</td>\n",
       "      <td>a984c5b7-ff7e-4647-b84e-ef0b85a2762d</td>\n",
       "      <td>69289</td>\n",
       "      <td>Ручка-скоба РС-100 белая *Трибатрон*, 1108035</td>\n",
       "      <td>200</td>\n",
       "      <td>29</td>\n",
       "    </tr>\n",
       "    <tr>\n",
       "      <th>568</th>\n",
       "      <td>2018-11-01 08:00:00</td>\n",
       "      <td>aa42dc38-780f-4b50-9a65-83b6fa64e766</td>\n",
       "      <td>68815</td>\n",
       "      <td>Муляж ЯБЛОКО 9 см красное</td>\n",
       "      <td>170</td>\n",
       "      <td>51</td>\n",
       "    </tr>\n",
       "    <tr>\n",
       "      <th>212</th>\n",
       "      <td>2018-10-11 14:00:00</td>\n",
       "      <td>cd09ea73-d9ce-48c3-b4c5-018113735e80</td>\n",
       "      <td>68611</td>\n",
       "      <td>Пружина дверная 240 мм оцинкованная (Д-19 мм) ...</td>\n",
       "      <td>150</td>\n",
       "      <td>38</td>\n",
       "    </tr>\n",
       "    <tr>\n",
       "      <th>2431</th>\n",
       "      <td>2019-03-23 10:00:00</td>\n",
       "      <td>685d3d84-aebb-485b-8e59-344b3df8b3d3</td>\n",
       "      <td>70841</td>\n",
       "      <td>Плечики пластмассовые Размер 52 - 54 Тула 1205158</td>\n",
       "      <td>150</td>\n",
       "      <td>20</td>\n",
       "    </tr>\n",
       "    <tr>\n",
       "      <th>211</th>\n",
       "      <td>2018-10-11 14:00:00</td>\n",
       "      <td>cd09ea73-d9ce-48c3-b4c5-018113735e80</td>\n",
       "      <td>68611</td>\n",
       "      <td>Крепеж для пружины дверной, 1107055</td>\n",
       "      <td>150</td>\n",
       "      <td>19</td>\n",
       "    </tr>\n",
       "    <tr>\n",
       "      <th>586</th>\n",
       "      <td>2018-11-02 11:00:00</td>\n",
       "      <td>0c5aaa88-e346-4f87-8f7a-ad8cbc04e965</td>\n",
       "      <td>68831</td>\n",
       "      <td>Муляж ЯБЛОКО 9 см красное</td>\n",
       "      <td>140</td>\n",
       "      <td>59</td>\n",
       "    </tr>\n",
       "    <tr>\n",
       "      <th>6707</th>\n",
       "      <td>2019-10-28 10:00:00</td>\n",
       "      <td>018fb729-3525-4314-8e4d-1982b1062f9f</td>\n",
       "      <td>73110</td>\n",
       "      <td>Шпингалет 80 мм белый с пружиной, 1102188</td>\n",
       "      <td>100</td>\n",
       "      <td>44</td>\n",
       "    </tr>\n",
       "    <tr>\n",
       "      <th>1555</th>\n",
       "      <td>2019-01-21 09:00:00</td>\n",
       "      <td>8eabcaca-e8c8-4eee-9079-4ff5f612273a</td>\n",
       "      <td>69893</td>\n",
       "      <td>Щетка для мытья посуды КОЛИБРИ М5202 большая</td>\n",
       "      <td>100</td>\n",
       "      <td>34</td>\n",
       "    </tr>\n",
       "    <tr>\n",
       "      <th>1103</th>\n",
       "      <td>2018-12-04 17:00:00</td>\n",
       "      <td>7d255526-fcc2-4f79-b28a-217d7d2373a8</td>\n",
       "      <td>69206</td>\n",
       "      <td>Щетка для посуды *ОЛЯ*, Мультипласт 1807010</td>\n",
       "      <td>100</td>\n",
       "      <td>26</td>\n",
       "    </tr>\n",
       "    <tr>\n",
       "      <th>6535</th>\n",
       "      <td>2019-10-07 11:00:00</td>\n",
       "      <td>d933280e-5372-448f-be44-b269c8bafc2a</td>\n",
       "      <td>72885</td>\n",
       "      <td>Крепеж для пружины дверной оцинкованный, 1107054</td>\n",
       "      <td>100</td>\n",
       "      <td>19</td>\n",
       "    </tr>\n",
       "    <tr>\n",
       "      <th>13</th>\n",
       "      <td>2018-10-01 15:00:00</td>\n",
       "      <td>0948b0c2-990b-4a11-b835-69ac4714b21d</td>\n",
       "      <td>68486</td>\n",
       "      <td>Крючок одежный 2-х рожковый серый металлик с п...</td>\n",
       "      <td>96</td>\n",
       "      <td>38</td>\n",
       "    </tr>\n",
       "    <tr>\n",
       "      <th>6367</th>\n",
       "      <td>2019-09-19 16:00:00</td>\n",
       "      <td>de95510f-3558-4c42-97dc-98cc4215c278</td>\n",
       "      <td>72698</td>\n",
       "      <td>Универсальный нож WEBBER из нержавеющей стали ...</td>\n",
       "      <td>80</td>\n",
       "      <td>45</td>\n",
       "    </tr>\n",
       "  </tbody>\n",
       "</table>\n",
       "</div>"
      ],
      "text/plain": [
       "                    date                           customer_id  order_id  \\\n",
       "5456 2019-06-18 15:00:00  312e9a3e-5fca-43ff-a6a1-892d2b2d5ba6     71743   \n",
       "5071 2019-06-11 07:00:00  146cd9bf-a95c-4afb-915b-5f6684b17444     71668   \n",
       "3961 2019-05-20 21:00:00  5d189e88-d4d6-4eac-ab43-fa65a3c4d106     71478   \n",
       "1158 2018-12-10 14:00:00  a984c5b7-ff7e-4647-b84e-ef0b85a2762d     69289   \n",
       "568  2018-11-01 08:00:00  aa42dc38-780f-4b50-9a65-83b6fa64e766     68815   \n",
       "212  2018-10-11 14:00:00  cd09ea73-d9ce-48c3-b4c5-018113735e80     68611   \n",
       "2431 2019-03-23 10:00:00  685d3d84-aebb-485b-8e59-344b3df8b3d3     70841   \n",
       "211  2018-10-11 14:00:00  cd09ea73-d9ce-48c3-b4c5-018113735e80     68611   \n",
       "586  2018-11-02 11:00:00  0c5aaa88-e346-4f87-8f7a-ad8cbc04e965     68831   \n",
       "6707 2019-10-28 10:00:00  018fb729-3525-4314-8e4d-1982b1062f9f     73110   \n",
       "1555 2019-01-21 09:00:00  8eabcaca-e8c8-4eee-9079-4ff5f612273a     69893   \n",
       "1103 2018-12-04 17:00:00  7d255526-fcc2-4f79-b28a-217d7d2373a8     69206   \n",
       "6535 2019-10-07 11:00:00  d933280e-5372-448f-be44-b269c8bafc2a     72885   \n",
       "13   2018-10-01 15:00:00  0948b0c2-990b-4a11-b835-69ac4714b21d     68486   \n",
       "6367 2019-09-19 16:00:00  de95510f-3558-4c42-97dc-98cc4215c278     72698   \n",
       "\n",
       "                                                product  quantity  price  \n",
       "5456  Вантуз с деревянной ручкой d14 см красный, Bur...      1000    675  \n",
       "5071   Вешалки мягкие для деликатных вещей 3 шт шоколад       334    148  \n",
       "3961                          Муляж ЯБЛОКО 9 см красное       300     51  \n",
       "1158      Ручка-скоба РС-100 белая *Трибатрон*, 1108035       200     29  \n",
       "568                           Муляж ЯБЛОКО 9 см красное       170     51  \n",
       "212   Пружина дверная 240 мм оцинкованная (Д-19 мм) ...       150     38  \n",
       "2431  Плечики пластмассовые Размер 52 - 54 Тула 1205158       150     20  \n",
       "211                 Крепеж для пружины дверной, 1107055       150     19  \n",
       "586                           Муляж ЯБЛОКО 9 см красное       140     59  \n",
       "6707          Шпингалет 80 мм белый с пружиной, 1102188       100     44  \n",
       "1555       Щетка для мытья посуды КОЛИБРИ М5202 большая       100     34  \n",
       "1103        Щетка для посуды *ОЛЯ*, Мультипласт 1807010       100     26  \n",
       "6535   Крепеж для пружины дверной оцинкованный, 1107054       100     19  \n",
       "13    Крючок одежный 2-х рожковый серый металлик с п...        96     38  \n",
       "6367  Универсальный нож WEBBER из нержавеющей стали ...        80     45  "
      ]
     },
     "execution_count": 16,
     "metadata": {},
     "output_type": "execute_result"
    }
   ],
   "source": [
    "data.sort_values('quantity', ascending=False).head(15)"
   ]
  },
  {
   "cell_type": "markdown",
   "metadata": {},
   "source": [
    "В большинстве своем это действительно товары, которых покупают по много штук сразу (вешалки, пружины, крючки и т.д.). А вот заказ на тысячу вантузов выглядит весьма странно. Интернет-магазин \"Пока все еще тут\" вряд ли является оптовым магазином, поэтому сомнительно, что кто-то решил закупить вантузы оптом не у производителя или поставщика, а напрямую из магазина."
   ]
  },
  {
   "cell_type": "code",
   "execution_count": 17,
   "metadata": {},
   "outputs": [
    {
     "data": {
      "text/html": [
       "<div>\n",
       "<style scoped>\n",
       "    .dataframe tbody tr th:only-of-type {\n",
       "        vertical-align: middle;\n",
       "    }\n",
       "\n",
       "    .dataframe tbody tr th {\n",
       "        vertical-align: top;\n",
       "    }\n",
       "\n",
       "    .dataframe thead th {\n",
       "        text-align: right;\n",
       "    }\n",
       "</style>\n",
       "<table border=\"1\" class=\"dataframe\">\n",
       "  <thead>\n",
       "    <tr style=\"text-align: right;\">\n",
       "      <th></th>\n",
       "      <th>date</th>\n",
       "      <th>customer_id</th>\n",
       "      <th>order_id</th>\n",
       "      <th>product</th>\n",
       "      <th>quantity</th>\n",
       "      <th>price</th>\n",
       "    </tr>\n",
       "  </thead>\n",
       "  <tbody>\n",
       "    <tr>\n",
       "      <th>5456</th>\n",
       "      <td>2019-06-18 15:00:00</td>\n",
       "      <td>312e9a3e-5fca-43ff-a6a1-892d2b2d5ba6</td>\n",
       "      <td>71743</td>\n",
       "      <td>Вантуз с деревянной ручкой d14 см красный, Bur...</td>\n",
       "      <td>1000</td>\n",
       "      <td>675</td>\n",
       "    </tr>\n",
       "  </tbody>\n",
       "</table>\n",
       "</div>"
      ],
      "text/plain": [
       "                    date                           customer_id  order_id  \\\n",
       "5456 2019-06-18 15:00:00  312e9a3e-5fca-43ff-a6a1-892d2b2d5ba6     71743   \n",
       "\n",
       "                                                product  quantity  price  \n",
       "5456  Вантуз с деревянной ручкой d14 см красный, Bur...      1000    675  "
      ]
     },
     "execution_count": 17,
     "metadata": {},
     "output_type": "execute_result"
    }
   ],
   "source": [
    "data.query('order_id == 71743')"
   ]
  },
  {
   "cell_type": "markdown",
   "metadata": {},
   "source": [
    "Дополнительно убедившись, что других товаров в данном заказе нет, мы приняли решение удалить данную аномалию"
   ]
  },
  {
   "cell_type": "code",
   "execution_count": 18,
   "metadata": {},
   "outputs": [],
   "source": [
    "data = data.query('order_id != 71743')"
   ]
  },
  {
   "cell_type": "code",
   "execution_count": 19,
   "metadata": {},
   "outputs": [
    {
     "data": {
      "text/html": [
       "<div>\n",
       "<style scoped>\n",
       "    .dataframe tbody tr th:only-of-type {\n",
       "        vertical-align: middle;\n",
       "    }\n",
       "\n",
       "    .dataframe tbody tr th {\n",
       "        vertical-align: top;\n",
       "    }\n",
       "\n",
       "    .dataframe thead th {\n",
       "        text-align: right;\n",
       "    }\n",
       "</style>\n",
       "<table border=\"1\" class=\"dataframe\">\n",
       "  <thead>\n",
       "    <tr style=\"text-align: right;\">\n",
       "      <th></th>\n",
       "      <th>customer_id</th>\n",
       "      <th>order_id</th>\n",
       "    </tr>\n",
       "  </thead>\n",
       "  <tbody>\n",
       "    <tr>\n",
       "      <th>1897</th>\n",
       "      <td>c971fb21-d54c-4134-938f-16b62ee86d3b</td>\n",
       "      <td>126</td>\n",
       "    </tr>\n",
       "    <tr>\n",
       "      <th>732</th>\n",
       "      <td>4d93d3f6-8b24-403b-a74b-f5173e40d7db</td>\n",
       "      <td>35</td>\n",
       "    </tr>\n",
       "    <tr>\n",
       "      <th>1088</th>\n",
       "      <td>73d1cd35-5e5f-4629-8cf2-3fda829d4e58</td>\n",
       "      <td>17</td>\n",
       "    </tr>\n",
       "    <tr>\n",
       "      <th>1731</th>\n",
       "      <td>b7b865ab-0735-407f-8d0c-31f74d2806cc</td>\n",
       "      <td>7</td>\n",
       "    </tr>\n",
       "    <tr>\n",
       "      <th>17</th>\n",
       "      <td>0184f535-b60a-4914-a982-231e3f615206</td>\n",
       "      <td>5</td>\n",
       "    </tr>\n",
       "    <tr>\n",
       "      <th>...</th>\n",
       "      <td>...</td>\n",
       "      <td>...</td>\n",
       "    </tr>\n",
       "    <tr>\n",
       "      <th>984</th>\n",
       "      <td>69c524f1-dd2a-4c4e-a5b0-def54dc96f9e</td>\n",
       "      <td>1</td>\n",
       "    </tr>\n",
       "    <tr>\n",
       "      <th>983</th>\n",
       "      <td>69b17a52-a59b-4656-8d47-375e81e7d5f1</td>\n",
       "      <td>1</td>\n",
       "    </tr>\n",
       "    <tr>\n",
       "      <th>982</th>\n",
       "      <td>69897438-1f6c-42f3-8876-ec7f0296072d</td>\n",
       "      <td>1</td>\n",
       "    </tr>\n",
       "    <tr>\n",
       "      <th>981</th>\n",
       "      <td>6987e6d6-a63a-4ce2-a2d0-f424092d235e</td>\n",
       "      <td>1</td>\n",
       "    </tr>\n",
       "    <tr>\n",
       "      <th>2428</th>\n",
       "      <td>ffe82299-3f5b-4214-87fe-3d36ecccfac3</td>\n",
       "      <td>1</td>\n",
       "    </tr>\n",
       "  </tbody>\n",
       "</table>\n",
       "<p>2429 rows × 2 columns</p>\n",
       "</div>"
      ],
      "text/plain": [
       "                               customer_id  order_id\n",
       "1897  c971fb21-d54c-4134-938f-16b62ee86d3b       126\n",
       "732   4d93d3f6-8b24-403b-a74b-f5173e40d7db        35\n",
       "1088  73d1cd35-5e5f-4629-8cf2-3fda829d4e58        17\n",
       "1731  b7b865ab-0735-407f-8d0c-31f74d2806cc         7\n",
       "17    0184f535-b60a-4914-a982-231e3f615206         5\n",
       "...                                    ...       ...\n",
       "984   69c524f1-dd2a-4c4e-a5b0-def54dc96f9e         1\n",
       "983   69b17a52-a59b-4656-8d47-375e81e7d5f1         1\n",
       "982   69897438-1f6c-42f3-8876-ec7f0296072d         1\n",
       "981   6987e6d6-a63a-4ce2-a2d0-f424092d235e         1\n",
       "2428  ffe82299-3f5b-4214-87fe-3d36ecccfac3         1\n",
       "\n",
       "[2429 rows x 2 columns]"
      ]
     },
     "execution_count": 19,
     "metadata": {},
     "output_type": "execute_result"
    }
   ],
   "source": [
    "top_users = data.groupby('customer_id',as_index=False)['order_id'].nunique()\n",
    "top_users.sort_values(by='order_id', ascending=False)"
   ]
  },
  {
   "cell_type": "markdown",
   "metadata": {},
   "source": [
    "Обнаружен пользователь, совершивший 126 уникальных заказов. Посмотрим на все заказы, совершенные этим пользователем"
   ]
  },
  {
   "cell_type": "code",
   "execution_count": 20,
   "metadata": {},
   "outputs": [
    {
     "data": {
      "text/html": [
       "<div>\n",
       "<style scoped>\n",
       "    .dataframe tbody tr th:only-of-type {\n",
       "        vertical-align: middle;\n",
       "    }\n",
       "\n",
       "    .dataframe tbody tr th {\n",
       "        vertical-align: top;\n",
       "    }\n",
       "\n",
       "    .dataframe thead th {\n",
       "        text-align: right;\n",
       "    }\n",
       "</style>\n",
       "<table border=\"1\" class=\"dataframe\">\n",
       "  <thead>\n",
       "    <tr style=\"text-align: right;\">\n",
       "      <th></th>\n",
       "      <th>date</th>\n",
       "      <th>customer_id</th>\n",
       "      <th>order_id</th>\n",
       "      <th>product</th>\n",
       "      <th>quantity</th>\n",
       "      <th>price</th>\n",
       "    </tr>\n",
       "  </thead>\n",
       "  <tbody>\n",
       "    <tr>\n",
       "      <th>9</th>\n",
       "      <td>2018-10-01 09:00:00</td>\n",
       "      <td>c971fb21-d54c-4134-938f-16b62ee86d3b</td>\n",
       "      <td>68480</td>\n",
       "      <td>Чехол для гладильной доски Colombo Persia Beig...</td>\n",
       "      <td>1</td>\n",
       "      <td>674</td>\n",
       "    </tr>\n",
       "    <tr>\n",
       "      <th>20</th>\n",
       "      <td>2018-10-02 08:00:00</td>\n",
       "      <td>c971fb21-d54c-4134-938f-16b62ee86d3b</td>\n",
       "      <td>68490</td>\n",
       "      <td>Чехол для гладильной доски Festival 137x60 см ...</td>\n",
       "      <td>1</td>\n",
       "      <td>1162</td>\n",
       "    </tr>\n",
       "    <tr>\n",
       "      <th>64</th>\n",
       "      <td>2018-10-03 08:00:00</td>\n",
       "      <td>c971fb21-d54c-4134-938f-16b62ee86d3b</td>\n",
       "      <td>68511</td>\n",
       "      <td>Набор прищепок большие пластиковые ROZENBAL ПИ...</td>\n",
       "      <td>10</td>\n",
       "      <td>86</td>\n",
       "    </tr>\n",
       "    <tr>\n",
       "      <th>65</th>\n",
       "      <td>2018-10-03 10:00:00</td>\n",
       "      <td>c971fb21-d54c-4134-938f-16b62ee86d3b</td>\n",
       "      <td>68514</td>\n",
       "      <td>Сушилка для белья Attribute ПРИМА 11 м синяя н...</td>\n",
       "      <td>1</td>\n",
       "      <td>749</td>\n",
       "    </tr>\n",
       "    <tr>\n",
       "      <th>130</th>\n",
       "      <td>2018-10-08 07:00:00</td>\n",
       "      <td>c971fb21-d54c-4134-938f-16b62ee86d3b</td>\n",
       "      <td>68561</td>\n",
       "      <td>Тележка багажная DELTA ТБР-20 коричневый с ора...</td>\n",
       "      <td>1</td>\n",
       "      <td>742</td>\n",
       "    </tr>\n",
       "    <tr>\n",
       "      <th>131</th>\n",
       "      <td>2018-10-08 08:00:00</td>\n",
       "      <td>c971fb21-d54c-4134-938f-16b62ee86d3b</td>\n",
       "      <td>68562</td>\n",
       "      <td>Готовая скатерть Ажурная Dia Rose круглая д.15...</td>\n",
       "      <td>1</td>\n",
       "      <td>712</td>\n",
       "    </tr>\n",
       "    <tr>\n",
       "      <th>132</th>\n",
       "      <td>2018-10-08 09:00:00</td>\n",
       "      <td>c971fb21-d54c-4134-938f-16b62ee86d3b</td>\n",
       "      <td>68563</td>\n",
       "      <td>Сушилка для белья потолочная Zalger Lift Basic...</td>\n",
       "      <td>1</td>\n",
       "      <td>614</td>\n",
       "    </tr>\n",
       "    <tr>\n",
       "      <th>139</th>\n",
       "      <td>2018-10-08 13:00:00</td>\n",
       "      <td>c971fb21-d54c-4134-938f-16b62ee86d3b</td>\n",
       "      <td>68568</td>\n",
       "      <td>Таз пластмассовый 18,0 л квадратный (ТП-18) \"П...</td>\n",
       "      <td>1</td>\n",
       "      <td>254</td>\n",
       "    </tr>\n",
       "    <tr>\n",
       "      <th>160</th>\n",
       "      <td>2018-10-09 09:00:00</td>\n",
       "      <td>c971fb21-d54c-4134-938f-16b62ee86d3b</td>\n",
       "      <td>68580</td>\n",
       "      <td>Стяжка оконная с болтом СТ-55 цинк, 1108354</td>\n",
       "      <td>64</td>\n",
       "      <td>19</td>\n",
       "    </tr>\n",
       "    <tr>\n",
       "      <th>171</th>\n",
       "      <td>2018-10-10 08:00:00</td>\n",
       "      <td>c971fb21-d54c-4134-938f-16b62ee86d3b</td>\n",
       "      <td>68596</td>\n",
       "      <td>Сумка-тележка 3-х колесная Gimi Tris Floral синяя</td>\n",
       "      <td>1</td>\n",
       "      <td>2699</td>\n",
       "    </tr>\n",
       "    <tr>\n",
       "      <th>172</th>\n",
       "      <td>2018-10-10 13:00:00</td>\n",
       "      <td>c971fb21-d54c-4134-938f-16b62ee86d3b</td>\n",
       "      <td>68597</td>\n",
       "      <td>Сумка-тележка хозяйственная Andersen Scala Sho...</td>\n",
       "      <td>1</td>\n",
       "      <td>3899</td>\n",
       "    </tr>\n",
       "    <tr>\n",
       "      <th>183</th>\n",
       "      <td>2018-10-11 08:00:00</td>\n",
       "      <td>c971fb21-d54c-4134-938f-16b62ee86d3b</td>\n",
       "      <td>68604</td>\n",
       "      <td>Герань домашняя (пеларгония зональная) цветуща...</td>\n",
       "      <td>1</td>\n",
       "      <td>149</td>\n",
       "    </tr>\n",
       "    <tr>\n",
       "      <th>184</th>\n",
       "      <td>2018-10-11 08:00:00</td>\n",
       "      <td>c971fb21-d54c-4134-938f-16b62ee86d3b</td>\n",
       "      <td>68604</td>\n",
       "      <td>Герань домашняя (пеларгония зональная) цветуща...</td>\n",
       "      <td>1</td>\n",
       "      <td>149</td>\n",
       "    </tr>\n",
       "    <tr>\n",
       "      <th>185</th>\n",
       "      <td>2018-10-11 08:00:00</td>\n",
       "      <td>c971fb21-d54c-4134-938f-16b62ee86d3b</td>\n",
       "      <td>68604</td>\n",
       "      <td>Герань домашняя (пеларгония зональная) цветуща...</td>\n",
       "      <td>1</td>\n",
       "      <td>149</td>\n",
       "    </tr>\n",
       "    <tr>\n",
       "      <th>186</th>\n",
       "      <td>2018-10-11 08:00:00</td>\n",
       "      <td>c971fb21-d54c-4134-938f-16b62ee86d3b</td>\n",
       "      <td>68604</td>\n",
       "      <td>Герань домашняя (пеларгония зональная) цветуща...</td>\n",
       "      <td>1</td>\n",
       "      <td>149</td>\n",
       "    </tr>\n",
       "    <tr>\n",
       "      <th>187</th>\n",
       "      <td>2018-10-11 08:00:00</td>\n",
       "      <td>c971fb21-d54c-4134-938f-16b62ee86d3b</td>\n",
       "      <td>68605</td>\n",
       "      <td>Декоративная композиция искуственных цветов Бу...</td>\n",
       "      <td>10</td>\n",
       "      <td>106</td>\n",
       "    </tr>\n",
       "    <tr>\n",
       "      <th>188</th>\n",
       "      <td>2018-10-11 08:00:00</td>\n",
       "      <td>c971fb21-d54c-4134-938f-16b62ee86d3b</td>\n",
       "      <td>68605</td>\n",
       "      <td>Искусственный цветок Роза бархатная с закрытым...</td>\n",
       "      <td>10</td>\n",
       "      <td>71</td>\n",
       "    </tr>\n",
       "    <tr>\n",
       "      <th>257</th>\n",
       "      <td>2018-10-15 10:00:00</td>\n",
       "      <td>c971fb21-d54c-4134-938f-16b62ee86d3b</td>\n",
       "      <td>68651</td>\n",
       "      <td>Чехол для гладильной доски Zalger 520135 140х5...</td>\n",
       "      <td>1</td>\n",
       "      <td>314</td>\n",
       "    </tr>\n",
       "    <tr>\n",
       "      <th>280</th>\n",
       "      <td>2018-10-17 13:00:00</td>\n",
       "      <td>c971fb21-d54c-4134-938f-16b62ee86d3b</td>\n",
       "      <td>68671</td>\n",
       "      <td>Светильник настольный 17 LED ламп, светодиодны...</td>\n",
       "      <td>1</td>\n",
       "      <td>1199</td>\n",
       "    </tr>\n",
       "    <tr>\n",
       "      <th>313</th>\n",
       "      <td>2018-10-19 07:00:00</td>\n",
       "      <td>c971fb21-d54c-4134-938f-16b62ee86d3b</td>\n",
       "      <td>68685</td>\n",
       "      <td>Таз пластмассовый 40,0 л пищевой овальный (Иж)...</td>\n",
       "      <td>5</td>\n",
       "      <td>404</td>\n",
       "    </tr>\n",
       "    <tr>\n",
       "      <th>314</th>\n",
       "      <td>2018-10-19 10:00:00</td>\n",
       "      <td>c971fb21-d54c-4134-938f-16b62ee86d3b</td>\n",
       "      <td>68686</td>\n",
       "      <td>Сумка-тележка 2-х колесная складная Gimi Flexi...</td>\n",
       "      <td>1</td>\n",
       "      <td>1649</td>\n",
       "    </tr>\n",
       "    <tr>\n",
       "      <th>396</th>\n",
       "      <td>2018-10-24 09:00:00</td>\n",
       "      <td>c971fb21-d54c-4134-938f-16b62ee86d3b</td>\n",
       "      <td>68737</td>\n",
       "      <td>Салфетка Protec Textil Polyline 30х43 см Амети...</td>\n",
       "      <td>4</td>\n",
       "      <td>224</td>\n",
       "    </tr>\n",
       "    <tr>\n",
       "      <th>398</th>\n",
       "      <td>2018-10-24 10:00:00</td>\n",
       "      <td>c971fb21-d54c-4134-938f-16b62ee86d3b</td>\n",
       "      <td>68739</td>\n",
       "      <td>Щетка палубная 215х80х20 мм 6-рядная без черен...</td>\n",
       "      <td>1</td>\n",
       "      <td>82</td>\n",
       "    </tr>\n",
       "    <tr>\n",
       "      <th>513</th>\n",
       "      <td>2018-10-29 07:00:00</td>\n",
       "      <td>c971fb21-d54c-4134-938f-16b62ee86d3b</td>\n",
       "      <td>68787</td>\n",
       "      <td>Сушилка для белья Gimi Extension</td>\n",
       "      <td>1</td>\n",
       "      <td>2999</td>\n",
       "    </tr>\n",
       "    <tr>\n",
       "      <th>551</th>\n",
       "      <td>2018-10-31 09:00:00</td>\n",
       "      <td>c971fb21-d54c-4134-938f-16b62ee86d3b</td>\n",
       "      <td>68808</td>\n",
       "      <td>Гладильная доска Attribute ХОМИ ТОП 124х40 см ...</td>\n",
       "      <td>1</td>\n",
       "      <td>2624</td>\n",
       "    </tr>\n",
       "    <tr>\n",
       "      <th>552</th>\n",
       "      <td>2018-10-31 09:00:00</td>\n",
       "      <td>c971fb21-d54c-4134-938f-16b62ee86d3b</td>\n",
       "      <td>68808</td>\n",
       "      <td>Чехол для гладильной доски METAL 135х53 см, At...</td>\n",
       "      <td>1</td>\n",
       "      <td>509</td>\n",
       "    </tr>\n",
       "    <tr>\n",
       "      <th>569</th>\n",
       "      <td>2018-11-01 09:00:00</td>\n",
       "      <td>c971fb21-d54c-4134-938f-16b62ee86d3b</td>\n",
       "      <td>68819</td>\n",
       "      <td>Тележка багажная DELTA ТБР-20 коричневый с ора...</td>\n",
       "      <td>1</td>\n",
       "      <td>742</td>\n",
       "    </tr>\n",
       "    <tr>\n",
       "      <th>690</th>\n",
       "      <td>2018-11-07 15:00:00</td>\n",
       "      <td>c971fb21-d54c-4134-938f-16b62ee86d3b</td>\n",
       "      <td>68905</td>\n",
       "      <td>Рыбочистка металлическая, 1216396</td>\n",
       "      <td>3</td>\n",
       "      <td>127</td>\n",
       "    </tr>\n",
       "    <tr>\n",
       "      <th>691</th>\n",
       "      <td>2018-11-07 17:00:00</td>\n",
       "      <td>c971fb21-d54c-4134-938f-16b62ee86d3b</td>\n",
       "      <td>68907</td>\n",
       "      <td>Сиденье для унитаза Росспласт АЖУР белое РП-813</td>\n",
       "      <td>1</td>\n",
       "      <td>374</td>\n",
       "    </tr>\n",
       "    <tr>\n",
       "      <th>725</th>\n",
       "      <td>2018-11-09 10:00:00</td>\n",
       "      <td>c971fb21-d54c-4134-938f-16b62ee86d3b</td>\n",
       "      <td>68925</td>\n",
       "      <td>Сушилка для белья потолочная Лиана 2,4 м 1703011</td>\n",
       "      <td>1</td>\n",
       "      <td>734</td>\n",
       "    </tr>\n",
       "  </tbody>\n",
       "</table>\n",
       "</div>"
      ],
      "text/plain": [
       "                   date                           customer_id  order_id  \\\n",
       "9   2018-10-01 09:00:00  c971fb21-d54c-4134-938f-16b62ee86d3b     68480   \n",
       "20  2018-10-02 08:00:00  c971fb21-d54c-4134-938f-16b62ee86d3b     68490   \n",
       "64  2018-10-03 08:00:00  c971fb21-d54c-4134-938f-16b62ee86d3b     68511   \n",
       "65  2018-10-03 10:00:00  c971fb21-d54c-4134-938f-16b62ee86d3b     68514   \n",
       "130 2018-10-08 07:00:00  c971fb21-d54c-4134-938f-16b62ee86d3b     68561   \n",
       "131 2018-10-08 08:00:00  c971fb21-d54c-4134-938f-16b62ee86d3b     68562   \n",
       "132 2018-10-08 09:00:00  c971fb21-d54c-4134-938f-16b62ee86d3b     68563   \n",
       "139 2018-10-08 13:00:00  c971fb21-d54c-4134-938f-16b62ee86d3b     68568   \n",
       "160 2018-10-09 09:00:00  c971fb21-d54c-4134-938f-16b62ee86d3b     68580   \n",
       "171 2018-10-10 08:00:00  c971fb21-d54c-4134-938f-16b62ee86d3b     68596   \n",
       "172 2018-10-10 13:00:00  c971fb21-d54c-4134-938f-16b62ee86d3b     68597   \n",
       "183 2018-10-11 08:00:00  c971fb21-d54c-4134-938f-16b62ee86d3b     68604   \n",
       "184 2018-10-11 08:00:00  c971fb21-d54c-4134-938f-16b62ee86d3b     68604   \n",
       "185 2018-10-11 08:00:00  c971fb21-d54c-4134-938f-16b62ee86d3b     68604   \n",
       "186 2018-10-11 08:00:00  c971fb21-d54c-4134-938f-16b62ee86d3b     68604   \n",
       "187 2018-10-11 08:00:00  c971fb21-d54c-4134-938f-16b62ee86d3b     68605   \n",
       "188 2018-10-11 08:00:00  c971fb21-d54c-4134-938f-16b62ee86d3b     68605   \n",
       "257 2018-10-15 10:00:00  c971fb21-d54c-4134-938f-16b62ee86d3b     68651   \n",
       "280 2018-10-17 13:00:00  c971fb21-d54c-4134-938f-16b62ee86d3b     68671   \n",
       "313 2018-10-19 07:00:00  c971fb21-d54c-4134-938f-16b62ee86d3b     68685   \n",
       "314 2018-10-19 10:00:00  c971fb21-d54c-4134-938f-16b62ee86d3b     68686   \n",
       "396 2018-10-24 09:00:00  c971fb21-d54c-4134-938f-16b62ee86d3b     68737   \n",
       "398 2018-10-24 10:00:00  c971fb21-d54c-4134-938f-16b62ee86d3b     68739   \n",
       "513 2018-10-29 07:00:00  c971fb21-d54c-4134-938f-16b62ee86d3b     68787   \n",
       "551 2018-10-31 09:00:00  c971fb21-d54c-4134-938f-16b62ee86d3b     68808   \n",
       "552 2018-10-31 09:00:00  c971fb21-d54c-4134-938f-16b62ee86d3b     68808   \n",
       "569 2018-11-01 09:00:00  c971fb21-d54c-4134-938f-16b62ee86d3b     68819   \n",
       "690 2018-11-07 15:00:00  c971fb21-d54c-4134-938f-16b62ee86d3b     68905   \n",
       "691 2018-11-07 17:00:00  c971fb21-d54c-4134-938f-16b62ee86d3b     68907   \n",
       "725 2018-11-09 10:00:00  c971fb21-d54c-4134-938f-16b62ee86d3b     68925   \n",
       "\n",
       "                                               product  quantity  price  \n",
       "9    Чехол для гладильной доски Colombo Persia Beig...         1    674  \n",
       "20   Чехол для гладильной доски Festival 137x60 см ...         1   1162  \n",
       "64   Набор прищепок большие пластиковые ROZENBAL ПИ...        10     86  \n",
       "65   Сушилка для белья Attribute ПРИМА 11 м синяя н...         1    749  \n",
       "130  Тележка багажная DELTA ТБР-20 коричневый с ора...         1    742  \n",
       "131  Готовая скатерть Ажурная Dia Rose круглая д.15...         1    712  \n",
       "132  Сушилка для белья потолочная Zalger Lift Basic...         1    614  \n",
       "139  Таз пластмассовый 18,0 л квадратный (ТП-18) \"П...         1    254  \n",
       "160        Стяжка оконная с болтом СТ-55 цинк, 1108354        64     19  \n",
       "171  Сумка-тележка 3-х колесная Gimi Tris Floral синяя         1   2699  \n",
       "172  Сумка-тележка хозяйственная Andersen Scala Sho...         1   3899  \n",
       "183  Герань домашняя (пеларгония зональная) цветуща...         1    149  \n",
       "184  Герань домашняя (пеларгония зональная) цветуща...         1    149  \n",
       "185  Герань домашняя (пеларгония зональная) цветуща...         1    149  \n",
       "186  Герань домашняя (пеларгония зональная) цветуща...         1    149  \n",
       "187  Декоративная композиция искуственных цветов Бу...        10    106  \n",
       "188  Искусственный цветок Роза бархатная с закрытым...        10     71  \n",
       "257  Чехол для гладильной доски Zalger 520135 140х5...         1    314  \n",
       "280  Светильник настольный 17 LED ламп, светодиодны...         1   1199  \n",
       "313  Таз пластмассовый 40,0 л пищевой овальный (Иж)...         5    404  \n",
       "314  Сумка-тележка 2-х колесная складная Gimi Flexi...         1   1649  \n",
       "396  Салфетка Protec Textil Polyline 30х43 см Амети...         4    224  \n",
       "398  Щетка палубная 215х80х20 мм 6-рядная без черен...         1     82  \n",
       "513                   Сушилка для белья Gimi Extension         1   2999  \n",
       "551  Гладильная доска Attribute ХОМИ ТОП 124х40 см ...         1   2624  \n",
       "552  Чехол для гладильной доски METAL 135х53 см, At...         1    509  \n",
       "569  Тележка багажная DELTA ТБР-20 коричневый с ора...         1    742  \n",
       "690                  Рыбочистка металлическая, 1216396         3    127  \n",
       "691    Сиденье для унитаза Росспласт АЖУР белое РП-813         1    374  \n",
       "725   Сушилка для белья потолочная Лиана 2,4 м 1703011         1    734  "
      ]
     },
     "execution_count": 20,
     "metadata": {},
     "output_type": "execute_result"
    }
   ],
   "source": [
    "data.query('customer_id == \"c971fb21-d54c-4134-938f-16b62ee86d3b\"').head(30)"
   ]
  },
  {
   "cell_type": "markdown",
   "metadata": {},
   "source": [
    "Взглянув на первые 30 товаров, купленных данным пользователем, мы убедились, что ничего аномального в его поведении нет. Пользователь совершает частые, но не объемные заказы (на 1-2 позиции) абсолютно разных товаров. Ничего подозрительного"
   ]
  },
  {
   "cell_type": "markdown",
   "metadata": {},
   "source": [
    "### Добавление столбцов"
   ]
  },
  {
   "cell_type": "markdown",
   "metadata": {},
   "source": [
    "Первым делом мы добавим столбец, который бы показывал не поштучную стоимость товаров, а стоимость за все одинаковые товары в заказе разом. Затем мы добавим стобцы с указанием часа и месяца заказа, что пригодится нам впоследствии."
   ]
  },
  {
   "cell_type": "code",
   "execution_count": 21,
   "metadata": {},
   "outputs": [],
   "source": [
    "data['total_price'] = data['price'] * data['quantity']\n",
    "data['month'] = data['date'].dt.month\n",
    "data['hour'] = data['date'].dt.hour"
   ]
  },
  {
   "cell_type": "markdown",
   "metadata": {},
   "source": [
    "### Промежуточный итог"
   ]
  },
  {
   "cell_type": "code",
   "execution_count": 22,
   "metadata": {},
   "outputs": [
    {
     "name": "stdout",
     "output_type": "stream",
     "text": [
      "Изначальный объем данных: 7474 строк\n",
      "Конечный объем данных: 5552 строки\n",
      "Потеряно строк после предобработки: 1922\n",
      "Что составляет 25.7 % исходного объема\n"
     ]
    }
   ],
   "source": [
    "print('Изначальный объем данных:', original_data['order_id'].count(), 'строк')\n",
    "print('Конечный объем данных:', data['order_id'].count(), 'строки')\n",
    "print('Потеряно строк после предобработки:', original_data['order_id'].count() - data['order_id'].count())\n",
    "print('Что составляет', ((original_data['order_id'].count() - data['order_id'].count())/original_data['order_id'].count()*100).round(1), '% исходного объема')"
   ]
  },
  {
   "cell_type": "markdown",
   "metadata": {},
   "source": [
    "В ходе предобработки данных и избавления от дубликатов и аномалий, мы потеряли 1922 строки (25.7 % изначальных данных). Впрочем, ничего страшного, поскольку мы убедились, что эти строки являются ошибочными задвоениями данных, поэтому качество исследования после их удаления лишь возросло."
   ]
  },
  {
   "cell_type": "markdown",
   "metadata": {},
   "source": [
    "## Основная часть"
   ]
  },
  {
   "cell_type": "markdown",
   "metadata": {},
   "source": [
    "### Общий анализ продаж магазина"
   ]
  },
  {
   "cell_type": "code",
   "execution_count": 23,
   "metadata": {},
   "outputs": [
    {
     "name": "stdout",
     "output_type": "stream",
     "text": [
      "Общая прибыль интернет-магазина за наблюдаемый период: 3935335 рублей\n",
      "Количество заказов: 3520\n",
      "Количество пользователей: 2429\n",
      "Продано товарных номенклатур: 5552\n",
      "Продано единиц товара: 13352\n",
      "Среднее количество позиций в заказе: 1.58\n"
     ]
    }
   ],
   "source": [
    "print('Общая прибыль интернет-магазина за наблюдаемый период:', data['total_price'].sum(), 'рублей')\n",
    "print('Количество заказов:', data['order_id'].nunique())\n",
    "print('Количество пользователей:', data['customer_id'].nunique())\n",
    "print('Продано товарных номенклатур:', data['product'].count())\n",
    "print('Продано единиц товара:', data['quantity'].sum())\n",
    "print('Среднее количество позиций в заказе:', (data['product'].count() / data['order_id'].nunique()).round(2))"
   ]
  },
  {
   "cell_type": "code",
   "execution_count": 24,
   "metadata": {},
   "outputs": [
    {
     "data": {
      "image/png": "[encoded data removed]",
      "text/plain": [
       "<Figure size 720x432 with 1 Axes>"
      ]
     },
     "metadata": {
      "needs_background": "light"
     },
     "output_type": "display_data"
    }
   ],
   "source": [
    "monthly_sales = data.groupby(data['date'].dt.to_period('M'))['total_price'].sum()\n",
    "monthly_sales.index = monthly_sales.index.astype(str)\n",
    "\n",
    "\n",
    "plt.plot(monthly_sales.index, monthly_sales.values)\n",
    "plt.grid(True)\n",
    "plt.xticks(rotation=45, ha='right')\n",
    "\n",
    "\n",
    "fig = plt.gcf()\n",
    "fig.set_size_inches(10, 6)\n",
    "\n",
    "plt.xlabel('Месяц')\n",
    "plt.ylabel('Сумма продаж')\n",
    "plt.title('Продажи по месяцам')\n",
    "\n",
    "plt.show()"
   ]
  },
  {
   "cell_type": "markdown",
   "metadata": {},
   "source": [
    "На графие отчетливо видно, что продажи интернет-магазина стремительно падают. Взглянем на количество заказов."
   ]
  },
  {
   "cell_type": "code",
   "execution_count": 25,
   "metadata": {},
   "outputs": [
    {
     "data": {
      "image/png": "[encoded data removed]",
      "text/plain": [
       "<Figure size 720x432 with 1 Axes>"
      ]
     },
     "metadata": {
      "needs_background": "light"
     },
     "output_type": "display_data"
    }
   ],
   "source": [
    "monthly_orders = data.groupby(data['date'].dt.to_period('M'))['order_id'].nunique()\n",
    "monthly_orders.index = monthly_orders.index.astype(str)\n",
    "\n",
    "\n",
    "plt.plot(monthly_orders.index, monthly_orders.values)\n",
    "plt.grid(True)\n",
    "plt.xticks(rotation=45, ha='right')\n",
    "\n",
    "\n",
    "fig = plt.gcf()\n",
    "fig.set_size_inches(10, 6)\n",
    "\n",
    "plt.xlabel('Месяц')\n",
    "plt.ylabel('Количество заказов')\n",
    "plt.title('Количество заказов по месяцам')\n",
    "\n",
    "plt.show()"
   ]
  },
  {
   "cell_type": "markdown",
   "metadata": {},
   "source": [
    "При этом количество заказов хоть и уменьшилось летом 2019, однако стремительно растет последние полгода наблюдаемого периода. Если количество заказов растет, а выручка падает, следовательно мы можем сделать вывод, что в интернет-магазине упал средний чек, что в свою очередь может быть следствием неправильного подхода к товарному ассортименту, что нам и предстоит исследовать дальше."
   ]
  },
  {
   "cell_type": "code",
   "execution_count": 26,
   "metadata": {},
   "outputs": [
    {
     "data": {
      "image/png": "[encoded data removed]",
      "text/plain": [
       "<Figure size 720x432 with 1 Axes>"
      ]
     },
     "metadata": {
      "needs_background": "light"
     },
     "output_type": "display_data"
    }
   ],
   "source": [
    "avg_bill_monthly = data.groupby(data['date'].dt.to_period('M')).agg(avg_bill=('total_price', 'sum'), unique_orders=('order_id', 'nunique'))\n",
    "avg_bill_monthly['avg_bill'] = (avg_bill_monthly['avg_bill'] / avg_bill_monthly['unique_orders']).astype(int)\n",
    "avg_bill_monthly.drop('unique_orders', axis=1, inplace=True)\n",
    "avg_bill_monthly.index = avg_bill_monthly.index.astype(str)\n",
    "\n",
    "plt.plot(avg_bill_monthly.index, avg_bill_monthly.values)\n",
    "plt.grid(True)\n",
    "plt.xticks(rotation=45, ha='right')\n",
    "\n",
    "\n",
    "fig = plt.gcf()\n",
    "fig.set_size_inches(10, 6)\n",
    "\n",
    "plt.xlabel('Месяц')\n",
    "plt.ylabel('Средний чек')\n",
    "plt.title('Средний чек по месяцам')\n",
    "\n",
    "plt.show()"
   ]
  },
  {
   "cell_type": "markdown",
   "metadata": {},
   "source": [
    "Наша догадка оказалась верна, действительно средний чек интернет магазина падает почти синхронно падению выручки."
   ]
  },
  {
   "cell_type": "markdown",
   "metadata": {},
   "source": [
    "### Разбитие ассортимента по товарным категориям и их анализ"
   ]
  },
  {
   "cell_type": "code",
   "execution_count": 27,
   "metadata": {},
   "outputs": [],
   "source": [
    "data['name'] = data['product'].apply(lambda x: ' '.join(x.split()[:2])).str.lower()"
   ]
  },
  {
   "cell_type": "code",
   "execution_count": 28,
   "metadata": {},
   "outputs": [],
   "source": [
    "Бытовые_приборы = ['ванна', 'веник', 'весы', 'доска', 'дозатор', 'измерительный', 'кипятильник', 'корыто', 'лестница',\n",
    "                  'миксер', 'сушил', 'гладил', 'окномойка', 'орехоколка', 'пылесос', 'пьезозажигалка', 'сверло', 'стремянка',\n",
    "                  'сушилка', 'термометр', 'утюг', 'фен', 'сварка', 'электроштопор']\n",
    "Хоз_товары = ['антижир', 'антинакипин', 'ароматиз', 'бак', 'бальзам', 'бензин', 'бидон', 'пакет', 'вантуз', 'ведро', \n",
    "              'емкость', 'ерш', 'мыло', 'соль', 'паста', 'кисточка', 'кондиционер', 'концентрат', 'корзин', 'короб', 'лопатка',\n",
    "              'лоток', 'мешок', 'модульная', 'мыльница', 'прищеп', 'ополаскиватель', 'отбеливатель', 'отжим', 'пена', 'перчат',\n",
    "             'кашпо', 'подрукавник', 'скребок', 'сметка', 'совок', 'средство', 'биопорошок', 'таз', 'тележка', 'тряпк', 'маска',\n",
    "             'чистящий', 'швабра', 'щетка', 'ящик', 'ёрш', 'сумка']\n",
    "Интерьер = ['скатерть', 'постельное', 'карниз', 'ковер', 'коврик', 'ковёр', 'комод', 'комплект', 'кофр', 'полотен', 'ковров',\n",
    "           'наволоч', 'наматра', 'обувница', 'одеяло', 'плед', 'подголовник', 'пододеяльник', 'подушка', 'полк', 'решетка',\n",
    "           'светильник', 'сиденье', 'стеллаж', 'штора']\n",
    "Кухонные_приборы = ['tepмокружка', 'банка', 'блюд', 'бульонниц', 'вилка', 'измельчитель', 'картофелемялка', 'кастрюля', 'ковш',\n",
    "                   'контейнер', 'котел', 'кружка', 'крышк', 'кувшин', 'кухонн', 'ложка', 'масленка', 'стакан', 'сковород',\n",
    "                   'миска', 'бокал', 'кружек', 'нож', 'посуд', 'столов', 'форм', 'фужер', 'эмалированных', 'овощ', 'отделитель',\n",
    "                   'половник', 'пресс', 'пробка', 'просеиватель', 'противень', 'рассекатель', 'рыбочистка', 'сахарница', 'сито',\n",
    "                   'скалка', 'соковарка', 'соковыжималка', 'сотейник', 'тарелка', 'терка', 'термокружка', 'термо', 'толкушка',\n",
    "                   'тортница', 'форма', 'хлебница', 'чайн']\n",
    "Декор = ['подставка', 'ваза', 'венчик', 'декор', 'искусственн', 'картина', 'муляж', 'салфет', 'подставка', 'покрывало',\n",
    "         'простын', 'скатерть', 'ткань', 'урна', 'этажерка', 'ручка']\n",
    "Вспомогательные_предметы = ['вешал', 'прищеп', 'вкладыши', 'держатель', 'завертка', 'экран', 'кольца', 'крепеж', 'крючок',\n",
    "                            'халат', 'инструмент', 'махровых', 'прецизионн', 'сверел', 'насадка', 'основание', 'петля',\n",
    "                            'плечики', 'подарочный', 'подкладка', 'покрытие', 'пружина', 'ролик', 'рукав', 'сетка',\n",
    "                            'складн', 'блок', 'стяжк', 'уголок', 'фал капроновый', 'фиксатор', 'чехол', 'шило', 'шнур',\n",
    "                           'шпагат', 'шпингалет', 'шприц', 'штанг']"
   ]
  },
  {
   "cell_type": "code",
   "execution_count": 29,
   "metadata": {},
   "outputs": [],
   "source": [
    "data['category'] = None  # Создание нового столбца 'category' со значением None\n",
    "\n",
    "for index, row in data.iterrows():\n",
    "    product_name = row['name']\n",
    "    for keyword in Бытовые_приборы:\n",
    "        if keyword in product_name:\n",
    "            data.at[index, 'category'] = 'Бытовые приборы'\n",
    "            break\n",
    "    for keyword in Хоз_товары:\n",
    "        if keyword in product_name:\n",
    "            data.at[index, 'category'] = 'Хоз товары'\n",
    "            break\n",
    "    for keyword in Интерьер:\n",
    "        if keyword in product_name:\n",
    "            data.at[index, 'category'] = 'Интерьер'\n",
    "            break\n",
    "    for keyword in Кухонные_приборы:\n",
    "        if keyword in product_name:\n",
    "            data.at[index, 'category'] = 'Кухонные приборы'\n",
    "            break\n",
    "    for keyword in Декор:\n",
    "        if keyword in product_name:\n",
    "            data.at[index, 'category'] = 'Декор'\n",
    "            break\n",
    "    for keyword in Вспомогательные_предметы:\n",
    "        if keyword in product_name:\n",
    "            data.at[index, 'category'] = 'Вспомогательные предметы'\n",
    "            break\n",
    "    if data.at[index, 'category'] is None:\n",
    "        data.at[index, 'category'] = 'Растения'"
   ]
  },
  {
   "cell_type": "code",
   "execution_count": 30,
   "metadata": {},
   "outputs": [],
   "source": [
    "data.drop('name', axis=1, inplace=True)"
   ]
  },
  {
   "cell_type": "code",
   "execution_count": 31,
   "metadata": {},
   "outputs": [],
   "source": [
    "category_grouped_count = data.groupby('category')['quantity'].sum().sort_values(ascending=False)\n",
    "category_grouped_sales = data.groupby('category')['total_price'].sum().sort_values(ascending=False)"
   ]
  },
  {
   "cell_type": "code",
   "execution_count": 32,
   "metadata": {},
   "outputs": [
    {
     "data": {
      "image/png": "[encoded data removed]",
      "text/plain": [
       "<Figure size 432x288 with 1 Axes>"
      ]
     },
     "metadata": {},
     "output_type": "display_data"
    },
    {
     "data": {
      "text/plain": [
       "category\n",
       "Растения                    3978\n",
       "Вспомогательные предметы    3230\n",
       "Декор                       2023\n",
       "Хоз товары                  1714\n",
       "Кухонные приборы            1197\n",
       "Бытовые приборы              674\n",
       "Интерьер                     536\n",
       "Name: quantity, dtype: int64"
      ]
     },
     "metadata": {},
     "output_type": "display_data"
    }
   ],
   "source": [
    "categories = category_grouped_count.index\n",
    "counts = category_grouped_count.values\n",
    "\n",
    "# Создание круговой диаграммы\n",
    "plt.pie(counts, labels=categories, autopct='%1.1f%%')\n",
    "\n",
    "# Настройка аспектов диаграммы\n",
    "plt.axis('equal')\n",
    "\n",
    "# Добавление заголовка\n",
    "plt.title('Распределение по количеству проданных товаров по категориям')\n",
    "\n",
    "# Отображение диаграммы\n",
    "plt.show()\n",
    "display(category_grouped_count)"
   ]
  },
  {
   "cell_type": "markdown",
   "metadata": {},
   "source": [
    "Самую большую долю по количеству проданных товаров занимают Растения и Вспомогательные предметы (29.8% и 24.2% соответственно). Меньше всего проданных товаров в категориях Интерьер и Бытовые приборы"
   ]
  },
  {
   "cell_type": "code",
   "execution_count": 33,
   "metadata": {},
   "outputs": [
    {
     "data": {
      "image/png": "[encoded data removed]",
      "text/plain": [
       "<Figure size 432x288 with 1 Axes>"
      ]
     },
     "metadata": {},
     "output_type": "display_data"
    },
    {
     "data": {
      "text/plain": [
       "category\n",
       "Хоз товары                  1100376\n",
       "Бытовые приборы              821502\n",
       "Растения                     581725\n",
       "Интерьер                     452247\n",
       "Вспомогательные предметы     352646\n",
       "Декор                        321154\n",
       "Кухонные приборы             305685\n",
       "Name: total_price, dtype: int64"
      ]
     },
     "metadata": {},
     "output_type": "display_data"
    }
   ],
   "source": [
    "categories = category_grouped_sales.index\n",
    "counts = category_grouped_sales.values\n",
    "\n",
    "# Создание круговой диаграммы\n",
    "plt.pie(counts, labels=categories, autopct='%1.1f%%')\n",
    "\n",
    "# Настройка аспектов диаграммы\n",
    "plt.axis('equal')\n",
    "\n",
    "# Добавление заголовка\n",
    "plt.title('Распределение по выручке от проданных товаров по категориям')\n",
    "\n",
    "# Отображение диаграммы\n",
    "plt.show()\n",
    "display(category_grouped_sales)"
   ]
  },
  {
   "cell_type": "markdown",
   "metadata": {},
   "source": [
    "Однако после того, как мы взглянули на доли категорий в разбивке по продажам, картина кардинально поменялась. Хоз товары, занимавшие долю в 12.8% по количеству вышли на первое место с долей 28% по продажам, став единственной категорией с долей выручки свыше миллиона рублей. На втором месте Бытовые приборы с долей продаж 20.9% против всего 5% в количественном отношении. Разгадка данного явления заключается в том, что эти товары хоть и малочисленные, но дорогие, так что, к примеру, продажа одного пылесоса эквивалентна продаже сотни растений. "
   ]
  },
  {
   "cell_type": "markdown",
   "metadata": {},
   "source": [
    "### ABC-анализ"
   ]
  },
  {
   "cell_type": "code",
   "execution_count": 34,
   "metadata": {},
   "outputs": [],
   "source": [
    "abc_sales = data.groupby('product', as_index=False)['total_price'].sum().sort_values(by='total_price', ascending=False)\n",
    "abc_sales['ratio'] = abc_sales['total_price'] / (abc_sales['total_price'].sum()) * 100\n",
    "abc_sales['cum_ratio'] = abc_sales['ratio'].cumsum()\n",
    "abc_sales['group'] = None\n",
    "\n",
    "for index, row in abc_sales.iterrows():\n",
    "    cum_ratio = row['cum_ratio']\n",
    "    if cum_ratio <= 80:\n",
    "        abc_sales.at[index, 'group'] = 'A'\n",
    "    elif 80 < cum_ratio <= 95:\n",
    "        abc_sales.at[index, 'group'] = 'B'\n",
    "    else:\n",
    "        abc_sales.at[index, 'group'] = 'C'\n"
   ]
  },
  {
   "cell_type": "code",
   "execution_count": 35,
   "metadata": {},
   "outputs": [
    {
     "data": {
      "text/html": [
       "<div>\n",
       "<style scoped>\n",
       "    .dataframe tbody tr th:only-of-type {\n",
       "        vertical-align: middle;\n",
       "    }\n",
       "\n",
       "    .dataframe tbody tr th {\n",
       "        vertical-align: top;\n",
       "    }\n",
       "\n",
       "    .dataframe thead th {\n",
       "        text-align: right;\n",
       "    }\n",
       "</style>\n",
       "<table border=\"1\" class=\"dataframe\">\n",
       "  <thead>\n",
       "    <tr style=\"text-align: right;\">\n",
       "      <th></th>\n",
       "      <th>product</th>\n",
       "      <th>total_price</th>\n",
       "      <th>ratio</th>\n",
       "      <th>cum_ratio</th>\n",
       "      <th>group</th>\n",
       "    </tr>\n",
       "  </thead>\n",
       "  <tbody>\n",
       "    <tr>\n",
       "      <th>1193</th>\n",
       "      <td>Простынь вафельная 200х180 см WELLNESS RW180-0...</td>\n",
       "      <td>53232</td>\n",
       "      <td>1.352668</td>\n",
       "      <td>1.352668</td>\n",
       "      <td>A</td>\n",
       "    </tr>\n",
       "    <tr>\n",
       "      <th>1617</th>\n",
       "      <td>Сумка-тележка 2-х колесная Gimi Argo синяя</td>\n",
       "      <td>50405</td>\n",
       "      <td>1.280831</td>\n",
       "      <td>2.633499</td>\n",
       "      <td>A</td>\n",
       "    </tr>\n",
       "    <tr>\n",
       "      <th>191</th>\n",
       "      <td>Вешалки мягкие для деликатных вещей 3 шт шоколад</td>\n",
       "      <td>49596</td>\n",
       "      <td>1.260274</td>\n",
       "      <td>3.893773</td>\n",
       "      <td>A</td>\n",
       "    </tr>\n",
       "    <tr>\n",
       "      <th>1898</th>\n",
       "      <td>Тележка багажная DELTA ТБР-22 синий грузоподъе...</td>\n",
       "      <td>33992</td>\n",
       "      <td>0.863764</td>\n",
       "      <td>4.757537</td>\n",
       "      <td>A</td>\n",
       "    </tr>\n",
       "    <tr>\n",
       "      <th>835</th>\n",
       "      <td>Муляж ЯБЛОКО 9 см красное</td>\n",
       "      <td>32702</td>\n",
       "      <td>0.830984</td>\n",
       "      <td>5.588520</td>\n",
       "      <td>A</td>\n",
       "    </tr>\n",
       "    <tr>\n",
       "      <th>...</th>\n",
       "      <td>...</td>\n",
       "      <td>...</td>\n",
       "      <td>...</td>\n",
       "      <td>...</td>\n",
       "      <td>...</td>\n",
       "    </tr>\n",
       "    <tr>\n",
       "      <th>1058</th>\n",
       "      <td>Петрушка Итальянский гигант 2 г 4660010776553</td>\n",
       "      <td>10</td>\n",
       "      <td>0.000254</td>\n",
       "      <td>99.999009</td>\n",
       "      <td>C</td>\n",
       "    </tr>\n",
       "    <tr>\n",
       "      <th>2065</th>\n",
       "      <td>Цинния Оранжевый король 0,5 г 4660010770520</td>\n",
       "      <td>10</td>\n",
       "      <td>0.000254</td>\n",
       "      <td>99.999263</td>\n",
       "      <td>C</td>\n",
       "    </tr>\n",
       "    <tr>\n",
       "      <th>770</th>\n",
       "      <td>Морковь Детская сладость 2 г 4660010775921</td>\n",
       "      <td>10</td>\n",
       "      <td>0.000254</td>\n",
       "      <td>99.999517</td>\n",
       "      <td>C</td>\n",
       "    </tr>\n",
       "    <tr>\n",
       "      <th>2064</th>\n",
       "      <td>Цинния Коралловая красавица 0,2 г 4660010773323</td>\n",
       "      <td>10</td>\n",
       "      <td>0.000254</td>\n",
       "      <td>99.999771</td>\n",
       "      <td>C</td>\n",
       "    </tr>\n",
       "    <tr>\n",
       "      <th>314</th>\n",
       "      <td>Горох Амброзия 10,0 г 4660010772616</td>\n",
       "      <td>9</td>\n",
       "      <td>0.000229</td>\n",
       "      <td>100.000000</td>\n",
       "      <td>C</td>\n",
       "    </tr>\n",
       "  </tbody>\n",
       "</table>\n",
       "<p>2341 rows × 5 columns</p>\n",
       "</div>"
      ],
      "text/plain": [
       "                                                product  total_price  \\\n",
       "1193  Простынь вафельная 200х180 см WELLNESS RW180-0...        53232   \n",
       "1617         Сумка-тележка 2-х колесная Gimi Argo синяя        50405   \n",
       "191    Вешалки мягкие для деликатных вещей 3 шт шоколад        49596   \n",
       "1898  Тележка багажная DELTA ТБР-22 синий грузоподъе...        33992   \n",
       "835                           Муляж ЯБЛОКО 9 см красное        32702   \n",
       "...                                                 ...          ...   \n",
       "1058      Петрушка Итальянский гигант 2 г 4660010776553           10   \n",
       "2065        Цинния Оранжевый король 0,5 г 4660010770520           10   \n",
       "770          Морковь Детская сладость 2 г 4660010775921           10   \n",
       "2064    Цинния Коралловая красавица 0,2 г 4660010773323           10   \n",
       "314                 Горох Амброзия 10,0 г 4660010772616            9   \n",
       "\n",
       "         ratio   cum_ratio group  \n",
       "1193  1.352668    1.352668     A  \n",
       "1617  1.280831    2.633499     A  \n",
       "191   1.260274    3.893773     A  \n",
       "1898  0.863764    4.757537     A  \n",
       "835   0.830984    5.588520     A  \n",
       "...        ...         ...   ...  \n",
       "1058  0.000254   99.999009     C  \n",
       "2065  0.000254   99.999263     C  \n",
       "770   0.000254   99.999517     C  \n",
       "2064  0.000254   99.999771     C  \n",
       "314   0.000229  100.000000     C  \n",
       "\n",
       "[2341 rows x 5 columns]"
      ]
     },
     "execution_count": 35,
     "metadata": {},
     "output_type": "execute_result"
    }
   ],
   "source": [
    "abc_sales"
   ]
  },
  {
   "cell_type": "code",
   "execution_count": 36,
   "metadata": {},
   "outputs": [],
   "source": [
    "abc_counts = data.groupby('product', as_index=False)['quantity'].sum().sort_values(by='quantity', ascending=False)\n",
    "abc_counts['ratio'] = abc_counts['quantity'] / (abc_counts['quantity'].sum()) * 100\n",
    "abc_counts['cum_ratio'] = abc_counts['ratio'].cumsum()\n",
    "abc_counts['group'] = None\n",
    "\n",
    "for index, row in abc_counts.iterrows():\n",
    "    cum_ratio = row['cum_ratio']\n",
    "    if cum_ratio <= 80:\n",
    "        abc_counts.at[index, 'group'] = 'A'\n",
    "    elif 80 < cum_ratio <= 95:\n",
    "        abc_counts.at[index, 'group'] = 'B'\n",
    "    else:\n",
    "        abc_counts.at[index, 'group'] = 'C'\n"
   ]
  },
  {
   "cell_type": "code",
   "execution_count": 37,
   "metadata": {},
   "outputs": [
    {
     "data": {
      "text/html": [
       "<div>\n",
       "<style scoped>\n",
       "    .dataframe tbody tr th:only-of-type {\n",
       "        vertical-align: middle;\n",
       "    }\n",
       "\n",
       "    .dataframe tbody tr th {\n",
       "        vertical-align: top;\n",
       "    }\n",
       "\n",
       "    .dataframe thead th {\n",
       "        text-align: right;\n",
       "    }\n",
       "</style>\n",
       "<table border=\"1\" class=\"dataframe\">\n",
       "  <thead>\n",
       "    <tr style=\"text-align: right;\">\n",
       "      <th></th>\n",
       "      <th>product</th>\n",
       "      <th>quantity</th>\n",
       "      <th>ratio</th>\n",
       "      <th>cum_ratio</th>\n",
       "      <th>group</th>\n",
       "    </tr>\n",
       "  </thead>\n",
       "  <tbody>\n",
       "    <tr>\n",
       "      <th>835</th>\n",
       "      <td>Муляж ЯБЛОКО 9 см красное</td>\n",
       "      <td>618</td>\n",
       "      <td>4.628520</td>\n",
       "      <td>4.628520</td>\n",
       "      <td>A</td>\n",
       "    </tr>\n",
       "    <tr>\n",
       "      <th>191</th>\n",
       "      <td>Вешалки мягкие для деликатных вещей 3 шт шоколад</td>\n",
       "      <td>335</td>\n",
       "      <td>2.508987</td>\n",
       "      <td>7.137507</td>\n",
       "      <td>A</td>\n",
       "    </tr>\n",
       "    <tr>\n",
       "      <th>1452</th>\n",
       "      <td>Ручка-скоба РС-100 белая *Трибатрон*, 1108035</td>\n",
       "      <td>201</td>\n",
       "      <td>1.505392</td>\n",
       "      <td>8.642900</td>\n",
       "      <td>A</td>\n",
       "    </tr>\n",
       "    <tr>\n",
       "      <th>837</th>\n",
       "      <td>Муляж Яблоко зеленый 9 см полиуретан</td>\n",
       "      <td>188</td>\n",
       "      <td>1.408029</td>\n",
       "      <td>10.050929</td>\n",
       "      <td>A</td>\n",
       "    </tr>\n",
       "    <tr>\n",
       "      <th>663</th>\n",
       "      <td>Крепеж для пружины дверной, 1107055</td>\n",
       "      <td>170</td>\n",
       "      <td>1.273217</td>\n",
       "      <td>11.324146</td>\n",
       "      <td>A</td>\n",
       "    </tr>\n",
       "    <tr>\n",
       "      <th>...</th>\n",
       "      <td>...</td>\n",
       "      <td>...</td>\n",
       "      <td>...</td>\n",
       "      <td>...</td>\n",
       "      <td>...</td>\n",
       "    </tr>\n",
       "    <tr>\n",
       "      <th>715</th>\n",
       "      <td>Лестница-стремянка Примус оцинкованный металл ...</td>\n",
       "      <td>1</td>\n",
       "      <td>0.007490</td>\n",
       "      <td>99.970042</td>\n",
       "      <td>C</td>\n",
       "    </tr>\n",
       "    <tr>\n",
       "      <th>1633</th>\n",
       "      <td>Сумка-тележка GIMI Argo красная</td>\n",
       "      <td>1</td>\n",
       "      <td>0.007490</td>\n",
       "      <td>99.977531</td>\n",
       "      <td>C</td>\n",
       "    </tr>\n",
       "    <tr>\n",
       "      <th>1635</th>\n",
       "      <td>Сумка-тележка GIMI Easy Go красная</td>\n",
       "      <td>1</td>\n",
       "      <td>0.007490</td>\n",
       "      <td>99.985021</td>\n",
       "      <td>C</td>\n",
       "    </tr>\n",
       "    <tr>\n",
       "      <th>1639</th>\n",
       "      <td>Сумка-тележка хозяйственная Andersen Alu Star ...</td>\n",
       "      <td>1</td>\n",
       "      <td>0.007490</td>\n",
       "      <td>99.992510</td>\n",
       "      <td>C</td>\n",
       "    </tr>\n",
       "    <tr>\n",
       "      <th>1170</th>\n",
       "      <td>Полотенце кухонное Мила* mix, 100% хлопок 170 ...</td>\n",
       "      <td>1</td>\n",
       "      <td>0.007490</td>\n",
       "      <td>100.000000</td>\n",
       "      <td>C</td>\n",
       "    </tr>\n",
       "  </tbody>\n",
       "</table>\n",
       "<p>2341 rows × 5 columns</p>\n",
       "</div>"
      ],
      "text/plain": [
       "                                                product  quantity     ratio  \\\n",
       "835                           Муляж ЯБЛОКО 9 см красное       618  4.628520   \n",
       "191    Вешалки мягкие для деликатных вещей 3 шт шоколад       335  2.508987   \n",
       "1452      Ручка-скоба РС-100 белая *Трибатрон*, 1108035       201  1.505392   \n",
       "837                Муляж Яблоко зеленый 9 см полиуретан       188  1.408029   \n",
       "663                 Крепеж для пружины дверной, 1107055       170  1.273217   \n",
       "...                                                 ...       ...       ...   \n",
       "715   Лестница-стремянка Примус оцинкованный металл ...         1  0.007490   \n",
       "1633                    Сумка-тележка GIMI Argo красная         1  0.007490   \n",
       "1635                 Сумка-тележка GIMI Easy Go красная         1  0.007490   \n",
       "1639  Сумка-тележка хозяйственная Andersen Alu Star ...         1  0.007490   \n",
       "1170  Полотенце кухонное Мила* mix, 100% хлопок 170 ...         1  0.007490   \n",
       "\n",
       "       cum_ratio group  \n",
       "835     4.628520     A  \n",
       "191     7.137507     A  \n",
       "1452    8.642900     A  \n",
       "837    10.050929     A  \n",
       "663    11.324146     A  \n",
       "...          ...   ...  \n",
       "715    99.970042     C  \n",
       "1633   99.977531     C  \n",
       "1635   99.985021     C  \n",
       "1639   99.992510     C  \n",
       "1170  100.000000     C  \n",
       "\n",
       "[2341 rows x 5 columns]"
      ]
     },
     "execution_count": 37,
     "metadata": {},
     "output_type": "execute_result"
    }
   ],
   "source": [
    "abc_counts"
   ]
  },
  {
   "cell_type": "code",
   "execution_count": 38,
   "metadata": {},
   "outputs": [],
   "source": [
    "abc_sales.drop(['total_price', 'ratio', 'cum_ratio'], axis=1, inplace=True)\n",
    "abc_counts.drop(['quantity', 'ratio', 'cum_ratio'], axis=1, inplace=True)"
   ]
  },
  {
   "cell_type": "code",
   "execution_count": 39,
   "metadata": {},
   "outputs": [],
   "source": [
    "abc_full = abc_sales.merge(abc_counts, on='product')\n",
    "abc_full.columns = ['product', 'group_sales', 'group_counts']"
   ]
  },
  {
   "cell_type": "code",
   "execution_count": 40,
   "metadata": {},
   "outputs": [
    {
     "data": {
      "text/html": [
       "<div>\n",
       "<style scoped>\n",
       "    .dataframe tbody tr th:only-of-type {\n",
       "        vertical-align: middle;\n",
       "    }\n",
       "\n",
       "    .dataframe tbody tr th {\n",
       "        vertical-align: top;\n",
       "    }\n",
       "\n",
       "    .dataframe thead th {\n",
       "        text-align: right;\n",
       "    }\n",
       "</style>\n",
       "<table border=\"1\" class=\"dataframe\">\n",
       "  <thead>\n",
       "    <tr style=\"text-align: right;\">\n",
       "      <th></th>\n",
       "      <th>product</th>\n",
       "      <th>group_sales</th>\n",
       "      <th>group_counts</th>\n",
       "    </tr>\n",
       "  </thead>\n",
       "  <tbody>\n",
       "    <tr>\n",
       "      <th>0</th>\n",
       "      <td>Простынь вафельная 200х180 см WELLNESS RW180-0...</td>\n",
       "      <td>A</td>\n",
       "      <td>A</td>\n",
       "    </tr>\n",
       "    <tr>\n",
       "      <th>1</th>\n",
       "      <td>Сумка-тележка 2-х колесная Gimi Argo синяя</td>\n",
       "      <td>A</td>\n",
       "      <td>A</td>\n",
       "    </tr>\n",
       "    <tr>\n",
       "      <th>2</th>\n",
       "      <td>Вешалки мягкие для деликатных вещей 3 шт шоколад</td>\n",
       "      <td>A</td>\n",
       "      <td>A</td>\n",
       "    </tr>\n",
       "    <tr>\n",
       "      <th>3</th>\n",
       "      <td>Тележка багажная DELTA ТБР-22 синий грузоподъе...</td>\n",
       "      <td>A</td>\n",
       "      <td>A</td>\n",
       "    </tr>\n",
       "    <tr>\n",
       "      <th>4</th>\n",
       "      <td>Муляж ЯБЛОКО 9 см красное</td>\n",
       "      <td>A</td>\n",
       "      <td>A</td>\n",
       "    </tr>\n",
       "    <tr>\n",
       "      <th>...</th>\n",
       "      <td>...</td>\n",
       "      <td>...</td>\n",
       "      <td>...</td>\n",
       "    </tr>\n",
       "    <tr>\n",
       "      <th>2336</th>\n",
       "      <td>Петрушка Итальянский гигант 2 г 4660010776553</td>\n",
       "      <td>C</td>\n",
       "      <td>C</td>\n",
       "    </tr>\n",
       "    <tr>\n",
       "      <th>2337</th>\n",
       "      <td>Цинния Оранжевый король 0,5 г 4660010770520</td>\n",
       "      <td>C</td>\n",
       "      <td>C</td>\n",
       "    </tr>\n",
       "    <tr>\n",
       "      <th>2338</th>\n",
       "      <td>Морковь Детская сладость 2 г 4660010775921</td>\n",
       "      <td>C</td>\n",
       "      <td>C</td>\n",
       "    </tr>\n",
       "    <tr>\n",
       "      <th>2339</th>\n",
       "      <td>Цинния Коралловая красавица 0,2 г 4660010773323</td>\n",
       "      <td>C</td>\n",
       "      <td>C</td>\n",
       "    </tr>\n",
       "    <tr>\n",
       "      <th>2340</th>\n",
       "      <td>Горох Амброзия 10,0 г 4660010772616</td>\n",
       "      <td>C</td>\n",
       "      <td>B</td>\n",
       "    </tr>\n",
       "  </tbody>\n",
       "</table>\n",
       "<p>2341 rows × 3 columns</p>\n",
       "</div>"
      ],
      "text/plain": [
       "                                                product group_sales  \\\n",
       "0     Простынь вафельная 200х180 см WELLNESS RW180-0...           A   \n",
       "1            Сумка-тележка 2-х колесная Gimi Argo синяя           A   \n",
       "2      Вешалки мягкие для деликатных вещей 3 шт шоколад           A   \n",
       "3     Тележка багажная DELTA ТБР-22 синий грузоподъе...           A   \n",
       "4                             Муляж ЯБЛОКО 9 см красное           A   \n",
       "...                                                 ...         ...   \n",
       "2336      Петрушка Итальянский гигант 2 г 4660010776553           C   \n",
       "2337        Цинния Оранжевый король 0,5 г 4660010770520           C   \n",
       "2338         Морковь Детская сладость 2 г 4660010775921           C   \n",
       "2339    Цинния Коралловая красавица 0,2 г 4660010773323           C   \n",
       "2340                Горох Амброзия 10,0 г 4660010772616           C   \n",
       "\n",
       "     group_counts  \n",
       "0               A  \n",
       "1               A  \n",
       "2               A  \n",
       "3               A  \n",
       "4               A  \n",
       "...           ...  \n",
       "2336            C  \n",
       "2337            C  \n",
       "2338            C  \n",
       "2339            C  \n",
       "2340            B  \n",
       "\n",
       "[2341 rows x 3 columns]"
      ]
     },
     "execution_count": 40,
     "metadata": {},
     "output_type": "execute_result"
    }
   ],
   "source": [
    "abc_full"
   ]
  },
  {
   "cell_type": "markdown",
   "metadata": {},
   "source": [
    "Мы провели техническую часть, разбив все товары на три группы два раза (сначала по продажам, потом по количеству проданного). В качестве критерия определения группы, мы использовали классический метод ABC-анализа - 80%-15%-5%. Теперь нам осталось определить лучших из лучших - к ним мы отнесем тех, кто получил группу А в обоих случаях. Во вторую таблицу занесем другие перспективные товары (группы А-В, А-С и В-А)"
   ]
  },
  {
   "cell_type": "code",
   "execution_count": 41,
   "metadata": {},
   "outputs": [
    {
     "data": {
      "text/html": [
       "<div>\n",
       "<style scoped>\n",
       "    .dataframe tbody tr th:only-of-type {\n",
       "        vertical-align: middle;\n",
       "    }\n",
       "\n",
       "    .dataframe tbody tr th {\n",
       "        vertical-align: top;\n",
       "    }\n",
       "\n",
       "    .dataframe thead th {\n",
       "        text-align: right;\n",
       "    }\n",
       "</style>\n",
       "<table border=\"1\" class=\"dataframe\">\n",
       "  <thead>\n",
       "    <tr style=\"text-align: right;\">\n",
       "      <th></th>\n",
       "      <th>product</th>\n",
       "      <th>group_sales</th>\n",
       "      <th>group_counts</th>\n",
       "    </tr>\n",
       "  </thead>\n",
       "  <tbody>\n",
       "    <tr>\n",
       "      <th>0</th>\n",
       "      <td>Простынь вафельная 200х180 см WELLNESS RW180-0...</td>\n",
       "      <td>A</td>\n",
       "      <td>A</td>\n",
       "    </tr>\n",
       "    <tr>\n",
       "      <th>1</th>\n",
       "      <td>Сумка-тележка 2-х колесная Gimi Argo синяя</td>\n",
       "      <td>A</td>\n",
       "      <td>A</td>\n",
       "    </tr>\n",
       "    <tr>\n",
       "      <th>2</th>\n",
       "      <td>Вешалки мягкие для деликатных вещей 3 шт шоколад</td>\n",
       "      <td>A</td>\n",
       "      <td>A</td>\n",
       "    </tr>\n",
       "    <tr>\n",
       "      <th>3</th>\n",
       "      <td>Тележка багажная DELTA ТБР-22 синий грузоподъе...</td>\n",
       "      <td>A</td>\n",
       "      <td>A</td>\n",
       "    </tr>\n",
       "    <tr>\n",
       "      <th>4</th>\n",
       "      <td>Муляж ЯБЛОКО 9 см красное</td>\n",
       "      <td>A</td>\n",
       "      <td>A</td>\n",
       "    </tr>\n",
       "    <tr>\n",
       "      <th>...</th>\n",
       "      <td>...</td>\n",
       "      <td>...</td>\n",
       "      <td>...</td>\n",
       "    </tr>\n",
       "    <tr>\n",
       "      <th>624</th>\n",
       "      <td>Однолетнее растение Петуния простая в кассете ...</td>\n",
       "      <td>A</td>\n",
       "      <td>A</td>\n",
       "    </tr>\n",
       "    <tr>\n",
       "      <th>625</th>\n",
       "      <td>Пеларгония зональная махровая микс d-12 см</td>\n",
       "      <td>A</td>\n",
       "      <td>A</td>\n",
       "    </tr>\n",
       "    <tr>\n",
       "      <th>626</th>\n",
       "      <td>Насадка на валик ВММ-200/60 белый искусственны...</td>\n",
       "      <td>A</td>\n",
       "      <td>A</td>\n",
       "    </tr>\n",
       "    <tr>\n",
       "      <th>627</th>\n",
       "      <td>Вешалка-перекладина Valiant металлическая двой...</td>\n",
       "      <td>A</td>\n",
       "      <td>A</td>\n",
       "    </tr>\n",
       "    <tr>\n",
       "      <th>628</th>\n",
       "      <td>Папоротник страусник зеленый объем 1 л</td>\n",
       "      <td>A</td>\n",
       "      <td>A</td>\n",
       "    </tr>\n",
       "  </tbody>\n",
       "</table>\n",
       "<p>277 rows × 3 columns</p>\n",
       "</div>"
      ],
      "text/plain": [
       "                                               product group_sales  \\\n",
       "0    Простынь вафельная 200х180 см WELLNESS RW180-0...           A   \n",
       "1           Сумка-тележка 2-х колесная Gimi Argo синяя           A   \n",
       "2     Вешалки мягкие для деликатных вещей 3 шт шоколад           A   \n",
       "3    Тележка багажная DELTA ТБР-22 синий грузоподъе...           A   \n",
       "4                            Муляж ЯБЛОКО 9 см красное           A   \n",
       "..                                                 ...         ...   \n",
       "624  Однолетнее растение Петуния простая в кассете ...           A   \n",
       "625         Пеларгония зональная махровая микс d-12 см           A   \n",
       "626  Насадка на валик ВММ-200/60 белый искусственны...           A   \n",
       "627  Вешалка-перекладина Valiant металлическая двой...           A   \n",
       "628             Папоротник страусник зеленый объем 1 л           A   \n",
       "\n",
       "    group_counts  \n",
       "0              A  \n",
       "1              A  \n",
       "2              A  \n",
       "3              A  \n",
       "4              A  \n",
       "..           ...  \n",
       "624            A  \n",
       "625            A  \n",
       "626            A  \n",
       "627            A  \n",
       "628            A  \n",
       "\n",
       "[277 rows x 3 columns]"
      ]
     },
     "execution_count": 41,
     "metadata": {},
     "output_type": "execute_result"
    }
   ],
   "source": [
    "best_products = abc_full.query('group_sales == \"A\" and group_counts == \"A\"')\n",
    "best_products"
   ]
  },
  {
   "cell_type": "markdown",
   "metadata": {},
   "source": [
    "Перед нами список из 277 самых лучших и продаваемых товаров"
   ]
  },
  {
   "cell_type": "code",
   "execution_count": 42,
   "metadata": {},
   "outputs": [
    {
     "data": {
      "text/html": [
       "<div>\n",
       "<style scoped>\n",
       "    .dataframe tbody tr th:only-of-type {\n",
       "        vertical-align: middle;\n",
       "    }\n",
       "\n",
       "    .dataframe tbody tr th {\n",
       "        vertical-align: top;\n",
       "    }\n",
       "\n",
       "    .dataframe thead th {\n",
       "        text-align: right;\n",
       "    }\n",
       "</style>\n",
       "<table border=\"1\" class=\"dataframe\">\n",
       "  <thead>\n",
       "    <tr style=\"text-align: right;\">\n",
       "      <th></th>\n",
       "      <th>product</th>\n",
       "      <th>group_sales</th>\n",
       "      <th>group_counts</th>\n",
       "    </tr>\n",
       "  </thead>\n",
       "  <tbody>\n",
       "    <tr>\n",
       "      <th>10</th>\n",
       "      <td>Сумка-тележка хозяйственная Rolser IMX006 bass...</td>\n",
       "      <td>A</td>\n",
       "      <td>B</td>\n",
       "    </tr>\n",
       "    <tr>\n",
       "      <th>13</th>\n",
       "      <td>Сумка-тележка хозяйственная Rolser Pack Gloria...</td>\n",
       "      <td>A</td>\n",
       "      <td>B</td>\n",
       "    </tr>\n",
       "    <tr>\n",
       "      <th>16</th>\n",
       "      <td>Сумка-тележка хозяйственная Andersen Treppenst...</td>\n",
       "      <td>A</td>\n",
       "      <td>B</td>\n",
       "    </tr>\n",
       "    <tr>\n",
       "      <th>22</th>\n",
       "      <td>Сумка-тележка хозяйственная Rolser MNB019 rojo...</td>\n",
       "      <td>A</td>\n",
       "      <td>B</td>\n",
       "    </tr>\n",
       "    <tr>\n",
       "      <th>23</th>\n",
       "      <td>Сумка-тележка хозяйственная Andersen Scala Sho...</td>\n",
       "      <td>A</td>\n",
       "      <td>B</td>\n",
       "    </tr>\n",
       "    <tr>\n",
       "      <th>...</th>\n",
       "      <td>...</td>\n",
       "      <td>...</td>\n",
       "      <td>...</td>\n",
       "    </tr>\n",
       "    <tr>\n",
       "      <th>1294</th>\n",
       "      <td>Салфетка махровая Радуга в разноцветную полоск...</td>\n",
       "      <td>B</td>\n",
       "      <td>A</td>\n",
       "    </tr>\n",
       "    <tr>\n",
       "      <th>1298</th>\n",
       "      <td>Вешалка для блузок 41 см черный Attribute AHM791</td>\n",
       "      <td>B</td>\n",
       "      <td>A</td>\n",
       "    </tr>\n",
       "    <tr>\n",
       "      <th>1302</th>\n",
       "      <td>Вербена Red красная объем 0,5 л</td>\n",
       "      <td>B</td>\n",
       "      <td>A</td>\n",
       "    </tr>\n",
       "    <tr>\n",
       "      <th>1319</th>\n",
       "      <td>Кореопсис Золотой маяк желтый объем 1 л</td>\n",
       "      <td>B</td>\n",
       "      <td>A</td>\n",
       "    </tr>\n",
       "    <tr>\n",
       "      <th>1322</th>\n",
       "      <td>Фуксия Blue Angel синяя с белым чашелистом объ...</td>\n",
       "      <td>B</td>\n",
       "      <td>A</td>\n",
       "    </tr>\n",
       "  </tbody>\n",
       "</table>\n",
       "<p>629 rows × 3 columns</p>\n",
       "</div>"
      ],
      "text/plain": [
       "                                                product group_sales  \\\n",
       "10    Сумка-тележка хозяйственная Rolser IMX006 bass...           A   \n",
       "13    Сумка-тележка хозяйственная Rolser Pack Gloria...           A   \n",
       "16    Сумка-тележка хозяйственная Andersen Treppenst...           A   \n",
       "22    Сумка-тележка хозяйственная Rolser MNB019 rojo...           A   \n",
       "23    Сумка-тележка хозяйственная Andersen Scala Sho...           A   \n",
       "...                                                 ...         ...   \n",
       "1294  Салфетка махровая Радуга в разноцветную полоск...           B   \n",
       "1298   Вешалка для блузок 41 см черный Attribute AHM791           B   \n",
       "1302                    Вербена Red красная объем 0,5 л           B   \n",
       "1319            Кореопсис Золотой маяк желтый объем 1 л           B   \n",
       "1322  Фуксия Blue Angel синяя с белым чашелистом объ...           B   \n",
       "\n",
       "     group_counts  \n",
       "10              B  \n",
       "13              B  \n",
       "16              B  \n",
       "22              B  \n",
       "23              B  \n",
       "...           ...  \n",
       "1294            A  \n",
       "1298            A  \n",
       "1302            A  \n",
       "1319            A  \n",
       "1322            A  \n",
       "\n",
       "[629 rows x 3 columns]"
      ]
     },
     "execution_count": 42,
     "metadata": {},
     "output_type": "execute_result"
    }
   ],
   "source": [
    "perspective_products = abc_full.query('(group_sales == \"A\" and group_counts == \"B\") or (group_sales == \"A\" and group_counts == \"C\") or group_sales == \"B\" and group_counts == \"A\"')\n",
    "perspective_products"
   ]
  },
  {
   "cell_type": "markdown",
   "metadata": {},
   "source": [
    "Перед нами список перспективных товаров, к которым мы отнесли товары со следующими группами ABC-анализа: А-В, А-С и В-А. В конечный список перспективных товаров вошли 629 позиций"
   ]
  },
  {
   "cell_type": "markdown",
   "metadata": {},
   "source": [
    "### Выявление десятки лучших и худших товаров"
   ]
  },
  {
   "cell_type": "markdown",
   "metadata": {},
   "source": [
    "#### По выручке"
   ]
  },
  {
   "cell_type": "code",
   "execution_count": 43,
   "metadata": {},
   "outputs": [],
   "source": [
    "sales = data.groupby('product', as_index=False)['total_price'].sum()\n",
    "quantity = data.groupby('product', as_index=False)['quantity'].sum()\n",
    "sales_and_quantity = sales.merge(quantity, on='product')"
   ]
  },
  {
   "cell_type": "code",
   "execution_count": 44,
   "metadata": {},
   "outputs": [
    {
     "data": {
      "text/html": [
       "<div>\n",
       "<style scoped>\n",
       "    .dataframe tbody tr th:only-of-type {\n",
       "        vertical-align: middle;\n",
       "    }\n",
       "\n",
       "    .dataframe tbody tr th {\n",
       "        vertical-align: top;\n",
       "    }\n",
       "\n",
       "    .dataframe thead th {\n",
       "        text-align: right;\n",
       "    }\n",
       "</style>\n",
       "<table border=\"1\" class=\"dataframe\">\n",
       "  <thead>\n",
       "    <tr style=\"text-align: right;\">\n",
       "      <th></th>\n",
       "      <th>product</th>\n",
       "      <th>total_price</th>\n",
       "      <th>quantity</th>\n",
       "    </tr>\n",
       "  </thead>\n",
       "  <tbody>\n",
       "    <tr>\n",
       "      <th>1193</th>\n",
       "      <td>Простынь вафельная 200х180 см WELLNESS RW180-0...</td>\n",
       "      <td>53232</td>\n",
       "      <td>30</td>\n",
       "    </tr>\n",
       "    <tr>\n",
       "      <th>1617</th>\n",
       "      <td>Сумка-тележка 2-х колесная Gimi Argo синяя</td>\n",
       "      <td>50405</td>\n",
       "      <td>47</td>\n",
       "    </tr>\n",
       "    <tr>\n",
       "      <th>191</th>\n",
       "      <td>Вешалки мягкие для деликатных вещей 3 шт шоколад</td>\n",
       "      <td>49596</td>\n",
       "      <td>335</td>\n",
       "    </tr>\n",
       "    <tr>\n",
       "      <th>1898</th>\n",
       "      <td>Тележка багажная DELTA ТБР-22 синий грузоподъе...</td>\n",
       "      <td>33992</td>\n",
       "      <td>59</td>\n",
       "    </tr>\n",
       "    <tr>\n",
       "      <th>835</th>\n",
       "      <td>Муляж ЯБЛОКО 9 см красное</td>\n",
       "      <td>32702</td>\n",
       "      <td>618</td>\n",
       "    </tr>\n",
       "    <tr>\n",
       "      <th>874</th>\n",
       "      <td>Набор ножей Attribute CHEF 5 предметов AKF522</td>\n",
       "      <td>29248</td>\n",
       "      <td>64</td>\n",
       "    </tr>\n",
       "    <tr>\n",
       "      <th>1643</th>\n",
       "      <td>Сумка-тележка хозяйственная Andersen Scala Sho...</td>\n",
       "      <td>28045</td>\n",
       "      <td>5</td>\n",
       "    </tr>\n",
       "    <tr>\n",
       "      <th>1700</th>\n",
       "      <td>Сушилка Meliconi Stendy Junior</td>\n",
       "      <td>27970</td>\n",
       "      <td>5</td>\n",
       "    </tr>\n",
       "    <tr>\n",
       "      <th>841</th>\n",
       "      <td>Мусорный контейнер Hailo BigBin Swing 45 0845-...</td>\n",
       "      <td>27560</td>\n",
       "      <td>5</td>\n",
       "    </tr>\n",
       "    <tr>\n",
       "      <th>1949</th>\n",
       "      <td>Урна уличная \"Гео\", Hobbyka/Хоббика, 59*37,5см...</td>\n",
       "      <td>24370</td>\n",
       "      <td>5</td>\n",
       "    </tr>\n",
       "  </tbody>\n",
       "</table>\n",
       "</div>"
      ],
      "text/plain": [
       "                                                product  total_price  quantity\n",
       "1193  Простынь вафельная 200х180 см WELLNESS RW180-0...        53232        30\n",
       "1617         Сумка-тележка 2-х колесная Gimi Argo синяя        50405        47\n",
       "191    Вешалки мягкие для деликатных вещей 3 шт шоколад        49596       335\n",
       "1898  Тележка багажная DELTA ТБР-22 синий грузоподъе...        33992        59\n",
       "835                           Муляж ЯБЛОКО 9 см красное        32702       618\n",
       "874       Набор ножей Attribute CHEF 5 предметов AKF522        29248        64\n",
       "1643  Сумка-тележка хозяйственная Andersen Scala Sho...        28045         5\n",
       "1700                     Сушилка Meliconi Stendy Junior        27970         5\n",
       "841   Мусорный контейнер Hailo BigBin Swing 45 0845-...        27560         5\n",
       "1949  Урна уличная \"Гео\", Hobbyka/Хоббика, 59*37,5см...        24370         5"
      ]
     },
     "execution_count": 44,
     "metadata": {},
     "output_type": "execute_result"
    }
   ],
   "source": [
    "sales_and_quantity.sort_values(by='total_price', ascending=False).head(10)"
   ]
  },
  {
   "cell_type": "markdown",
   "metadata": {},
   "source": [
    "Перед нами Топ-10 товаров, принесших больше всего выручки"
   ]
  },
  {
   "cell_type": "code",
   "execution_count": 45,
   "metadata": {},
   "outputs": [
    {
     "data": {
      "text/html": [
       "<div>\n",
       "<style scoped>\n",
       "    .dataframe tbody tr th:only-of-type {\n",
       "        vertical-align: middle;\n",
       "    }\n",
       "\n",
       "    .dataframe tbody tr th {\n",
       "        vertical-align: top;\n",
       "    }\n",
       "\n",
       "    .dataframe thead th {\n",
       "        text-align: right;\n",
       "    }\n",
       "</style>\n",
       "<table border=\"1\" class=\"dataframe\">\n",
       "  <thead>\n",
       "    <tr style=\"text-align: right;\">\n",
       "      <th></th>\n",
       "      <th>product</th>\n",
       "      <th>total_price</th>\n",
       "      <th>quantity</th>\n",
       "    </tr>\n",
       "  </thead>\n",
       "  <tbody>\n",
       "    <tr>\n",
       "      <th>314</th>\n",
       "      <td>Горох Амброзия 10,0 г 4660010772616</td>\n",
       "      <td>9</td>\n",
       "      <td>1</td>\n",
       "    </tr>\n",
       "    <tr>\n",
       "      <th>770</th>\n",
       "      <td>Морковь Детская сладость 2 г 4660010775921</td>\n",
       "      <td>10</td>\n",
       "      <td>1</td>\n",
       "    </tr>\n",
       "    <tr>\n",
       "      <th>2065</th>\n",
       "      <td>Цинния Оранжевый король 0,5 г 4660010770520</td>\n",
       "      <td>10</td>\n",
       "      <td>1</td>\n",
       "    </tr>\n",
       "    <tr>\n",
       "      <th>945</th>\n",
       "      <td>Огурец Засолочный 0,3 г 4660010776102</td>\n",
       "      <td>10</td>\n",
       "      <td>1</td>\n",
       "    </tr>\n",
       "    <tr>\n",
       "      <th>2064</th>\n",
       "      <td>Цинния Коралловая красавица 0,2 г 4660010773323</td>\n",
       "      <td>10</td>\n",
       "      <td>1</td>\n",
       "    </tr>\n",
       "    <tr>\n",
       "      <th>1058</th>\n",
       "      <td>Петрушка Итальянский гигант 2 г 4660010776553</td>\n",
       "      <td>10</td>\n",
       "      <td>1</td>\n",
       "    </tr>\n",
       "    <tr>\n",
       "      <th>434</th>\n",
       "      <td>Календула Пинк сюрпрайз 0,5 г 4650091480203</td>\n",
       "      <td>11</td>\n",
       "      <td>1</td>\n",
       "    </tr>\n",
       "    <tr>\n",
       "      <th>459</th>\n",
       "      <td>Капуста декоративная смесь 0,1 г 4650091480234</td>\n",
       "      <td>11</td>\n",
       "      <td>1</td>\n",
       "    </tr>\n",
       "    <tr>\n",
       "      <th>435</th>\n",
       "      <td>Календула Суприм 0,5 г 4650091480227</td>\n",
       "      <td>11</td>\n",
       "      <td>1</td>\n",
       "    </tr>\n",
       "    <tr>\n",
       "      <th>696</th>\n",
       "      <td>Лаватера Монт Блан 0,3 г 4660010778588</td>\n",
       "      <td>11</td>\n",
       "      <td>1</td>\n",
       "    </tr>\n",
       "  </tbody>\n",
       "</table>\n",
       "</div>"
      ],
      "text/plain": [
       "                                              product  total_price  quantity\n",
       "314               Горох Амброзия 10,0 г 4660010772616            9         1\n",
       "770        Морковь Детская сладость 2 г 4660010775921           10         1\n",
       "2065      Цинния Оранжевый король 0,5 г 4660010770520           10         1\n",
       "945             Огурец Засолочный 0,3 г 4660010776102           10         1\n",
       "2064  Цинния Коралловая красавица 0,2 г 4660010773323           10         1\n",
       "1058    Петрушка Итальянский гигант 2 г 4660010776553           10         1\n",
       "434       Календула Пинк сюрпрайз 0,5 г 4650091480203           11         1\n",
       "459    Капуста декоративная смесь 0,1 г 4650091480234           11         1\n",
       "435              Календула Суприм 0,5 г 4650091480227           11         1\n",
       "696            Лаватера Монт Блан 0,3 г 4660010778588           11         1"
      ]
     },
     "execution_count": 45,
     "metadata": {},
     "output_type": "execute_result"
    }
   ],
   "source": [
    "sales_and_quantity.sort_values(by='total_price').head(10)"
   ]
  },
  {
   "cell_type": "markdown",
   "metadata": {},
   "source": [
    "Список из 10 самых непродаваемых товаров оказался полностью состоящим из растений. Все они были проданы по одной штуке и, скорее всего, список таких товаров выходит далеко за пределы десятки. Без сомнения, эти товары уже попали в группу С-С АВС-анализа, и отделу закупок стоит пересмотреть закупочную матрицу"
   ]
  },
  {
   "cell_type": "markdown",
   "metadata": {},
   "source": [
    "#### По количеству"
   ]
  },
  {
   "cell_type": "code",
   "execution_count": 46,
   "metadata": {},
   "outputs": [
    {
     "data": {
      "text/html": [
       "<div>\n",
       "<style scoped>\n",
       "    .dataframe tbody tr th:only-of-type {\n",
       "        vertical-align: middle;\n",
       "    }\n",
       "\n",
       "    .dataframe tbody tr th {\n",
       "        vertical-align: top;\n",
       "    }\n",
       "\n",
       "    .dataframe thead th {\n",
       "        text-align: right;\n",
       "    }\n",
       "</style>\n",
       "<table border=\"1\" class=\"dataframe\">\n",
       "  <thead>\n",
       "    <tr style=\"text-align: right;\">\n",
       "      <th></th>\n",
       "      <th>product</th>\n",
       "      <th>total_price</th>\n",
       "      <th>quantity</th>\n",
       "    </tr>\n",
       "  </thead>\n",
       "  <tbody>\n",
       "    <tr>\n",
       "      <th>835</th>\n",
       "      <td>Муляж ЯБЛОКО 9 см красное</td>\n",
       "      <td>32702</td>\n",
       "      <td>618</td>\n",
       "    </tr>\n",
       "    <tr>\n",
       "      <th>191</th>\n",
       "      <td>Вешалки мягкие для деликатных вещей 3 шт шоколад</td>\n",
       "      <td>49596</td>\n",
       "      <td>335</td>\n",
       "    </tr>\n",
       "    <tr>\n",
       "      <th>1452</th>\n",
       "      <td>Ручка-скоба РС-100 белая *Трибатрон*, 1108035</td>\n",
       "      <td>5829</td>\n",
       "      <td>201</td>\n",
       "    </tr>\n",
       "    <tr>\n",
       "      <th>837</th>\n",
       "      <td>Муляж Яблоко зеленый 9 см полиуретан</td>\n",
       "      <td>10492</td>\n",
       "      <td>188</td>\n",
       "    </tr>\n",
       "    <tr>\n",
       "      <th>663</th>\n",
       "      <td>Крепеж для пружины дверной, 1107055</td>\n",
       "      <td>3290</td>\n",
       "      <td>170</td>\n",
       "    </tr>\n",
       "    <tr>\n",
       "      <th>1113</th>\n",
       "      <td>Плечики пластмассовые Размер 52 - 54 Тула 1205158</td>\n",
       "      <td>3210</td>\n",
       "      <td>160</td>\n",
       "    </tr>\n",
       "    <tr>\n",
       "      <th>1198</th>\n",
       "      <td>Пружина дверная 240 мм оцинкованная (Д-19 мм) ...</td>\n",
       "      <td>5700</td>\n",
       "      <td>150</td>\n",
       "    </tr>\n",
       "    <tr>\n",
       "      <th>777</th>\n",
       "      <td>Муляж Банан желтый 21 см полиуретан</td>\n",
       "      <td>5831</td>\n",
       "      <td>109</td>\n",
       "    </tr>\n",
       "    <tr>\n",
       "      <th>2239</th>\n",
       "      <td>Щетка-сметка 4-х рядная деревянная 300 мм (фиг...</td>\n",
       "      <td>6810</td>\n",
       "      <td>105</td>\n",
       "    </tr>\n",
       "    <tr>\n",
       "      <th>7</th>\n",
       "      <td>Ёрш унитазный с деревянной ручкой , Ваир 1712012</td>\n",
       "      <td>5633</td>\n",
       "      <td>103</td>\n",
       "    </tr>\n",
       "  </tbody>\n",
       "</table>\n",
       "</div>"
      ],
      "text/plain": [
       "                                                product  total_price  quantity\n",
       "835                           Муляж ЯБЛОКО 9 см красное        32702       618\n",
       "191    Вешалки мягкие для деликатных вещей 3 шт шоколад        49596       335\n",
       "1452      Ручка-скоба РС-100 белая *Трибатрон*, 1108035         5829       201\n",
       "837                Муляж Яблоко зеленый 9 см полиуретан        10492       188\n",
       "663                 Крепеж для пружины дверной, 1107055         3290       170\n",
       "1113  Плечики пластмассовые Размер 52 - 54 Тула 1205158         3210       160\n",
       "1198  Пружина дверная 240 мм оцинкованная (Д-19 мм) ...         5700       150\n",
       "777                 Муляж Банан желтый 21 см полиуретан         5831       109\n",
       "2239  Щетка-сметка 4-х рядная деревянная 300 мм (фиг...         6810       105\n",
       "7      Ёрш унитазный с деревянной ручкой , Ваир 1712012         5633       103"
      ]
     },
     "execution_count": 46,
     "metadata": {},
     "output_type": "execute_result"
    }
   ],
   "source": [
    "sales_and_quantity.sort_values(by='quantity', ascending=False).head(10)"
   ]
  },
  {
   "cell_type": "markdown",
   "metadata": {},
   "source": [
    "В Топ-10 товаров по количеству продаж вошли в основном недорогие, но пользующиеся большим спросом товары. Мы также можем заметить, что здесь присутствуют муляжи яблок и мягкие вешалки, которые также нам встречались в Топ-10 самых прибыльных товаров, что делает их заслуженно лучшими товарами во всем ассортименте"
   ]
  },
  {
   "cell_type": "code",
   "execution_count": 47,
   "metadata": {},
   "outputs": [
    {
     "data": {
      "text/html": [
       "<div>\n",
       "<style scoped>\n",
       "    .dataframe tbody tr th:only-of-type {\n",
       "        vertical-align: middle;\n",
       "    }\n",
       "\n",
       "    .dataframe tbody tr th {\n",
       "        vertical-align: top;\n",
       "    }\n",
       "\n",
       "    .dataframe thead th {\n",
       "        text-align: right;\n",
       "    }\n",
       "</style>\n",
       "<table border=\"1\" class=\"dataframe\">\n",
       "  <thead>\n",
       "    <tr style=\"text-align: right;\">\n",
       "      <th></th>\n",
       "      <th>product</th>\n",
       "      <th>total_price</th>\n",
       "      <th>quantity</th>\n",
       "    </tr>\n",
       "  </thead>\n",
       "  <tbody>\n",
       "    <tr>\n",
       "      <th>6</th>\n",
       "      <td>Ёрш унитазный пластмассовый, Ваир 1712002</td>\n",
       "      <td>44</td>\n",
       "      <td>1</td>\n",
       "    </tr>\n",
       "    <tr>\n",
       "      <th>9</th>\n",
       "      <td>Ёрш унитазный с подставкой WC \"Стандарт\", Муль...</td>\n",
       "      <td>67</td>\n",
       "      <td>1</td>\n",
       "    </tr>\n",
       "    <tr>\n",
       "      <th>17</th>\n",
       "      <td>Аквилегия махровая Тауэр смесь окрасок объем 1 л</td>\n",
       "      <td>97</td>\n",
       "      <td>1</td>\n",
       "    </tr>\n",
       "    <tr>\n",
       "      <th>26</th>\n",
       "      <td>Анемона белый объем 0,5 л</td>\n",
       "      <td>97</td>\n",
       "      <td>1</td>\n",
       "    </tr>\n",
       "    <tr>\n",
       "      <th>27</th>\n",
       "      <td>Антижир POSH ONE MAGNUM 828 мл Россия 4580390-...</td>\n",
       "      <td>217</td>\n",
       "      <td>1</td>\n",
       "    </tr>\n",
       "    <tr>\n",
       "      <th>...</th>\n",
       "      <td>...</td>\n",
       "      <td>...</td>\n",
       "      <td>...</td>\n",
       "    </tr>\n",
       "    <tr>\n",
       "      <th>2331</th>\n",
       "      <td>томата (помидор) Фейерверк № 114 сорт индетерм...</td>\n",
       "      <td>38</td>\n",
       "      <td>1</td>\n",
       "    </tr>\n",
       "    <tr>\n",
       "      <th>2334</th>\n",
       "      <td>томата (помидор) Шалун № 118 сорт индетерминан...</td>\n",
       "      <td>38</td>\n",
       "      <td>1</td>\n",
       "    </tr>\n",
       "    <tr>\n",
       "      <th>2335</th>\n",
       "      <td>томата (помидор) Шахерезада №84 сорт детермина...</td>\n",
       "      <td>38</td>\n",
       "      <td>1</td>\n",
       "    </tr>\n",
       "    <tr>\n",
       "      <th>2336</th>\n",
       "      <td>томата (помидор) Ширли сердцевидный № 119 сорт...</td>\n",
       "      <td>38</td>\n",
       "      <td>1</td>\n",
       "    </tr>\n",
       "    <tr>\n",
       "      <th>2338</th>\n",
       "      <td>томата (помидор) Южный вечер № 120 сорт детерм...</td>\n",
       "      <td>38</td>\n",
       "      <td>1</td>\n",
       "    </tr>\n",
       "  </tbody>\n",
       "</table>\n",
       "<p>475 rows × 3 columns</p>\n",
       "</div>"
      ],
      "text/plain": [
       "                                                product  total_price  quantity\n",
       "6             Ёрш унитазный пластмассовый, Ваир 1712002           44         1\n",
       "9     Ёрш унитазный с подставкой WC \"Стандарт\", Муль...           67         1\n",
       "17     Аквилегия махровая Тауэр смесь окрасок объем 1 л           97         1\n",
       "26                            Анемона белый объем 0,5 л           97         1\n",
       "27    Антижир POSH ONE MAGNUM 828 мл Россия 4580390-...          217         1\n",
       "...                                                 ...          ...       ...\n",
       "2331  томата (помидор) Фейерверк № 114 сорт индетерм...           38         1\n",
       "2334  томата (помидор) Шалун № 118 сорт индетерминан...           38         1\n",
       "2335  томата (помидор) Шахерезада №84 сорт детермина...           38         1\n",
       "2336  томата (помидор) Ширли сердцевидный № 119 сорт...           38         1\n",
       "2338  томата (помидор) Южный вечер № 120 сорт детерм...           38         1\n",
       "\n",
       "[475 rows x 3 columns]"
      ]
     },
     "execution_count": 47,
     "metadata": {},
     "output_type": "execute_result"
    }
   ],
   "source": [
    "sales_and_quantity.query('quantity == 1 and total_price < 300')"
   ]
  },
  {
   "cell_type": "markdown",
   "metadata": {},
   "source": [
    "Поскольку товаров, которые были проданы в единственном экземпляре слишком много, чтобы составить адекватную десятку, мы решили составить список товаров, которые не только продавались в количестве одной штуки, но и стоят менее 300 рублей, а значит, скорее всего, причиняют вред компании, поскольку закупались явно в большем количестве и, вероятно, не окупили потраченных средств. Таких товаров оказалось довольно много - 475 позиций"
   ]
  },
  {
   "cell_type": "markdown",
   "metadata": {},
   "source": [
    "### Анализ лучших товаров в динамике по месяцам"
   ]
  },
  {
   "cell_type": "code",
   "execution_count": 48,
   "metadata": {},
   "outputs": [],
   "source": [
    "A_A = best_products[\"product\"].values.tolist()\n",
    "best_data = data[data[\"product\"].isin(A_A)]"
   ]
  },
  {
   "cell_type": "code",
   "execution_count": 49,
   "metadata": {},
   "outputs": [
    {
     "data": {
      "image/png": "[encoded data removed]",
      "text/plain": [
       "<Figure size 720x432 with 1 Axes>"
      ]
     },
     "metadata": {
      "needs_background": "light"
     },
     "output_type": "display_data"
    }
   ],
   "source": [
    "best_monthly_sales = best_data.groupby(best_data['date'].dt.to_period('M'))['total_price'].sum()\n",
    "best_monthly_sales.index = best_monthly_sales.index.astype(str)\n",
    "\n",
    "\n",
    "plt.plot(best_monthly_sales.index, best_monthly_sales.values)\n",
    "plt.grid(True)\n",
    "plt.xticks(rotation=45, ha='right')\n",
    "\n",
    "\n",
    "fig = plt.gcf()\n",
    "fig.set_size_inches(10, 6)\n",
    "\n",
    "plt.xlabel('Месяц')\n",
    "plt.ylabel('Сумма продаж')\n",
    "plt.title('Продажи по месяцам')\n",
    "\n",
    "plt.show()"
   ]
  },
  {
   "cell_type": "code",
   "execution_count": 50,
   "metadata": {},
   "outputs": [
    {
     "data": {
      "image/png": "[encoded data removed]",
      "text/plain": [
       "<Figure size 720x432 with 1 Axes>"
      ]
     },
     "metadata": {
      "needs_background": "light"
     },
     "output_type": "display_data"
    }
   ],
   "source": [
    "best_monthly_counts = best_data.groupby(best_data['date'].dt.to_period('M'))['quantity'].sum()\n",
    "best_monthly_counts.index = best_monthly_sales.index.astype(str)\n",
    "\n",
    "\n",
    "plt.plot(best_monthly_counts.index, best_monthly_counts.values)\n",
    "plt.grid(True)\n",
    "plt.xticks(rotation=45, ha='right')\n",
    "\n",
    "\n",
    "fig = plt.gcf()\n",
    "fig.set_size_inches(10, 6)\n",
    "\n",
    "plt.xlabel('Месяц')\n",
    "plt.ylabel('Количество проданных единиц')\n",
    "plt.title('Количество продаж по месяцам')\n",
    "\n",
    "plt.show()"
   ]
  },
  {
   "cell_type": "markdown",
   "metadata": {},
   "source": [
    "Построив два графика, показывающих динамику продаж лучших товаров (из А-А групп), мы увидели интересующую нас закономерность. Последние два месяца объем количества проданных товаров из числа лучших оказались на отметке около нуля. Самым разумным предположением может служить то, что товар либо закончился на складах, либо по какой-то причине перестал закупаться отделом закупок. Как бы то ни было, исчезновение из ассортимента товаров, показывающих самые высокие продажи как в денежном, так и в количественном отношении, обрушило продажи интернет-магазина."
   ]
  },
  {
   "cell_type": "markdown",
   "metadata": {},
   "source": [
    "### Анализ числа заказов"
   ]
  },
  {
   "cell_type": "markdown",
   "metadata": {},
   "source": [
    "#### по месяцам"
   ]
  },
  {
   "cell_type": "code",
   "execution_count": 51,
   "metadata": {},
   "outputs": [
    {
     "data": {
      "image/png": "[encoded data removed]",
      "text/plain": [
       "<Figure size 432x288 with 1 Axes>"
      ]
     },
     "metadata": {
      "needs_background": "light"
     },
     "output_type": "display_data"
    }
   ],
   "source": [
    "monthly_orders = data.groupby('month')['order_id'].nunique()\n",
    "plt.bar(monthly_orders.index, monthly_orders.values)\n",
    "\n",
    "plt.xlabel('Месяц')\n",
    "plt.ylabel('Количество заказов')\n",
    "plt.title('Количество уникальных заказов по месяцам')\n",
    "plt.xticks(rotation=45)\n",
    "\n",
    "plt.show()"
   ]
  },
  {
   "cell_type": "markdown",
   "metadata": {},
   "source": [
    "Сезонность, прослеживаемая на диаграмме на первый взгляд, на самом деле не соответствует действительности, поскольку данные содержат временной промежуток с октября 2018 по январь 2020,то есть представляют данные за две зимы и лишь одно лето. Корректнее было бы взглянуть на данные за полный 2019 год."
   ]
  },
  {
   "cell_type": "code",
   "execution_count": 52,
   "metadata": {},
   "outputs": [
    {
     "data": {
      "image/png": "[encoded data removed]",
      "text/plain": [
       "<Figure size 432x288 with 1 Axes>"
      ]
     },
     "metadata": {
      "needs_background": "light"
     },
     "output_type": "display_data"
    }
   ],
   "source": [
    "orders_2019 = data.query('date.dt.year == 2019').groupby('month')['order_id'].nunique()\n",
    "plt.bar(orders_2019.index, orders_2019.values)\n",
    "\n",
    "plt.xlabel('Месяц')\n",
    "plt.ylabel('Количество заказов')\n",
    "plt.title('Количество уникальных заказов по месяцам')\n",
    "plt.xticks(rotation=45)\n",
    "\n",
    "plt.show()"
   ]
  },
  {
   "cell_type": "markdown",
   "metadata": {},
   "source": [
    "Теперь сезонность уже не кажется настолько очевидной. Сложно выделить однозначную закономерность, хотя и видно, что больше всего заказов приходится с февраля по апрель, а летом количество заказов падает, хотя и не сильно."
   ]
  },
  {
   "cell_type": "markdown",
   "metadata": {},
   "source": [
    "#### по часам"
   ]
  },
  {
   "cell_type": "code",
   "execution_count": 53,
   "metadata": {},
   "outputs": [
    {
     "data": {
      "image/png": "[encoded data removed]",
      "text/plain": [
       "<Figure size 432x288 with 1 Axes>"
      ]
     },
     "metadata": {
      "needs_background": "light"
     },
     "output_type": "display_data"
    }
   ],
   "source": [
    "hour_orders = data.groupby('hour')['order_id'].nunique()\n",
    "plt.bar(hour_orders.index, hour_orders.values)\n",
    "\n",
    "plt.xlabel('Час')\n",
    "plt.ylabel('Количество заказов')\n",
    "plt.title('Количество уникальных заказов по часам')\n",
    "plt.xticks(rotation=45)\n",
    "\n",
    "plt.show()"
   ]
  },
  {
   "cell_type": "markdown",
   "metadata": {},
   "source": [
    "На графике мы видим, что пик количества заказов приходится на период с 10 до 15 часов, после чего идет на спад. В период с полуночи до семи утра число заказов крайне мало."
   ]
  },
  {
   "cell_type": "markdown",
   "metadata": {},
   "source": [
    "### Проверка статистических гипотез"
   ]
  },
  {
   "cell_type": "markdown",
   "metadata": {},
   "source": [
    "#### Проверка сезонности"
   ]
  },
  {
   "cell_type": "markdown",
   "metadata": {},
   "source": [
    "Вопрос сезонности остается не до конца решенным, поэтому мы попробуем проверить данные на статистическую значимость различий между холодным временем года (октябрь-март) и теплым (апрель-сентябрь). Из-за несовершенности временного периода наших данных, для чистоты эксперимента мы возьмем данные с октября 2018 по март 2019 для первого периода и с апреля по сентябрь 2019 для второго \\\n",
    "В качестве **нулевой гипотезы** предположим, что продажи в этих двух периодах равны \\\n",
    "Таким образом, **альтернативная гипотеза** заключается в том, что периоды не равны между собой"
   ]
  },
  {
   "cell_type": "code",
   "execution_count": 54,
   "metadata": {},
   "outputs": [],
   "source": [
    "sales_cold = data.query('(date.dt.year == 2018) or (date.dt.year == 2019 and date.dt.month <= 3)')['total_price']\n",
    "sales_warm = data.query('(date.dt.year == 2019) and (date.dt.month <= 9) and (date.dt.month >= 4)')['total_price']"
   ]
  },
  {
   "cell_type": "code",
   "execution_count": 55,
   "metadata": {},
   "outputs": [
    {
     "name": "stdout",
     "output_type": "stream",
     "text": [
      "Значение t-статистики: 5.614727328982241\n",
      "p-значение: 2.0952650609601284e-08\n",
      "Отвергаем нулевую гипотезу\n"
     ]
    }
   ],
   "source": [
    "t_statistic, p_value = ttest_ind(sales_cold, sales_warm, equal_var=False)\n",
    "alpha = 0.05\n",
    "print(f\"Значение t-статистики:\", t_statistic)\n",
    "print(f\"p-значение:\", p_value)\n",
    "if p_value < alpha:\n",
    "    print('Отвергаем нулевую гипотезу')\n",
    "else:\n",
    "    print('Не получилось отвергнуть нулевую гипотезу') "
   ]
  },
  {
   "cell_type": "markdown",
   "metadata": {},
   "source": [
    "Значение значимости различий оказалось ниже критической отметки, поэтому мы можем окончательно убедиться в существовании сезонности, предположенной нами ранее"
   ]
  },
  {
   "cell_type": "markdown",
   "metadata": {},
   "source": [
    "#### Проверка статистического равенства стоимости товаров двух крупнейших категорий"
   ]
  },
  {
   "cell_type": "markdown",
   "metadata": {},
   "source": [
    "В качестве второй гипотезы мы решили сравнить стоимости товаров в категориях \"Хоз товары\" и \"Бытовые приборы\". Эти две категории принесли компании наибольшую прибыль, так что нам было бы интересно узнать, равны ли статистически стоимости товаров в этих категориях. \\\n",
    "**Нулевой гипотезой** примем равенство стоимостей товаров этих категорий \\\n",
    "**Альтернативной гипотезой** станет статистическое различие стоимостей"
   ]
  },
  {
   "cell_type": "code",
   "execution_count": 56,
   "metadata": {},
   "outputs": [],
   "source": [
    "hoz_goods = data.query('category == \"Хоз товары\"')['price']\n",
    "home_goods = data.query('category == \"Бытовые приборы\"')['price']"
   ]
  },
  {
   "cell_type": "code",
   "execution_count": 57,
   "metadata": {},
   "outputs": [
    {
     "name": "stdout",
     "output_type": "stream",
     "text": [
      "Значение t-статистики: -1.1899262015938181\n",
      "p-значение: 0.2342884404561877\n",
      "Не получилось отвергнуть нулевую гипотезу\n"
     ]
    }
   ],
   "source": [
    "t_statistic, p_value = ttest_ind(hoz_goods, home_goods, equal_var=False)\n",
    "alpha = 0.05\n",
    "print(f\"Значение t-статистики:\", t_statistic)\n",
    "print(f\"p-значение:\", p_value)\n",
    "if p_value < alpha:\n",
    "    print('Отвергаем нулевую гипотезу')\n",
    "else:\n",
    "    print('Не получилось отвергнуть нулевую гипотезу') "
   ]
  },
  {
   "cell_type": "markdown",
   "metadata": {},
   "source": [
    "Проведенный тест показал нам, что критически значимой статистической разницы между стоимостями товаров этих двух категорий нет"
   ]
  },
  {
   "cell_type": "markdown",
   "metadata": {},
   "source": [
    "#### Проверка корреляции между количеством товара в заказе и его ценой"
   ]
  },
  {
   "cell_type": "markdown",
   "metadata": {},
   "source": [
    "Также мы решили проверить гипотезу о том, что существует закономерность между количеством товара в заказе и его стоимостью. Для проверки этой гипотезы воспользуемся методом расчета коэффициента корреляции Спирмена. Положительное значение коэффициента корреляции будет свидетельствовать о том, что с ростом цены товара растет количество таких позиций в заказе. При отрицательном значении наоборот. Если значение окажется около нуля, то видимая корреляция отсутствует."
   ]
  },
  {
   "cell_type": "code",
   "execution_count": 58,
   "metadata": {},
   "outputs": [
    {
     "name": "stdout",
     "output_type": "stream",
     "text": [
      "Коэффициент корреляции Спирмена: -0.26\n"
     ]
    }
   ],
   "source": [
    "corr_dara = data[['quantity', 'price']]\n",
    "\n",
    "# Рассчет коэффициента корреляции Спирмена\n",
    "correlation = corr_dara['quantity'].corr(corr_dara['price'], method='spearman')\n",
    "\n",
    "print(f\"Коэффициент корреляции Спирмена: {correlation.round(2)}\")"
   ]
  },
  {
   "cell_type": "markdown",
   "metadata": {},
   "source": [
    "Коэффициент корреляции Спирмена оказался равен -0.26, что свидетельствует о несильной, но существующей зависимости - с ростом цены товара уменьшается количество такого товара в заказе"
   ]
  },
  {
   "cell_type": "markdown",
   "metadata": {},
   "source": [
    "# Вывод"
   ]
  },
  {
   "cell_type": "markdown",
   "metadata": {},
   "source": [
    "В проведенном исследовании мы достигли всех поставленных задач:\n",
    "1) *Проанализировали продажи магазина \\\n",
    "2) Изучили товарный ассортимент \\\n",
    "3) Провели АВС-анализ и выделили лучшие и перспективные товары \\\n",
    "4) Проанализировали количество заказов по месяцам и часам \\\n",
    "5) Проверили несколько статистических гипотез* \\\n",
    "\\\n",
    "Резюмируя итоги исследования, мы можем сделать следующие **выводы**: \n",
    "\n",
    "1) Продажи магазина стремительно падают последние полгода, хотя количество заказов растет. Дело в падении среднего чека практически в два раза из-за отсутсвия в ассортименте товаров, обеспечивающих ранее магазину большую долю выручке. Речь о товарах, которые мы определили в качестве лидеров по обоим АВС-анализам и присвоили им группу А-А. Продажи товаров этой группы особенно в последние два месяца стремятся к нулю. \\\n",
    "2) С помощью двойного АВС-анализа мы определили три группы товаров: лучшие (упомянутая выше А-А группа), перспективные (куда вошли А-В, А-С и В-А группы) и все остальные, которых можно идентифицировать как дополнительный ассортимент и который нуждается в контроле и, возможно, чистке \\\n",
    "3) Исследовав сезонность с помощью помесячной диаграммы и проверки статистической гипотезы, мы убедились, что в холодное время года (с октября по март) заказов действительно больше, чем в теплое (с апреля по сентябрь) \\\n",
    "4) Мы также нашли закономерность между количеством товара в заказе и его ценой с помощью нахождения коэффициента корреляции Спирмена. Результаты свидетельствуют о несильной, но существующей зависимости - с ростом цены товара уменьшается количество такого товара в заказе. Эти данные должны учитываться при расчете прогнозируемого количества позиций в чеке и среднего чека"
   ]
  },
  {
   "cell_type": "markdown",
   "metadata": {},
   "source": [
    "Ссылка на презентацию: <https://drive.google.com/file/d/1yGDR8lnFjbZVB5YOe9mastltwcM3ohhk/view?usp=sharing>"
   ]
  }
 ],
 "metadata": {
  "ExecuteTimeLog": [
   {
    "duration": 481,
    "start_time": "2023-07-11T10:27:19.266Z"
   },
   {
    "duration": 1661,
    "start_time": "2023-07-11T10:27:57.440Z"
   },
   {
    "duration": 147,
    "start_time": "2023-07-11T10:28:47.065Z"
   },
   {
    "duration": 21,
    "start_time": "2023-07-11T10:28:52.700Z"
   },
   {
    "duration": 14,
    "start_time": "2023-07-11T10:29:22.164Z"
   },
   {
    "duration": 13,
    "start_time": "2023-07-11T10:45:50.612Z"
   },
   {
    "duration": 24,
    "start_time": "2023-07-11T10:45:53.980Z"
   },
   {
    "duration": 12,
    "start_time": "2023-07-11T10:46:39.809Z"
   },
   {
    "duration": 14,
    "start_time": "2023-07-11T10:46:40.525Z"
   },
   {
    "duration": 8,
    "start_time": "2023-07-11T10:48:39.649Z"
   },
   {
    "duration": 11,
    "start_time": "2023-07-11T10:49:43.679Z"
   },
   {
    "duration": 25,
    "start_time": "2023-07-11T10:59:16.148Z"
   },
   {
    "duration": 11,
    "start_time": "2023-07-11T11:01:07.860Z"
   },
   {
    "duration": 68,
    "start_time": "2023-07-11T11:01:07.873Z"
   },
   {
    "duration": 49,
    "start_time": "2023-07-11T11:01:07.944Z"
   },
   {
    "duration": 25,
    "start_time": "2023-07-11T11:01:07.996Z"
   },
   {
    "duration": 19,
    "start_time": "2023-07-11T11:01:08.024Z"
   },
   {
    "duration": 10,
    "start_time": "2023-07-11T11:01:08.046Z"
   },
   {
    "duration": 28,
    "start_time": "2023-07-11T11:01:08.058Z"
   },
   {
    "duration": 33,
    "start_time": "2023-07-11T11:01:08.091Z"
   },
   {
    "duration": 11,
    "start_time": "2023-07-11T11:01:44.737Z"
   },
   {
    "duration": 11,
    "start_time": "2023-07-11T11:02:57.511Z"
   },
   {
    "duration": 7,
    "start_time": "2023-07-11T11:03:10.032Z"
   },
   {
    "duration": 10,
    "start_time": "2023-07-11T11:03:26.339Z"
   },
   {
    "duration": 18,
    "start_time": "2023-07-11T11:03:55.192Z"
   },
   {
    "duration": 11,
    "start_time": "2023-07-11T11:04:26.910Z"
   },
   {
    "duration": 17,
    "start_time": "2023-07-11T11:06:37.303Z"
   },
   {
    "duration": 29,
    "start_time": "2023-07-11T11:09:26.812Z"
   },
   {
    "duration": 3,
    "start_time": "2023-07-11T11:11:11.009Z"
   },
   {
    "duration": 91,
    "start_time": "2023-07-11T11:11:11.015Z"
   },
   {
    "duration": 22,
    "start_time": "2023-07-11T11:11:11.108Z"
   },
   {
    "duration": 15,
    "start_time": "2023-07-11T11:11:11.132Z"
   },
   {
    "duration": 46,
    "start_time": "2023-07-11T11:11:11.149Z"
   },
   {
    "duration": 24,
    "start_time": "2023-07-11T11:11:11.198Z"
   },
   {
    "duration": 14,
    "start_time": "2023-07-11T11:11:11.224Z"
   },
   {
    "duration": 61,
    "start_time": "2023-07-11T11:11:11.240Z"
   },
   {
    "duration": 72,
    "start_time": "2023-07-11T11:11:13.929Z"
   },
   {
    "duration": 109,
    "start_time": "2023-07-11T11:11:23.511Z"
   },
   {
    "duration": 40,
    "start_time": "2023-07-11T11:11:29.482Z"
   },
   {
    "duration": 11,
    "start_time": "2023-07-11T11:11:58.726Z"
   },
   {
    "duration": 56,
    "start_time": "2023-07-11T11:12:12.215Z"
   },
   {
    "duration": 28,
    "start_time": "2023-07-11T11:14:53.995Z"
   },
   {
    "duration": 133,
    "start_time": "2023-07-11T11:15:26.575Z"
   },
   {
    "duration": 41,
    "start_time": "2023-07-11T11:18:03.376Z"
   },
   {
    "duration": 16,
    "start_time": "2023-07-11T11:18:27.184Z"
   },
   {
    "duration": 26,
    "start_time": "2023-07-11T11:18:34.734Z"
   },
   {
    "duration": 12,
    "start_time": "2023-07-11T11:21:48.398Z"
   },
   {
    "duration": 35,
    "start_time": "2023-07-11T11:22:00.444Z"
   },
   {
    "duration": 35,
    "start_time": "2023-07-11T11:25:04.712Z"
   },
   {
    "duration": 3,
    "start_time": "2023-07-11T11:27:21.179Z"
   },
   {
    "duration": 49,
    "start_time": "2023-07-11T11:27:21.200Z"
   },
   {
    "duration": 36,
    "start_time": "2023-07-11T11:27:21.251Z"
   },
   {
    "duration": 27,
    "start_time": "2023-07-11T11:27:21.289Z"
   },
   {
    "duration": 13,
    "start_time": "2023-07-11T11:27:21.318Z"
   },
   {
    "duration": 7,
    "start_time": "2023-07-11T11:27:21.333Z"
   },
   {
    "duration": 20,
    "start_time": "2023-07-11T11:27:21.342Z"
   },
   {
    "duration": 27,
    "start_time": "2023-07-11T11:27:21.363Z"
   },
   {
    "duration": 21,
    "start_time": "2023-07-11T11:27:21.392Z"
   },
   {
    "duration": 57,
    "start_time": "2023-07-11T11:27:29.044Z"
   },
   {
    "duration": 11,
    "start_time": "2023-07-11T11:29:41.410Z"
   },
   {
    "duration": 30,
    "start_time": "2023-07-11T11:30:07.636Z"
   },
   {
    "duration": 17,
    "start_time": "2023-07-11T11:31:18.474Z"
   },
   {
    "duration": 12,
    "start_time": "2023-07-11T11:42:58.837Z"
   },
   {
    "duration": 11,
    "start_time": "2023-07-11T11:43:21.318Z"
   },
   {
    "duration": 11,
    "start_time": "2023-07-11T11:43:32.641Z"
   },
   {
    "duration": 12,
    "start_time": "2023-07-11T11:43:38.927Z"
   },
   {
    "duration": 18,
    "start_time": "2023-07-11T11:45:09.298Z"
   },
   {
    "duration": 33,
    "start_time": "2023-07-11T11:45:38.787Z"
   },
   {
    "duration": 2,
    "start_time": "2023-07-11T11:46:10.644Z"
   },
   {
    "duration": 33,
    "start_time": "2023-07-11T11:46:21.294Z"
   },
   {
    "duration": 12,
    "start_time": "2023-07-11T11:49:40.820Z"
   },
   {
    "duration": 4,
    "start_time": "2023-07-11T11:49:48.896Z"
   },
   {
    "duration": 64,
    "start_time": "2023-07-11T11:49:48.902Z"
   },
   {
    "duration": 21,
    "start_time": "2023-07-11T11:49:48.969Z"
   },
   {
    "duration": 11,
    "start_time": "2023-07-11T11:49:48.992Z"
   },
   {
    "duration": 30,
    "start_time": "2023-07-11T11:49:49.005Z"
   },
   {
    "duration": 32,
    "start_time": "2023-07-11T11:49:49.037Z"
   },
   {
    "duration": 16,
    "start_time": "2023-07-11T11:49:49.075Z"
   },
   {
    "duration": 51,
    "start_time": "2023-07-11T11:49:49.093Z"
   },
   {
    "duration": 16,
    "start_time": "2023-07-11T11:50:23.896Z"
   },
   {
    "duration": 16,
    "start_time": "2023-07-11T11:52:07.970Z"
   },
   {
    "duration": 7,
    "start_time": "2023-07-11T11:56:30.589Z"
   },
   {
    "duration": 2,
    "start_time": "2023-07-11T11:56:40.162Z"
   },
   {
    "duration": 51,
    "start_time": "2023-07-11T11:56:40.166Z"
   },
   {
    "duration": 14,
    "start_time": "2023-07-11T11:56:40.219Z"
   },
   {
    "duration": 12,
    "start_time": "2023-07-11T11:56:40.235Z"
   },
   {
    "duration": 12,
    "start_time": "2023-07-11T11:56:40.249Z"
   },
   {
    "duration": 7,
    "start_time": "2023-07-11T11:56:40.262Z"
   },
   {
    "duration": 10,
    "start_time": "2023-07-11T11:56:40.271Z"
   },
   {
    "duration": 16,
    "start_time": "2023-07-11T11:56:40.283Z"
   },
   {
    "duration": 7,
    "start_time": "2023-07-11T11:56:40.300Z"
   },
   {
    "duration": 8,
    "start_time": "2023-07-11T11:56:41.918Z"
   },
   {
    "duration": 2,
    "start_time": "2023-07-11T11:57:42.204Z"
   },
   {
    "duration": 47,
    "start_time": "2023-07-11T11:57:42.209Z"
   },
   {
    "duration": 16,
    "start_time": "2023-07-11T11:57:42.258Z"
   },
   {
    "duration": 16,
    "start_time": "2023-07-11T11:57:42.276Z"
   },
   {
    "duration": 19,
    "start_time": "2023-07-11T11:57:42.295Z"
   },
   {
    "duration": 9,
    "start_time": "2023-07-11T11:57:42.316Z"
   },
   {
    "duration": 14,
    "start_time": "2023-07-11T11:57:42.355Z"
   },
   {
    "duration": 24,
    "start_time": "2023-07-11T11:57:42.371Z"
   },
   {
    "duration": 8,
    "start_time": "2023-07-11T11:57:44.743Z"
   },
   {
    "duration": 8,
    "start_time": "2023-07-11T11:57:54.493Z"
   },
   {
    "duration": 3,
    "start_time": "2023-07-11T11:58:18.950Z"
   },
   {
    "duration": 47,
    "start_time": "2023-07-11T11:58:20.238Z"
   },
   {
    "duration": 16,
    "start_time": "2023-07-11T11:58:21.270Z"
   },
   {
    "duration": 13,
    "start_time": "2023-07-11T11:58:23.520Z"
   },
   {
    "duration": 14,
    "start_time": "2023-07-11T11:58:26.788Z"
   },
   {
    "duration": 7,
    "start_time": "2023-07-11T11:58:28.139Z"
   },
   {
    "duration": 11,
    "start_time": "2023-07-11T11:58:31.111Z"
   },
   {
    "duration": 17,
    "start_time": "2023-07-11T11:58:35.061Z"
   },
   {
    "duration": 8,
    "start_time": "2023-07-11T11:58:41.984Z"
   },
   {
    "duration": 10,
    "start_time": "2023-07-11T11:58:57.379Z"
   },
   {
    "duration": 9,
    "start_time": "2023-07-11T11:59:06.699Z"
   },
   {
    "duration": 3,
    "start_time": "2023-07-11T11:59:24.922Z"
   },
   {
    "duration": 3,
    "start_time": "2023-07-11T11:59:31.054Z"
   },
   {
    "duration": 74,
    "start_time": "2023-07-11T11:59:31.059Z"
   },
   {
    "duration": 16,
    "start_time": "2023-07-11T11:59:31.135Z"
   },
   {
    "duration": 32,
    "start_time": "2023-07-11T11:59:31.152Z"
   },
   {
    "duration": 45,
    "start_time": "2023-07-11T11:59:31.187Z"
   },
   {
    "duration": 23,
    "start_time": "2023-07-11T11:59:31.234Z"
   },
   {
    "duration": 34,
    "start_time": "2023-07-11T11:59:31.259Z"
   },
   {
    "duration": 32,
    "start_time": "2023-07-11T11:59:31.295Z"
   },
   {
    "duration": 14,
    "start_time": "2023-07-11T11:59:33.118Z"
   },
   {
    "duration": 9,
    "start_time": "2023-07-11T11:59:49.287Z"
   },
   {
    "duration": 10,
    "start_time": "2023-07-11T11:59:54.658Z"
   },
   {
    "duration": 4,
    "start_time": "2023-07-11T12:00:37.148Z"
   },
   {
    "duration": 7,
    "start_time": "2023-07-11T12:01:02.719Z"
   },
   {
    "duration": 3,
    "start_time": "2023-07-11T12:01:07.199Z"
   },
   {
    "duration": 51,
    "start_time": "2023-07-11T12:01:07.204Z"
   },
   {
    "duration": 13,
    "start_time": "2023-07-11T12:01:07.257Z"
   },
   {
    "duration": 16,
    "start_time": "2023-07-11T12:01:07.272Z"
   },
   {
    "duration": 14,
    "start_time": "2023-07-11T12:01:07.290Z"
   },
   {
    "duration": 7,
    "start_time": "2023-07-11T12:01:07.306Z"
   },
   {
    "duration": 41,
    "start_time": "2023-07-11T12:01:07.314Z"
   },
   {
    "duration": 16,
    "start_time": "2023-07-11T12:01:07.357Z"
   },
   {
    "duration": 21,
    "start_time": "2023-07-11T12:01:24.701Z"
   },
   {
    "duration": 9,
    "start_time": "2023-07-11T12:01:38.645Z"
   },
   {
    "duration": 15,
    "start_time": "2023-07-11T12:01:46.789Z"
   },
   {
    "duration": 11,
    "start_time": "2023-07-11T12:02:26.241Z"
   },
   {
    "duration": 14,
    "start_time": "2023-07-11T12:02:30.199Z"
   },
   {
    "duration": 11,
    "start_time": "2023-07-11T12:02:43.052Z"
   },
   {
    "duration": 16,
    "start_time": "2023-07-11T12:04:51.805Z"
   },
   {
    "duration": 43,
    "start_time": "2023-07-11T12:09:45.955Z"
   },
   {
    "duration": 16,
    "start_time": "2023-07-11T12:10:02.736Z"
   },
   {
    "duration": 11,
    "start_time": "2023-07-11T12:10:13.805Z"
   },
   {
    "duration": 11,
    "start_time": "2023-07-11T12:11:03.731Z"
   },
   {
    "duration": 8,
    "start_time": "2023-07-11T12:13:00.532Z"
   },
   {
    "duration": 11,
    "start_time": "2023-07-11T12:13:06.526Z"
   },
   {
    "duration": 16,
    "start_time": "2023-07-11T12:16:57.520Z"
   },
   {
    "duration": 17,
    "start_time": "2023-07-11T12:17:21.140Z"
   },
   {
    "duration": 15,
    "start_time": "2023-07-11T12:17:35.119Z"
   },
   {
    "duration": 13,
    "start_time": "2023-07-11T12:18:04.826Z"
   },
   {
    "duration": 5,
    "start_time": "2023-07-11T12:18:36.758Z"
   },
   {
    "duration": 3,
    "start_time": "2023-07-11T12:19:46.291Z"
   },
   {
    "duration": 84,
    "start_time": "2023-07-11T12:19:46.296Z"
   },
   {
    "duration": 22,
    "start_time": "2023-07-11T12:19:46.382Z"
   },
   {
    "duration": 98,
    "start_time": "2023-07-11T12:19:46.406Z"
   },
   {
    "duration": 41,
    "start_time": "2023-07-11T12:19:46.506Z"
   },
   {
    "duration": 54,
    "start_time": "2023-07-11T12:19:46.549Z"
   },
   {
    "duration": 72,
    "start_time": "2023-07-11T12:19:46.605Z"
   },
   {
    "duration": 57,
    "start_time": "2023-07-11T12:19:46.679Z"
   },
   {
    "duration": 67,
    "start_time": "2023-07-11T12:19:46.737Z"
   },
   {
    "duration": 31,
    "start_time": "2023-07-11T12:19:46.806Z"
   },
   {
    "duration": 92,
    "start_time": "2023-07-11T12:19:46.839Z"
   },
   {
    "duration": 44,
    "start_time": "2023-07-11T12:19:46.932Z"
   },
   {
    "duration": 79,
    "start_time": "2023-07-11T12:19:46.978Z"
   },
   {
    "duration": 35,
    "start_time": "2023-07-11T12:19:47.059Z"
   },
   {
    "duration": 47,
    "start_time": "2023-07-11T12:19:47.096Z"
   },
   {
    "duration": 3,
    "start_time": "2023-07-11T12:20:12.744Z"
   },
   {
    "duration": 65,
    "start_time": "2023-07-11T12:20:12.749Z"
   },
   {
    "duration": 16,
    "start_time": "2023-07-11T12:20:12.815Z"
   },
   {
    "duration": 39,
    "start_time": "2023-07-11T12:20:12.832Z"
   },
   {
    "duration": 25,
    "start_time": "2023-07-11T12:20:12.874Z"
   },
   {
    "duration": 9,
    "start_time": "2023-07-11T12:20:12.901Z"
   },
   {
    "duration": 3,
    "start_time": "2023-07-11T12:20:17.309Z"
   },
   {
    "duration": 70,
    "start_time": "2023-07-11T12:20:17.315Z"
   },
   {
    "duration": 16,
    "start_time": "2023-07-11T12:20:17.386Z"
   },
   {
    "duration": 32,
    "start_time": "2023-07-11T12:20:17.404Z"
   },
   {
    "duration": 25,
    "start_time": "2023-07-11T12:20:17.438Z"
   },
   {
    "duration": 7,
    "start_time": "2023-07-11T12:20:17.466Z"
   },
   {
    "duration": 15,
    "start_time": "2023-07-11T12:20:17.475Z"
   },
   {
    "duration": 20,
    "start_time": "2023-07-11T12:20:17.492Z"
   },
   {
    "duration": 36,
    "start_time": "2023-07-11T12:20:17.515Z"
   },
   {
    "duration": 10,
    "start_time": "2023-07-11T12:20:17.555Z"
   },
   {
    "duration": 31,
    "start_time": "2023-07-11T12:20:17.569Z"
   },
   {
    "duration": 15,
    "start_time": "2023-07-11T12:20:17.603Z"
   },
   {
    "duration": 16,
    "start_time": "2023-07-11T12:20:17.620Z"
   },
   {
    "duration": 8,
    "start_time": "2023-07-11T12:20:17.654Z"
   },
   {
    "duration": 32,
    "start_time": "2023-07-11T12:20:17.665Z"
   },
   {
    "duration": 14,
    "start_time": "2023-07-11T12:21:36.813Z"
   },
   {
    "duration": 12,
    "start_time": "2023-07-11T12:22:33.366Z"
   },
   {
    "duration": 16,
    "start_time": "2023-07-11T12:26:23.931Z"
   },
   {
    "duration": 11,
    "start_time": "2023-07-11T12:26:32.991Z"
   },
   {
    "duration": 6,
    "start_time": "2023-07-11T12:28:38.290Z"
   },
   {
    "duration": 13,
    "start_time": "2023-07-11T12:29:53.980Z"
   },
   {
    "duration": 10,
    "start_time": "2023-07-11T12:30:14.915Z"
   },
   {
    "duration": 5,
    "start_time": "2023-07-11T12:32:02.470Z"
   },
   {
    "duration": 16,
    "start_time": "2023-07-11T12:32:05.680Z"
   },
   {
    "duration": 11,
    "start_time": "2023-07-11T12:32:21.641Z"
   },
   {
    "duration": 16,
    "start_time": "2023-07-11T12:34:59.187Z"
   },
   {
    "duration": 5,
    "start_time": "2023-07-11T12:38:06.805Z"
   },
   {
    "duration": 2,
    "start_time": "2023-07-11T12:38:11.047Z"
   },
   {
    "duration": 53,
    "start_time": "2023-07-11T12:38:11.051Z"
   },
   {
    "duration": 15,
    "start_time": "2023-07-11T12:38:11.106Z"
   },
   {
    "duration": 12,
    "start_time": "2023-07-11T12:38:11.122Z"
   },
   {
    "duration": 13,
    "start_time": "2023-07-11T12:38:11.136Z"
   },
   {
    "duration": 5,
    "start_time": "2023-07-11T12:38:11.154Z"
   },
   {
    "duration": 19,
    "start_time": "2023-07-11T12:38:11.160Z"
   },
   {
    "duration": 33,
    "start_time": "2023-07-11T12:38:11.181Z"
   },
   {
    "duration": 17,
    "start_time": "2023-07-11T12:38:11.216Z"
   },
   {
    "duration": 8,
    "start_time": "2023-07-11T12:38:11.234Z"
   },
   {
    "duration": 15,
    "start_time": "2023-07-11T12:38:11.243Z"
   },
   {
    "duration": 11,
    "start_time": "2023-07-11T12:38:11.260Z"
   },
   {
    "duration": 12,
    "start_time": "2023-07-11T12:38:11.273Z"
   },
   {
    "duration": 7,
    "start_time": "2023-07-11T12:38:11.288Z"
   },
   {
    "duration": 13,
    "start_time": "2023-07-11T12:38:11.297Z"
   },
   {
    "duration": 52,
    "start_time": "2023-07-11T12:38:11.312Z"
   },
   {
    "duration": 20,
    "start_time": "2023-07-11T12:38:11.365Z"
   },
   {
    "duration": 9,
    "start_time": "2023-07-11T12:38:11.387Z"
   },
   {
    "duration": 11,
    "start_time": "2023-07-11T12:38:11.398Z"
   },
   {
    "duration": 15,
    "start_time": "2023-07-11T12:38:11.411Z"
   },
   {
    "duration": 27,
    "start_time": "2023-07-11T12:38:11.427Z"
   },
   {
    "duration": 16,
    "start_time": "2023-07-11T12:38:14.911Z"
   },
   {
    "duration": 6,
    "start_time": "2023-07-11T12:40:16.967Z"
   },
   {
    "duration": 16,
    "start_time": "2023-07-11T12:40:21.739Z"
   },
   {
    "duration": 443,
    "start_time": "2023-07-12T10:47:11.057Z"
   },
   {
    "duration": 160,
    "start_time": "2023-07-12T10:47:11.502Z"
   },
   {
    "duration": 29,
    "start_time": "2023-07-12T10:47:11.665Z"
   },
   {
    "duration": 23,
    "start_time": "2023-07-12T10:47:11.696Z"
   },
   {
    "duration": 29,
    "start_time": "2023-07-12T10:47:11.722Z"
   },
   {
    "duration": 6,
    "start_time": "2023-07-12T10:47:11.753Z"
   },
   {
    "duration": 18,
    "start_time": "2023-07-12T10:47:11.760Z"
   },
   {
    "duration": 14,
    "start_time": "2023-07-12T10:47:11.779Z"
   },
   {
    "duration": 44,
    "start_time": "2023-07-12T10:47:11.795Z"
   },
   {
    "duration": 15,
    "start_time": "2023-07-12T10:47:11.841Z"
   },
   {
    "duration": 14,
    "start_time": "2023-07-12T10:47:11.858Z"
   },
   {
    "duration": 14,
    "start_time": "2023-07-12T10:47:11.874Z"
   },
   {
    "duration": 28,
    "start_time": "2023-07-12T10:47:11.889Z"
   },
   {
    "duration": 23,
    "start_time": "2023-07-12T10:47:11.919Z"
   },
   {
    "duration": 19,
    "start_time": "2023-07-12T10:47:11.944Z"
   },
   {
    "duration": 12,
    "start_time": "2023-07-12T10:47:11.965Z"
   },
   {
    "duration": 14,
    "start_time": "2023-07-12T10:47:11.979Z"
   },
   {
    "duration": 6,
    "start_time": "2023-07-12T10:47:11.995Z"
   },
   {
    "duration": 16,
    "start_time": "2023-07-12T10:47:12.003Z"
   },
   {
    "duration": 44,
    "start_time": "2023-07-12T10:47:12.021Z"
   },
   {
    "duration": 16,
    "start_time": "2023-07-12T10:47:12.067Z"
   },
   {
    "duration": 5,
    "start_time": "2023-07-12T10:48:01.283Z"
   },
   {
    "duration": 3,
    "start_time": "2023-07-12T10:48:13.835Z"
   },
   {
    "duration": 58,
    "start_time": "2023-07-12T10:48:17.700Z"
   },
   {
    "duration": 22,
    "start_time": "2023-07-12T10:48:19.084Z"
   },
   {
    "duration": 12,
    "start_time": "2023-07-12T10:48:24.506Z"
   },
   {
    "duration": 19,
    "start_time": "2023-07-12T10:48:28.885Z"
   },
   {
    "duration": 5,
    "start_time": "2023-07-12T10:48:29.574Z"
   },
   {
    "duration": 11,
    "start_time": "2023-07-12T10:48:34.135Z"
   },
   {
    "duration": 14,
    "start_time": "2023-07-12T10:48:35.688Z"
   },
   {
    "duration": 18,
    "start_time": "2023-07-12T10:48:37.936Z"
   },
   {
    "duration": 10,
    "start_time": "2023-07-12T10:48:41.657Z"
   },
   {
    "duration": 10,
    "start_time": "2023-07-12T10:48:46.165Z"
   },
   {
    "duration": 15,
    "start_time": "2023-07-12T10:48:49.036Z"
   },
   {
    "duration": 11,
    "start_time": "2023-07-12T10:48:51.067Z"
   },
   {
    "duration": 6,
    "start_time": "2023-07-12T10:48:52.106Z"
   },
   {
    "duration": 12,
    "start_time": "2023-07-12T10:48:53.884Z"
   },
   {
    "duration": 14,
    "start_time": "2023-07-12T10:48:57.232Z"
   },
   {
    "duration": 13,
    "start_time": "2023-07-12T10:49:00.107Z"
   },
   {
    "duration": 7,
    "start_time": "2023-07-12T10:49:01.156Z"
   },
   {
    "duration": 13,
    "start_time": "2023-07-12T10:49:01.939Z"
   },
   {
    "duration": 16,
    "start_time": "2023-07-12T10:49:08.557Z"
   },
   {
    "duration": 7,
    "start_time": "2023-07-12T10:49:16.981Z"
   },
   {
    "duration": 4,
    "start_time": "2023-07-12T10:49:19.196Z"
   },
   {
    "duration": 16,
    "start_time": "2023-07-12T10:49:32.560Z"
   },
   {
    "duration": 3,
    "start_time": "2023-07-12T10:49:56.894Z"
   },
   {
    "duration": 57,
    "start_time": "2023-07-12T10:49:56.899Z"
   },
   {
    "duration": 16,
    "start_time": "2023-07-12T10:49:56.958Z"
   },
   {
    "duration": 23,
    "start_time": "2023-07-12T10:49:59.080Z"
   },
   {
    "duration": 3,
    "start_time": "2023-07-12T10:50:26.932Z"
   },
   {
    "duration": 82,
    "start_time": "2023-07-12T10:50:26.938Z"
   },
   {
    "duration": 16,
    "start_time": "2023-07-12T10:50:27.022Z"
   },
   {
    "duration": 16,
    "start_time": "2023-07-12T10:50:27.040Z"
   },
   {
    "duration": 13,
    "start_time": "2023-07-12T10:50:27.058Z"
   },
   {
    "duration": 17,
    "start_time": "2023-07-12T10:50:27.073Z"
   },
   {
    "duration": 5,
    "start_time": "2023-07-12T10:50:27.092Z"
   },
   {
    "duration": 9,
    "start_time": "2023-07-12T10:50:27.099Z"
   },
   {
    "duration": 10,
    "start_time": "2023-07-12T10:50:27.110Z"
   },
   {
    "duration": 22,
    "start_time": "2023-07-12T10:50:27.156Z"
   },
   {
    "duration": 8,
    "start_time": "2023-07-12T10:50:27.181Z"
   },
   {
    "duration": 12,
    "start_time": "2023-07-12T10:50:27.191Z"
   },
   {
    "duration": 12,
    "start_time": "2023-07-12T10:50:27.205Z"
   },
   {
    "duration": 46,
    "start_time": "2023-07-12T10:50:27.219Z"
   },
   {
    "duration": 7,
    "start_time": "2023-07-12T10:50:27.267Z"
   },
   {
    "duration": 12,
    "start_time": "2023-07-12T10:50:27.276Z"
   },
   {
    "duration": 11,
    "start_time": "2023-07-12T10:50:27.290Z"
   },
   {
    "duration": 11,
    "start_time": "2023-07-12T10:50:27.302Z"
   },
   {
    "duration": 6,
    "start_time": "2023-07-12T10:50:27.314Z"
   },
   {
    "duration": 44,
    "start_time": "2023-07-12T10:50:27.322Z"
   },
   {
    "duration": 23,
    "start_time": "2023-07-12T10:50:27.368Z"
   },
   {
    "duration": 25,
    "start_time": "2023-07-12T10:50:27.394Z"
   },
   {
    "duration": 16,
    "start_time": "2023-07-12T10:50:27.421Z"
   },
   {
    "duration": 36,
    "start_time": "2023-07-12T10:50:27.440Z"
   },
   {
    "duration": 4,
    "start_time": "2023-07-12T10:50:44.905Z"
   },
   {
    "duration": 4,
    "start_time": "2023-07-12T10:50:49.986Z"
   },
   {
    "duration": 6,
    "start_time": "2023-07-12T10:51:06.791Z"
   },
   {
    "duration": 6,
    "start_time": "2023-07-12T10:51:55.248Z"
   },
   {
    "duration": 6,
    "start_time": "2023-07-12T10:52:56.949Z"
   },
   {
    "duration": 8,
    "start_time": "2023-07-12T10:53:37.577Z"
   },
   {
    "duration": 1122,
    "start_time": "2023-07-12T10:57:26.503Z"
   },
   {
    "duration": 4,
    "start_time": "2023-07-12T10:57:40.291Z"
   },
   {
    "duration": 75,
    "start_time": "2023-07-12T10:58:53.677Z"
   },
   {
    "duration": 4,
    "start_time": "2023-07-12T10:58:56.815Z"
   },
   {
    "duration": 3,
    "start_time": "2023-07-12T10:59:06.046Z"
   },
   {
    "duration": 5,
    "start_time": "2023-07-12T11:00:12.627Z"
   },
   {
    "duration": 4,
    "start_time": "2023-07-12T11:00:33.955Z"
   },
   {
    "duration": 5,
    "start_time": "2023-07-12T11:00:44.230Z"
   },
   {
    "duration": 6,
    "start_time": "2023-07-12T11:01:07.236Z"
   },
   {
    "duration": 10,
    "start_time": "2023-07-12T11:01:47.233Z"
   },
   {
    "duration": 14,
    "start_time": "2023-07-12T11:02:16.602Z"
   },
   {
    "duration": 9,
    "start_time": "2023-07-12T11:03:38.771Z"
   },
   {
    "duration": 8,
    "start_time": "2023-07-12T11:05:49.827Z"
   },
   {
    "duration": 8,
    "start_time": "2023-07-12T11:06:26.714Z"
   },
   {
    "duration": 14,
    "start_time": "2023-07-12T11:07:40.757Z"
   },
   {
    "duration": 11,
    "start_time": "2023-07-12T11:07:59.312Z"
   },
   {
    "duration": 11,
    "start_time": "2023-07-12T11:10:11.697Z"
   },
   {
    "duration": 511,
    "start_time": "2023-07-12T11:11:38.597Z"
   },
   {
    "duration": 169,
    "start_time": "2023-07-12T11:11:49.704Z"
   },
   {
    "duration": 178,
    "start_time": "2023-07-12T11:12:30.348Z"
   },
   {
    "duration": 198,
    "start_time": "2023-07-12T11:14:18.212Z"
   },
   {
    "duration": 195,
    "start_time": "2023-07-12T11:14:51.517Z"
   },
   {
    "duration": 269,
    "start_time": "2023-07-12T11:17:41.874Z"
   },
   {
    "duration": 12,
    "start_time": "2023-07-12T11:24:42.219Z"
   },
   {
    "duration": 13,
    "start_time": "2023-07-12T11:24:46.932Z"
   },
   {
    "duration": 33,
    "start_time": "2023-07-12T11:26:58.741Z"
   },
   {
    "duration": 22,
    "start_time": "2023-07-12T11:27:26.025Z"
   },
   {
    "duration": 23,
    "start_time": "2023-07-12T11:27:29.578Z"
   },
   {
    "duration": 29,
    "start_time": "2023-07-12T11:29:46.914Z"
   },
   {
    "duration": 35,
    "start_time": "2023-07-12T11:30:00.994Z"
   },
   {
    "duration": 29,
    "start_time": "2023-07-12T11:30:23.457Z"
   },
   {
    "duration": 20,
    "start_time": "2023-07-12T11:30:27.309Z"
   },
   {
    "duration": 24,
    "start_time": "2023-07-12T11:30:45.718Z"
   },
   {
    "duration": 25,
    "start_time": "2023-07-12T11:30:55.265Z"
   },
   {
    "duration": 17,
    "start_time": "2023-07-12T11:31:36.440Z"
   },
   {
    "duration": 21,
    "start_time": "2023-07-12T11:31:40.896Z"
   },
   {
    "duration": 136,
    "start_time": "2023-07-12T11:32:10.015Z"
   },
   {
    "duration": 237,
    "start_time": "2023-07-12T11:32:35.457Z"
   },
   {
    "duration": 230,
    "start_time": "2023-07-12T11:32:50.250Z"
   },
   {
    "duration": 11,
    "start_time": "2023-07-12T11:39:25.140Z"
   },
   {
    "duration": 18,
    "start_time": "2023-07-12T11:39:30.984Z"
   },
   {
    "duration": 9,
    "start_time": "2023-07-12T11:40:02.796Z"
   },
   {
    "duration": 19,
    "start_time": "2023-07-12T11:40:04.690Z"
   },
   {
    "duration": 9,
    "start_time": "2023-07-12T11:40:21.119Z"
   },
   {
    "duration": 6,
    "start_time": "2023-07-12T11:41:02.939Z"
   },
   {
    "duration": 9,
    "start_time": "2023-07-12T11:42:27.909Z"
   },
   {
    "duration": 12,
    "start_time": "2023-07-12T11:44:50.307Z"
   },
   {
    "duration": 9,
    "start_time": "2023-07-12T11:44:50.844Z"
   },
   {
    "duration": 8,
    "start_time": "2023-07-12T12:09:57.453Z"
   },
   {
    "duration": 11,
    "start_time": "2023-07-12T12:10:06.787Z"
   },
   {
    "duration": 18,
    "start_time": "2023-07-12T12:35:06.400Z"
   },
   {
    "duration": 12,
    "start_time": "2023-07-12T12:39:45.442Z"
   },
   {
    "duration": 12,
    "start_time": "2023-07-12T12:39:45.867Z"
   },
   {
    "duration": 3,
    "start_time": "2023-07-12T12:39:47.242Z"
   },
   {
    "duration": 472,
    "start_time": "2023-07-12T12:39:48.316Z"
   },
   {
    "duration": 17,
    "start_time": "2023-07-12T12:39:50.526Z"
   },
   {
    "duration": 3,
    "start_time": "2023-07-12T12:40:07.707Z"
   },
   {
    "duration": 476,
    "start_time": "2023-07-12T12:40:08.104Z"
   },
   {
    "duration": 25,
    "start_time": "2023-07-12T12:40:08.793Z"
   },
   {
    "duration": 8,
    "start_time": "2023-07-12T13:34:12.390Z"
   },
   {
    "duration": 531,
    "start_time": "2023-07-12T13:35:17.267Z"
   },
   {
    "duration": 3,
    "start_time": "2023-07-12T13:35:27.330Z"
   },
   {
    "duration": 80,
    "start_time": "2023-07-12T13:35:27.336Z"
   },
   {
    "duration": 20,
    "start_time": "2023-07-12T13:35:27.419Z"
   },
   {
    "duration": 25,
    "start_time": "2023-07-12T13:35:27.440Z"
   },
   {
    "duration": 16,
    "start_time": "2023-07-12T13:35:27.467Z"
   },
   {
    "duration": 22,
    "start_time": "2023-07-12T13:35:27.485Z"
   },
   {
    "duration": 6,
    "start_time": "2023-07-12T13:35:27.510Z"
   },
   {
    "duration": 21,
    "start_time": "2023-07-12T13:35:27.519Z"
   },
   {
    "duration": 12,
    "start_time": "2023-07-12T13:35:27.557Z"
   },
   {
    "duration": 20,
    "start_time": "2023-07-12T13:35:27.571Z"
   },
   {
    "duration": 9,
    "start_time": "2023-07-12T13:35:27.595Z"
   },
   {
    "duration": 15,
    "start_time": "2023-07-12T13:35:27.606Z"
   },
   {
    "duration": 40,
    "start_time": "2023-07-12T13:35:27.624Z"
   },
   {
    "duration": 22,
    "start_time": "2023-07-12T13:35:27.667Z"
   },
   {
    "duration": 24,
    "start_time": "2023-07-12T13:35:27.691Z"
   },
   {
    "duration": 15,
    "start_time": "2023-07-12T13:35:27.717Z"
   },
   {
    "duration": 26,
    "start_time": "2023-07-12T13:35:27.734Z"
   },
   {
    "duration": 12,
    "start_time": "2023-07-12T13:35:27.762Z"
   },
   {
    "duration": 11,
    "start_time": "2023-07-12T13:35:27.776Z"
   },
   {
    "duration": 16,
    "start_time": "2023-07-12T13:35:27.789Z"
   },
   {
    "duration": 15,
    "start_time": "2023-07-12T13:35:27.807Z"
   },
   {
    "duration": 37,
    "start_time": "2023-07-12T13:35:27.824Z"
   },
   {
    "duration": 10,
    "start_time": "2023-07-12T13:35:27.863Z"
   },
   {
    "duration": 31,
    "start_time": "2023-07-12T13:35:27.874Z"
   },
   {
    "duration": 264,
    "start_time": "2023-07-12T13:35:27.907Z"
   },
   {
    "duration": 233,
    "start_time": "2023-07-12T13:35:28.174Z"
   },
   {
    "duration": 236,
    "start_time": "2023-07-12T13:35:28.409Z"
   },
   {
    "duration": 15,
    "start_time": "2023-07-12T13:35:28.647Z"
   },
   {
    "duration": 12,
    "start_time": "2023-07-12T13:35:28.665Z"
   },
   {
    "duration": 8,
    "start_time": "2023-07-12T13:35:28.680Z"
   },
   {
    "duration": 807,
    "start_time": "2023-07-12T13:35:28.689Z"
   },
   {
    "duration": 17,
    "start_time": "2023-07-12T13:35:29.498Z"
   },
   {
    "duration": 19,
    "start_time": "2023-07-12T13:35:39.668Z"
   },
   {
    "duration": 23,
    "start_time": "2023-07-12T13:35:47.366Z"
   },
   {
    "duration": 4,
    "start_time": "2023-07-12T13:37:06.765Z"
   },
   {
    "duration": 17,
    "start_time": "2023-07-12T13:37:09.794Z"
   },
   {
    "duration": 3,
    "start_time": "2023-07-12T13:37:22.499Z"
   },
   {
    "duration": 74,
    "start_time": "2023-07-12T13:37:22.504Z"
   },
   {
    "duration": 15,
    "start_time": "2023-07-12T13:37:22.580Z"
   },
   {
    "duration": 31,
    "start_time": "2023-07-12T13:37:22.597Z"
   },
   {
    "duration": 44,
    "start_time": "2023-07-12T13:37:22.630Z"
   },
   {
    "duration": 23,
    "start_time": "2023-07-12T13:37:22.676Z"
   },
   {
    "duration": 21,
    "start_time": "2023-07-12T13:37:22.701Z"
   },
   {
    "duration": 27,
    "start_time": "2023-07-12T13:37:22.724Z"
   },
   {
    "duration": 26,
    "start_time": "2023-07-12T13:37:22.754Z"
   },
   {
    "duration": 34,
    "start_time": "2023-07-12T13:37:22.782Z"
   },
   {
    "duration": 8,
    "start_time": "2023-07-12T13:37:22.818Z"
   },
   {
    "duration": 16,
    "start_time": "2023-07-12T13:37:22.827Z"
   },
   {
    "duration": 29,
    "start_time": "2023-07-12T13:37:22.845Z"
   },
   {
    "duration": 26,
    "start_time": "2023-07-12T13:37:22.878Z"
   },
   {
    "duration": 16,
    "start_time": "2023-07-12T13:37:22.906Z"
   },
   {
    "duration": 19,
    "start_time": "2023-07-12T13:37:22.923Z"
   },
   {
    "duration": 11,
    "start_time": "2023-07-12T13:37:22.944Z"
   },
   {
    "duration": 10,
    "start_time": "2023-07-12T13:37:22.956Z"
   },
   {
    "duration": 24,
    "start_time": "2023-07-12T13:37:22.968Z"
   },
   {
    "duration": 18,
    "start_time": "2023-07-12T13:37:22.994Z"
   },
   {
    "duration": 15,
    "start_time": "2023-07-12T13:37:23.014Z"
   },
   {
    "duration": 18,
    "start_time": "2023-07-12T13:37:23.030Z"
   },
   {
    "duration": 12,
    "start_time": "2023-07-12T13:37:23.050Z"
   },
   {
    "duration": 17,
    "start_time": "2023-07-12T13:37:23.064Z"
   },
   {
    "duration": 275,
    "start_time": "2023-07-12T13:37:23.084Z"
   },
   {
    "duration": 181,
    "start_time": "2023-07-12T13:37:23.361Z"
   },
   {
    "duration": 196,
    "start_time": "2023-07-12T13:37:23.544Z"
   },
   {
    "duration": 18,
    "start_time": "2023-07-12T13:37:23.741Z"
   },
   {
    "duration": 36,
    "start_time": "2023-07-12T13:37:23.761Z"
   },
   {
    "duration": 580,
    "start_time": "2023-07-12T13:37:23.799Z"
   },
   {
    "duration": 4,
    "start_time": "2023-07-12T13:37:24.381Z"
   },
   {
    "duration": 25,
    "start_time": "2023-07-12T13:37:24.387Z"
   },
   {
    "duration": 8,
    "start_time": "2023-07-12T13:38:59.308Z"
   },
   {
    "duration": 148,
    "start_time": "2023-07-12T13:40:24.585Z"
   },
   {
    "duration": 8,
    "start_time": "2023-07-12T13:40:50.086Z"
   },
   {
    "duration": 5,
    "start_time": "2023-07-12T13:40:57.311Z"
   },
   {
    "duration": 118,
    "start_time": "2023-07-12T13:40:57.838Z"
   },
   {
    "duration": 128,
    "start_time": "2023-07-12T13:41:27.390Z"
   },
   {
    "duration": 10,
    "start_time": "2023-07-12T13:42:28.895Z"
   },
   {
    "duration": 119,
    "start_time": "2023-07-12T13:42:42.659Z"
   },
   {
    "duration": 124,
    "start_time": "2023-07-12T13:43:10.745Z"
   },
   {
    "duration": 129,
    "start_time": "2023-07-12T13:43:16.313Z"
   },
   {
    "duration": 3,
    "start_time": "2023-07-12T13:45:09.910Z"
   },
   {
    "duration": 66,
    "start_time": "2023-07-12T13:45:09.915Z"
   },
   {
    "duration": 14,
    "start_time": "2023-07-12T13:45:09.983Z"
   },
   {
    "duration": 25,
    "start_time": "2023-07-12T13:45:09.998Z"
   },
   {
    "duration": 42,
    "start_time": "2023-07-12T13:45:10.026Z"
   },
   {
    "duration": 35,
    "start_time": "2023-07-12T13:45:10.070Z"
   },
   {
    "duration": 8,
    "start_time": "2023-07-12T13:45:10.107Z"
   },
   {
    "duration": 12,
    "start_time": "2023-07-12T13:45:10.117Z"
   },
   {
    "duration": 12,
    "start_time": "2023-07-12T13:45:10.131Z"
   },
   {
    "duration": 26,
    "start_time": "2023-07-12T13:45:10.144Z"
   },
   {
    "duration": 8,
    "start_time": "2023-07-12T13:45:10.172Z"
   },
   {
    "duration": 63,
    "start_time": "2023-07-12T13:45:10.182Z"
   },
   {
    "duration": 22,
    "start_time": "2023-07-12T13:45:10.247Z"
   },
   {
    "duration": 20,
    "start_time": "2023-07-12T13:45:10.271Z"
   },
   {
    "duration": 17,
    "start_time": "2023-07-12T13:45:10.293Z"
   },
   {
    "duration": 16,
    "start_time": "2023-07-12T13:45:10.311Z"
   },
   {
    "duration": 17,
    "start_time": "2023-07-12T13:45:10.329Z"
   },
   {
    "duration": 10,
    "start_time": "2023-07-12T13:45:10.347Z"
   },
   {
    "duration": 19,
    "start_time": "2023-07-12T13:45:10.359Z"
   },
   {
    "duration": 12,
    "start_time": "2023-07-12T13:45:10.379Z"
   },
   {
    "duration": 30,
    "start_time": "2023-07-12T13:45:10.393Z"
   },
   {
    "duration": 13,
    "start_time": "2023-07-12T13:45:10.425Z"
   },
   {
    "duration": 7,
    "start_time": "2023-07-12T13:45:10.439Z"
   },
   {
    "duration": 13,
    "start_time": "2023-07-12T13:45:10.448Z"
   },
   {
    "duration": 182,
    "start_time": "2023-07-12T13:45:10.463Z"
   },
   {
    "duration": 281,
    "start_time": "2023-07-12T13:45:10.647Z"
   },
   {
    "duration": 204,
    "start_time": "2023-07-12T13:45:10.929Z"
   },
   {
    "duration": 12,
    "start_time": "2023-07-12T13:45:11.135Z"
   },
   {
    "duration": 8,
    "start_time": "2023-07-12T13:45:11.156Z"
   },
   {
    "duration": 557,
    "start_time": "2023-07-12T13:45:11.166Z"
   },
   {
    "duration": 4,
    "start_time": "2023-07-12T13:45:11.724Z"
   },
   {
    "duration": 13,
    "start_time": "2023-07-12T13:45:11.730Z"
   },
   {
    "duration": 128,
    "start_time": "2023-07-12T13:45:11.744Z"
   },
   {
    "duration": 143,
    "start_time": "2023-07-12T13:45:11.874Z"
   },
   {
    "duration": 850,
    "start_time": "2023-07-13T10:25:52.155Z"
   },
   {
    "duration": 159,
    "start_time": "2023-07-13T10:25:53.007Z"
   },
   {
    "duration": 21,
    "start_time": "2023-07-13T10:25:53.168Z"
   },
   {
    "duration": 52,
    "start_time": "2023-07-13T10:25:53.190Z"
   },
   {
    "duration": 20,
    "start_time": "2023-07-13T10:25:53.244Z"
   },
   {
    "duration": 23,
    "start_time": "2023-07-13T10:25:53.266Z"
   },
   {
    "duration": 23,
    "start_time": "2023-07-13T10:25:53.291Z"
   },
   {
    "duration": 17,
    "start_time": "2023-07-13T10:25:53.316Z"
   },
   {
    "duration": 22,
    "start_time": "2023-07-13T10:25:53.335Z"
   },
   {
    "duration": 34,
    "start_time": "2023-07-13T10:25:53.360Z"
   },
   {
    "duration": 10,
    "start_time": "2023-07-13T10:25:53.396Z"
   },
   {
    "duration": 46,
    "start_time": "2023-07-13T10:25:53.408Z"
   },
   {
    "duration": 25,
    "start_time": "2023-07-13T10:25:53.456Z"
   },
   {
    "duration": 16,
    "start_time": "2023-07-13T10:25:53.484Z"
   },
   {
    "duration": 19,
    "start_time": "2023-07-13T10:25:53.502Z"
   },
   {
    "duration": 23,
    "start_time": "2023-07-13T10:25:53.523Z"
   },
   {
    "duration": 12,
    "start_time": "2023-07-13T10:25:53.548Z"
   },
   {
    "duration": 11,
    "start_time": "2023-07-13T10:25:53.562Z"
   },
   {
    "duration": 16,
    "start_time": "2023-07-13T10:25:53.575Z"
   },
   {
    "duration": 23,
    "start_time": "2023-07-13T10:25:53.593Z"
   },
   {
    "duration": 15,
    "start_time": "2023-07-13T10:25:53.618Z"
   },
   {
    "duration": 16,
    "start_time": "2023-07-13T10:25:53.635Z"
   },
   {
    "duration": 8,
    "start_time": "2023-07-13T10:25:53.653Z"
   },
   {
    "duration": 18,
    "start_time": "2023-07-13T10:25:53.662Z"
   },
   {
    "duration": 225,
    "start_time": "2023-07-13T10:25:53.708Z"
   },
   {
    "duration": 235,
    "start_time": "2023-07-13T10:25:53.935Z"
   },
   {
    "duration": 229,
    "start_time": "2023-07-13T10:25:54.172Z"
   },
   {
    "duration": 17,
    "start_time": "2023-07-13T10:25:54.403Z"
   },
   {
    "duration": 17,
    "start_time": "2023-07-13T10:25:54.422Z"
   },
   {
    "duration": 604,
    "start_time": "2023-07-13T10:25:54.441Z"
   },
   {
    "duration": 5,
    "start_time": "2023-07-13T10:25:55.047Z"
   },
   {
    "duration": 31,
    "start_time": "2023-07-13T10:25:55.054Z"
   },
   {
    "duration": 253,
    "start_time": "2023-07-13T10:25:55.087Z"
   },
   {
    "duration": 153,
    "start_time": "2023-07-13T10:25:55.343Z"
   },
   {
    "duration": 145,
    "start_time": "2023-07-13T10:26:15.422Z"
   },
   {
    "duration": 144,
    "start_time": "2023-07-13T10:26:35.334Z"
   },
   {
    "duration": 144,
    "start_time": "2023-07-13T10:28:28.824Z"
   },
   {
    "duration": 13,
    "start_time": "2023-07-13T10:45:41.769Z"
   },
   {
    "duration": 12,
    "start_time": "2023-07-13T10:46:26.371Z"
   },
   {
    "duration": 114,
    "start_time": "2023-07-13T10:47:06.462Z"
   },
   {
    "duration": 17,
    "start_time": "2023-07-13T10:47:27.521Z"
   },
   {
    "duration": 21,
    "start_time": "2023-07-13T10:49:49.043Z"
   },
   {
    "duration": 27,
    "start_time": "2023-07-13T10:52:36.322Z"
   },
   {
    "duration": 31,
    "start_time": "2023-07-13T10:52:50.114Z"
   },
   {
    "duration": 23,
    "start_time": "2023-07-13T10:52:53.738Z"
   },
   {
    "duration": 34,
    "start_time": "2023-07-13T10:53:00.777Z"
   },
   {
    "duration": 21,
    "start_time": "2023-07-13T10:53:05.172Z"
   },
   {
    "duration": 23,
    "start_time": "2023-07-13T10:53:14.164Z"
   },
   {
    "duration": 215,
    "start_time": "2023-07-13T10:57:21.825Z"
   },
   {
    "duration": 16,
    "start_time": "2023-07-13T10:57:25.518Z"
   },
   {
    "duration": 2934,
    "start_time": "2023-07-13T10:58:43.026Z"
   },
   {
    "duration": 3,
    "start_time": "2023-07-13T10:59:18.737Z"
   },
   {
    "duration": 80,
    "start_time": "2023-07-13T10:59:18.743Z"
   },
   {
    "duration": 18,
    "start_time": "2023-07-13T10:59:18.825Z"
   },
   {
    "duration": 37,
    "start_time": "2023-07-13T10:59:18.845Z"
   },
   {
    "duration": 31,
    "start_time": "2023-07-13T10:59:18.885Z"
   },
   {
    "duration": 23,
    "start_time": "2023-07-13T10:59:18.919Z"
   },
   {
    "duration": 24,
    "start_time": "2023-07-13T10:59:18.944Z"
   },
   {
    "duration": 24,
    "start_time": "2023-07-13T10:59:18.970Z"
   },
   {
    "duration": 15,
    "start_time": "2023-07-13T10:59:18.996Z"
   },
   {
    "duration": 22,
    "start_time": "2023-07-13T10:59:19.013Z"
   },
   {
    "duration": 9,
    "start_time": "2023-07-13T10:59:19.037Z"
   },
   {
    "duration": 24,
    "start_time": "2023-07-13T10:59:19.048Z"
   },
   {
    "duration": 42,
    "start_time": "2023-07-13T10:59:19.074Z"
   },
   {
    "duration": 11,
    "start_time": "2023-07-13T10:59:19.121Z"
   },
   {
    "duration": 9,
    "start_time": "2023-07-13T10:59:19.134Z"
   },
   {
    "duration": 17,
    "start_time": "2023-07-13T10:59:19.145Z"
   },
   {
    "duration": 13,
    "start_time": "2023-07-13T10:59:19.165Z"
   },
   {
    "duration": 42,
    "start_time": "2023-07-13T10:59:19.180Z"
   },
   {
    "duration": 13,
    "start_time": "2023-07-13T10:59:19.225Z"
   },
   {
    "duration": 35,
    "start_time": "2023-07-13T10:59:19.240Z"
   },
   {
    "duration": 24,
    "start_time": "2023-07-13T10:59:19.277Z"
   },
   {
    "duration": 13,
    "start_time": "2023-07-13T10:59:19.304Z"
   },
   {
    "duration": 13,
    "start_time": "2023-07-13T10:59:19.319Z"
   },
   {
    "duration": 15,
    "start_time": "2023-07-13T10:59:19.334Z"
   },
   {
    "duration": 270,
    "start_time": "2023-07-13T10:59:19.352Z"
   },
   {
    "duration": 268,
    "start_time": "2023-07-13T10:59:19.625Z"
   },
   {
    "duration": 245,
    "start_time": "2023-07-13T10:59:19.895Z"
   },
   {
    "duration": 20,
    "start_time": "2023-07-13T10:59:20.142Z"
   },
   {
    "duration": 133,
    "start_time": "2023-07-13T10:59:20.164Z"
   },
   {
    "duration": 625,
    "start_time": "2023-07-13T10:59:20.299Z"
   },
   {
    "duration": 5,
    "start_time": "2023-07-13T10:59:20.926Z"
   },
   {
    "duration": 15,
    "start_time": "2023-07-13T10:59:20.933Z"
   },
   {
    "duration": 169,
    "start_time": "2023-07-13T10:59:20.949Z"
   },
   {
    "duration": 248,
    "start_time": "2023-07-13T10:59:21.119Z"
   },
   {
    "duration": 256,
    "start_time": "2023-07-13T10:59:21.369Z"
   },
   {
    "duration": 16,
    "start_time": "2023-07-13T10:59:21.627Z"
   },
   {
    "duration": 215,
    "start_time": "2023-07-13T10:59:21.645Z"
   },
   {
    "duration": 16,
    "start_time": "2023-07-13T10:59:25.525Z"
   },
   {
    "duration": 3,
    "start_time": "2023-07-13T10:59:58.238Z"
   },
   {
    "duration": 78,
    "start_time": "2023-07-13T10:59:58.244Z"
   },
   {
    "duration": 18,
    "start_time": "2023-07-13T10:59:58.324Z"
   },
   {
    "duration": 40,
    "start_time": "2023-07-13T10:59:58.344Z"
   },
   {
    "duration": 26,
    "start_time": "2023-07-13T10:59:58.387Z"
   },
   {
    "duration": 14,
    "start_time": "2023-07-13T10:59:58.415Z"
   },
   {
    "duration": 18,
    "start_time": "2023-07-13T10:59:58.431Z"
   },
   {
    "duration": 24,
    "start_time": "2023-07-13T10:59:58.451Z"
   },
   {
    "duration": 25,
    "start_time": "2023-07-13T10:59:58.477Z"
   },
   {
    "duration": 20,
    "start_time": "2023-07-13T10:59:58.504Z"
   },
   {
    "duration": 17,
    "start_time": "2023-07-13T10:59:58.526Z"
   },
   {
    "duration": 42,
    "start_time": "2023-07-13T10:59:58.545Z"
   },
   {
    "duration": 28,
    "start_time": "2023-07-13T10:59:58.590Z"
   },
   {
    "duration": 49,
    "start_time": "2023-07-13T10:59:58.622Z"
   },
   {
    "duration": 46,
    "start_time": "2023-07-13T10:59:58.673Z"
   },
   {
    "duration": 26,
    "start_time": "2023-07-13T10:59:58.720Z"
   },
   {
    "duration": 36,
    "start_time": "2023-07-13T10:59:58.749Z"
   },
   {
    "duration": 47,
    "start_time": "2023-07-13T10:59:58.787Z"
   },
   {
    "duration": 30,
    "start_time": "2023-07-13T10:59:58.836Z"
   },
   {
    "duration": 49,
    "start_time": "2023-07-13T10:59:58.868Z"
   },
   {
    "duration": 36,
    "start_time": "2023-07-13T10:59:58.920Z"
   },
   {
    "duration": 56,
    "start_time": "2023-07-13T10:59:58.958Z"
   },
   {
    "duration": 17,
    "start_time": "2023-07-13T10:59:59.017Z"
   },
   {
    "duration": 27,
    "start_time": "2023-07-13T10:59:59.036Z"
   },
   {
    "duration": 231,
    "start_time": "2023-07-13T10:59:59.066Z"
   },
   {
    "duration": 267,
    "start_time": "2023-07-13T10:59:59.299Z"
   },
   {
    "duration": 250,
    "start_time": "2023-07-13T10:59:59.568Z"
   },
   {
    "duration": 24,
    "start_time": "2023-07-13T10:59:59.820Z"
   },
   {
    "duration": 15,
    "start_time": "2023-07-13T10:59:59.847Z"
   },
   {
    "duration": 656,
    "start_time": "2023-07-13T10:59:59.864Z"
   },
   {
    "duration": 6,
    "start_time": "2023-07-13T11:00:00.522Z"
   },
   {
    "duration": 71,
    "start_time": "2023-07-13T11:00:00.531Z"
   },
   {
    "duration": 204,
    "start_time": "2023-07-13T11:00:00.605Z"
   },
   {
    "duration": 190,
    "start_time": "2023-07-13T11:00:00.811Z"
   },
   {
    "duration": 224,
    "start_time": "2023-07-13T11:00:01.010Z"
   },
   {
    "duration": 17,
    "start_time": "2023-07-13T11:00:01.236Z"
   },
   {
    "duration": 272,
    "start_time": "2023-07-13T11:00:01.255Z"
   },
   {
    "duration": 15,
    "start_time": "2023-07-13T11:00:01.529Z"
   },
   {
    "duration": 4,
    "start_time": "2023-07-13T11:01:51.322Z"
   },
   {
    "duration": 12,
    "start_time": "2023-07-13T11:01:53.614Z"
   },
   {
    "duration": 17,
    "start_time": "2023-07-13T11:02:18.864Z"
   },
   {
    "duration": 4,
    "start_time": "2023-07-13T11:02:36.962Z"
   },
   {
    "duration": 87,
    "start_time": "2023-07-13T11:02:36.969Z"
   },
   {
    "duration": 18,
    "start_time": "2023-07-13T11:02:37.058Z"
   },
   {
    "duration": 42,
    "start_time": "2023-07-13T11:02:37.078Z"
   },
   {
    "duration": 39,
    "start_time": "2023-07-13T11:02:37.123Z"
   },
   {
    "duration": 34,
    "start_time": "2023-07-13T11:02:37.164Z"
   },
   {
    "duration": 42,
    "start_time": "2023-07-13T11:02:37.200Z"
   },
   {
    "duration": 29,
    "start_time": "2023-07-13T11:02:37.244Z"
   },
   {
    "duration": 33,
    "start_time": "2023-07-13T11:02:37.275Z"
   },
   {
    "duration": 30,
    "start_time": "2023-07-13T11:02:37.311Z"
   },
   {
    "duration": 34,
    "start_time": "2023-07-13T11:02:37.343Z"
   },
   {
    "duration": 32,
    "start_time": "2023-07-13T11:02:37.379Z"
   },
   {
    "duration": 24,
    "start_time": "2023-07-13T11:02:37.413Z"
   },
   {
    "duration": 25,
    "start_time": "2023-07-13T11:02:37.441Z"
   },
   {
    "duration": 23,
    "start_time": "2023-07-13T11:02:37.468Z"
   },
   {
    "duration": 68,
    "start_time": "2023-07-13T11:02:37.493Z"
   },
   {
    "duration": 30,
    "start_time": "2023-07-13T11:02:37.563Z"
   },
   {
    "duration": 37,
    "start_time": "2023-07-13T11:02:37.595Z"
   },
   {
    "duration": 28,
    "start_time": "2023-07-13T11:02:37.634Z"
   },
   {
    "duration": 27,
    "start_time": "2023-07-13T11:02:37.664Z"
   },
   {
    "duration": 23,
    "start_time": "2023-07-13T11:02:37.693Z"
   },
   {
    "duration": 51,
    "start_time": "2023-07-13T11:02:37.718Z"
   },
   {
    "duration": 17,
    "start_time": "2023-07-13T11:02:37.772Z"
   },
   {
    "duration": 34,
    "start_time": "2023-07-13T11:02:37.792Z"
   },
   {
    "duration": 260,
    "start_time": "2023-07-13T11:02:37.828Z"
   },
   {
    "duration": 231,
    "start_time": "2023-07-13T11:02:38.090Z"
   },
   {
    "duration": 250,
    "start_time": "2023-07-13T11:02:38.324Z"
   },
   {
    "duration": 15,
    "start_time": "2023-07-13T11:02:38.577Z"
   },
   {
    "duration": 9,
    "start_time": "2023-07-13T11:02:38.610Z"
   },
   {
    "duration": 715,
    "start_time": "2023-07-13T11:02:38.621Z"
   },
   {
    "duration": 5,
    "start_time": "2023-07-13T11:02:39.338Z"
   },
   {
    "duration": 36,
    "start_time": "2023-07-13T11:02:39.344Z"
   },
   {
    "duration": 261,
    "start_time": "2023-07-13T11:02:39.383Z"
   },
   {
    "duration": 154,
    "start_time": "2023-07-13T11:02:39.646Z"
   },
   {
    "duration": 221,
    "start_time": "2023-07-13T11:02:39.802Z"
   },
   {
    "duration": 14,
    "start_time": "2023-07-13T11:02:40.026Z"
   },
   {
    "duration": 215,
    "start_time": "2023-07-13T11:02:40.043Z"
   },
   {
    "duration": 15,
    "start_time": "2023-07-13T11:02:40.260Z"
   },
   {
    "duration": 41,
    "start_time": "2023-07-13T11:02:40.276Z"
   },
   {
    "duration": 10,
    "start_time": "2023-07-13T11:04:39.897Z"
   },
   {
    "duration": 16,
    "start_time": "2023-07-13T11:04:44.406Z"
   },
   {
    "duration": 1906,
    "start_time": "2023-07-13T11:06:11.261Z"
   },
   {
    "duration": 3090,
    "start_time": "2023-07-13T11:06:26.335Z"
   },
   {
    "duration": 11,
    "start_time": "2023-07-13T11:07:11.934Z"
   },
   {
    "duration": 3,
    "start_time": "2023-07-13T11:15:20.777Z"
   },
   {
    "duration": 93,
    "start_time": "2023-07-13T11:15:20.783Z"
   },
   {
    "duration": 20,
    "start_time": "2023-07-13T11:15:20.878Z"
   },
   {
    "duration": 52,
    "start_time": "2023-07-13T11:15:20.900Z"
   },
   {
    "duration": 50,
    "start_time": "2023-07-13T11:15:20.954Z"
   },
   {
    "duration": 60,
    "start_time": "2023-07-13T11:15:21.007Z"
   },
   {
    "duration": 6,
    "start_time": "2023-07-13T11:15:21.070Z"
   },
   {
    "duration": 30,
    "start_time": "2023-07-13T11:15:21.078Z"
   },
   {
    "duration": 40,
    "start_time": "2023-07-13T11:15:21.113Z"
   },
   {
    "duration": 32,
    "start_time": "2023-07-13T11:15:21.156Z"
   },
   {
    "duration": 11,
    "start_time": "2023-07-13T11:15:21.190Z"
   },
   {
    "duration": 42,
    "start_time": "2023-07-13T11:15:21.203Z"
   },
   {
    "duration": 32,
    "start_time": "2023-07-13T11:15:21.247Z"
   },
   {
    "duration": 34,
    "start_time": "2023-07-13T11:15:21.281Z"
   },
   {
    "duration": 53,
    "start_time": "2023-07-13T11:15:21.317Z"
   },
   {
    "duration": 39,
    "start_time": "2023-07-13T11:15:21.372Z"
   },
   {
    "duration": 35,
    "start_time": "2023-07-13T11:15:21.413Z"
   },
   {
    "duration": 30,
    "start_time": "2023-07-13T11:15:21.450Z"
   },
   {
    "duration": 18,
    "start_time": "2023-07-13T11:15:21.482Z"
   },
   {
    "duration": 37,
    "start_time": "2023-07-13T11:15:21.502Z"
   },
   {
    "duration": 29,
    "start_time": "2023-07-13T11:15:21.541Z"
   },
   {
    "duration": 17,
    "start_time": "2023-07-13T11:15:21.572Z"
   },
   {
    "duration": 15,
    "start_time": "2023-07-13T11:15:21.591Z"
   },
   {
    "duration": 19,
    "start_time": "2023-07-13T11:15:21.621Z"
   },
   {
    "duration": 218,
    "start_time": "2023-07-13T11:15:21.642Z"
   },
   {
    "duration": 258,
    "start_time": "2023-07-13T11:15:21.863Z"
   },
   {
    "duration": 245,
    "start_time": "2023-07-13T11:15:22.124Z"
   },
   {
    "duration": 14,
    "start_time": "2023-07-13T11:15:22.371Z"
   },
   {
    "duration": 22,
    "start_time": "2023-07-13T11:15:22.387Z"
   },
   {
    "duration": 666,
    "start_time": "2023-07-13T11:15:22.411Z"
   },
   {
    "duration": 5,
    "start_time": "2023-07-13T11:15:23.079Z"
   },
   {
    "duration": 32,
    "start_time": "2023-07-13T11:15:23.087Z"
   },
   {
    "duration": 172,
    "start_time": "2023-07-13T11:15:23.121Z"
   },
   {
    "duration": 166,
    "start_time": "2023-07-13T11:15:23.296Z"
   },
   {
    "duration": 221,
    "start_time": "2023-07-13T11:15:23.465Z"
   },
   {
    "duration": 22,
    "start_time": "2023-07-13T11:15:23.688Z"
   },
   {
    "duration": 228,
    "start_time": "2023-07-13T11:15:23.713Z"
   },
   {
    "duration": 16,
    "start_time": "2023-07-13T11:15:23.944Z"
   },
   {
    "duration": 21,
    "start_time": "2023-07-13T11:15:23.961Z"
   },
   {
    "duration": 14,
    "start_time": "2023-07-13T11:15:23.985Z"
   },
   {
    "duration": 35,
    "start_time": "2023-07-13T11:15:24.001Z"
   },
   {
    "duration": 4,
    "start_time": "2023-07-13T11:25:39.523Z"
   },
   {
    "duration": 86,
    "start_time": "2023-07-13T11:25:39.530Z"
   },
   {
    "duration": 17,
    "start_time": "2023-07-13T11:25:39.618Z"
   },
   {
    "duration": 45,
    "start_time": "2023-07-13T11:25:39.637Z"
   },
   {
    "duration": 24,
    "start_time": "2023-07-13T11:25:39.684Z"
   },
   {
    "duration": 39,
    "start_time": "2023-07-13T11:25:39.710Z"
   },
   {
    "duration": 31,
    "start_time": "2023-07-13T11:25:39.751Z"
   },
   {
    "duration": 27,
    "start_time": "2023-07-13T11:25:39.784Z"
   },
   {
    "duration": 40,
    "start_time": "2023-07-13T11:25:39.813Z"
   },
   {
    "duration": 39,
    "start_time": "2023-07-13T11:25:39.855Z"
   },
   {
    "duration": 12,
    "start_time": "2023-07-13T11:25:39.896Z"
   },
   {
    "duration": 23,
    "start_time": "2023-07-13T11:25:39.910Z"
   },
   {
    "duration": 22,
    "start_time": "2023-07-13T11:25:39.935Z"
   },
   {
    "duration": 21,
    "start_time": "2023-07-13T11:25:39.961Z"
   },
   {
    "duration": 32,
    "start_time": "2023-07-13T11:25:39.984Z"
   },
   {
    "duration": 57,
    "start_time": "2023-07-13T11:25:40.018Z"
   },
   {
    "duration": 15,
    "start_time": "2023-07-13T11:25:40.077Z"
   },
   {
    "duration": 13,
    "start_time": "2023-07-13T11:25:40.094Z"
   },
   {
    "duration": 24,
    "start_time": "2023-07-13T11:25:40.109Z"
   },
   {
    "duration": 21,
    "start_time": "2023-07-13T11:25:40.135Z"
   },
   {
    "duration": 22,
    "start_time": "2023-07-13T11:25:40.157Z"
   },
   {
    "duration": 14,
    "start_time": "2023-07-13T11:25:40.181Z"
   },
   {
    "duration": 11,
    "start_time": "2023-07-13T11:25:40.198Z"
   },
   {
    "duration": 22,
    "start_time": "2023-07-13T11:25:40.211Z"
   },
   {
    "duration": 225,
    "start_time": "2023-07-13T11:25:40.235Z"
   },
   {
    "duration": 238,
    "start_time": "2023-07-13T11:25:40.462Z"
   },
   {
    "duration": 247,
    "start_time": "2023-07-13T11:25:40.708Z"
   },
   {
    "duration": 20,
    "start_time": "2023-07-13T11:25:40.958Z"
   },
   {
    "duration": 29,
    "start_time": "2023-07-13T11:25:40.980Z"
   },
   {
    "duration": 763,
    "start_time": "2023-07-13T11:25:41.012Z"
   },
   {
    "duration": 6,
    "start_time": "2023-07-13T11:25:41.777Z"
   },
   {
    "duration": 21,
    "start_time": "2023-07-13T11:25:41.785Z"
   },
   {
    "duration": 152,
    "start_time": "2023-07-13T11:25:41.809Z"
   },
   {
    "duration": 166,
    "start_time": "2023-07-13T11:25:41.963Z"
   },
   {
    "duration": 265,
    "start_time": "2023-07-13T11:25:42.131Z"
   },
   {
    "duration": 25,
    "start_time": "2023-07-13T11:25:42.399Z"
   },
   {
    "duration": 291,
    "start_time": "2023-07-13T11:25:42.427Z"
   },
   {
    "duration": 20,
    "start_time": "2023-07-13T11:25:42.720Z"
   },
   {
    "duration": 16,
    "start_time": "2023-07-13T11:25:42.742Z"
   },
   {
    "duration": 17,
    "start_time": "2023-07-13T11:25:42.761Z"
   },
   {
    "duration": 29,
    "start_time": "2023-07-13T11:25:42.783Z"
   },
   {
    "duration": 22,
    "start_time": "2023-07-13T11:25:42.814Z"
   },
   {
    "duration": 9,
    "start_time": "2023-07-13T11:26:19.028Z"
   },
   {
    "duration": 11,
    "start_time": "2023-07-13T11:26:23.121Z"
   },
   {
    "duration": 14,
    "start_time": "2023-07-13T11:27:14.567Z"
   },
   {
    "duration": 22,
    "start_time": "2023-07-13T11:28:55.230Z"
   },
   {
    "duration": 16,
    "start_time": "2023-07-13T11:36:50.225Z"
   },
   {
    "duration": 18,
    "start_time": "2023-07-13T11:39:13.733Z"
   },
   {
    "duration": 18,
    "start_time": "2023-07-13T11:42:09.022Z"
   },
   {
    "duration": 21,
    "start_time": "2023-07-13T11:42:23.073Z"
   },
   {
    "duration": 20,
    "start_time": "2023-07-13T11:43:09.214Z"
   },
   {
    "duration": 22,
    "start_time": "2023-07-13T11:47:46.094Z"
   },
   {
    "duration": 4,
    "start_time": "2023-07-13T11:49:17.612Z"
   },
   {
    "duration": 146,
    "start_time": "2023-07-13T11:49:17.619Z"
   },
   {
    "duration": 17,
    "start_time": "2023-07-13T11:49:17.768Z"
   },
   {
    "duration": 36,
    "start_time": "2023-07-13T11:49:17.787Z"
   },
   {
    "duration": 40,
    "start_time": "2023-07-13T11:49:17.827Z"
   },
   {
    "duration": 60,
    "start_time": "2023-07-13T11:49:17.869Z"
   },
   {
    "duration": 55,
    "start_time": "2023-07-13T11:49:17.931Z"
   },
   {
    "duration": 38,
    "start_time": "2023-07-13T11:49:17.989Z"
   },
   {
    "duration": 46,
    "start_time": "2023-07-13T11:49:18.029Z"
   },
   {
    "duration": 46,
    "start_time": "2023-07-13T11:49:18.077Z"
   },
   {
    "duration": 51,
    "start_time": "2023-07-13T11:49:18.125Z"
   },
   {
    "duration": 62,
    "start_time": "2023-07-13T11:49:18.178Z"
   },
   {
    "duration": 85,
    "start_time": "2023-07-13T11:49:18.242Z"
   },
   {
    "duration": 76,
    "start_time": "2023-07-13T11:49:18.331Z"
   },
   {
    "duration": 53,
    "start_time": "2023-07-13T11:49:18.409Z"
   },
   {
    "duration": 57,
    "start_time": "2023-07-13T11:49:18.465Z"
   },
   {
    "duration": 39,
    "start_time": "2023-07-13T11:49:18.524Z"
   },
   {
    "duration": 100,
    "start_time": "2023-07-13T11:49:18.565Z"
   },
   {
    "duration": 28,
    "start_time": "2023-07-13T11:49:18.667Z"
   },
   {
    "duration": 27,
    "start_time": "2023-07-13T11:49:18.697Z"
   },
   {
    "duration": 27,
    "start_time": "2023-07-13T11:49:18.726Z"
   },
   {
    "duration": 36,
    "start_time": "2023-07-13T11:49:18.755Z"
   },
   {
    "duration": 27,
    "start_time": "2023-07-13T11:49:18.792Z"
   },
   {
    "duration": 69,
    "start_time": "2023-07-13T11:49:18.822Z"
   },
   {
    "duration": 252,
    "start_time": "2023-07-13T11:49:18.894Z"
   },
   {
    "duration": 255,
    "start_time": "2023-07-13T11:49:19.148Z"
   },
   {
    "duration": 262,
    "start_time": "2023-07-13T11:49:19.405Z"
   },
   {
    "duration": 14,
    "start_time": "2023-07-13T11:49:19.669Z"
   },
   {
    "duration": 49,
    "start_time": "2023-07-13T11:49:19.685Z"
   },
   {
    "duration": 708,
    "start_time": "2023-07-13T11:49:19.737Z"
   },
   {
    "duration": 6,
    "start_time": "2023-07-13T11:49:20.447Z"
   },
   {
    "duration": 43,
    "start_time": "2023-07-13T11:49:20.455Z"
   },
   {
    "duration": 189,
    "start_time": "2023-07-13T11:49:20.500Z"
   },
   {
    "duration": 161,
    "start_time": "2023-07-13T11:49:20.691Z"
   },
   {
    "duration": 212,
    "start_time": "2023-07-13T11:49:20.854Z"
   },
   {
    "duration": 21,
    "start_time": "2023-07-13T11:49:21.068Z"
   },
   {
    "duration": 227,
    "start_time": "2023-07-13T11:49:21.091Z"
   },
   {
    "duration": 19,
    "start_time": "2023-07-13T11:49:21.321Z"
   },
   {
    "duration": 62,
    "start_time": "2023-07-13T11:49:21.342Z"
   },
   {
    "duration": 36,
    "start_time": "2023-07-13T11:49:21.406Z"
   },
   {
    "duration": 43,
    "start_time": "2023-07-13T11:49:21.447Z"
   },
   {
    "duration": 34,
    "start_time": "2023-07-13T11:49:21.492Z"
   },
   {
    "duration": 50,
    "start_time": "2023-07-13T11:49:21.528Z"
   },
   {
    "duration": 56,
    "start_time": "2023-07-13T11:49:21.580Z"
   },
   {
    "duration": 25,
    "start_time": "2023-07-13T11:49:21.643Z"
   },
   {
    "duration": 34,
    "start_time": "2023-07-13T11:49:21.670Z"
   },
   {
    "duration": 13,
    "start_time": "2023-07-13T11:49:52.014Z"
   },
   {
    "duration": 26,
    "start_time": "2023-07-13T11:53:47.323Z"
   },
   {
    "duration": 12,
    "start_time": "2023-07-13T11:54:19.515Z"
   },
   {
    "duration": 10,
    "start_time": "2023-07-13T11:54:31.334Z"
   },
   {
    "duration": 10,
    "start_time": "2023-07-13T11:54:43.522Z"
   },
   {
    "duration": 13,
    "start_time": "2023-07-13T11:55:23.007Z"
   },
   {
    "duration": 25,
    "start_time": "2023-07-13T11:56:25.828Z"
   },
   {
    "duration": 15,
    "start_time": "2023-07-13T11:56:39.523Z"
   },
   {
    "duration": 19,
    "start_time": "2023-07-13T11:56:45.661Z"
   },
   {
    "duration": 15,
    "start_time": "2023-07-13T11:58:20.143Z"
   },
   {
    "duration": 38,
    "start_time": "2023-07-13T12:06:11.215Z"
   },
   {
    "duration": 38,
    "start_time": "2023-07-13T12:06:46.031Z"
   },
   {
    "duration": 4,
    "start_time": "2023-07-13T12:07:07.475Z"
   },
   {
    "duration": 9,
    "start_time": "2023-07-13T12:07:12.735Z"
   },
   {
    "duration": 42,
    "start_time": "2023-07-13T12:07:25.099Z"
   },
   {
    "duration": 43,
    "start_time": "2023-07-13T12:09:38.808Z"
   },
   {
    "duration": 24,
    "start_time": "2023-07-13T12:10:20.519Z"
   },
   {
    "duration": 342,
    "start_time": "2023-07-13T12:11:44.028Z"
   },
   {
    "duration": 282,
    "start_time": "2023-07-13T12:12:34.508Z"
   },
   {
    "duration": 7,
    "start_time": "2023-07-13T12:13:12.612Z"
   },
   {
    "duration": 343,
    "start_time": "2023-07-13T12:13:54.527Z"
   },
   {
    "duration": 9,
    "start_time": "2023-07-13T12:26:37.547Z"
   },
   {
    "duration": 10,
    "start_time": "2023-07-13T12:26:43.001Z"
   },
   {
    "duration": 207,
    "start_time": "2023-07-13T12:26:52.055Z"
   },
   {
    "duration": 19,
    "start_time": "2023-07-13T12:27:04.434Z"
   },
   {
    "duration": 18,
    "start_time": "2023-07-13T12:27:07.614Z"
   },
   {
    "duration": 209,
    "start_time": "2023-07-13T12:28:17.919Z"
   },
   {
    "duration": 175,
    "start_time": "2023-07-13T12:33:30.845Z"
   },
   {
    "duration": 21,
    "start_time": "2023-07-13T12:39:41.954Z"
   },
   {
    "duration": 22,
    "start_time": "2023-07-13T12:40:20.950Z"
   },
   {
    "duration": 199,
    "start_time": "2023-07-13T12:42:07.645Z"
   },
   {
    "duration": 6,
    "start_time": "2023-07-13T12:49:31.917Z"
   },
   {
    "duration": 481,
    "start_time": "2023-07-13T12:49:40.652Z"
   },
   {
    "duration": 9,
    "start_time": "2023-07-13T13:00:19.042Z"
   },
   {
    "duration": 18,
    "start_time": "2023-07-13T13:00:21.684Z"
   },
   {
    "duration": 16,
    "start_time": "2023-07-13T13:01:46.260Z"
   },
   {
    "duration": 20,
    "start_time": "2023-07-13T13:01:48.484Z"
   },
   {
    "duration": 48,
    "start_time": "2023-07-13T13:02:55.332Z"
   },
   {
    "duration": 4,
    "start_time": "2023-07-13T13:03:16.742Z"
   },
   {
    "duration": 16,
    "start_time": "2023-07-13T13:03:20.235Z"
   },
   {
    "duration": 7,
    "start_time": "2023-07-13T13:03:23.238Z"
   },
   {
    "duration": 8,
    "start_time": "2023-07-13T13:03:29.636Z"
   },
   {
    "duration": 10,
    "start_time": "2023-07-13T13:03:57.027Z"
   },
   {
    "duration": 4,
    "start_time": "2023-07-13T13:04:14.355Z"
   },
   {
    "duration": 6,
    "start_time": "2023-07-13T13:04:17.762Z"
   },
   {
    "duration": 6,
    "start_time": "2023-07-13T13:05:35.316Z"
   },
   {
    "duration": 6,
    "start_time": "2023-07-13T13:05:42.013Z"
   },
   {
    "duration": 6,
    "start_time": "2023-07-13T13:05:46.712Z"
   },
   {
    "duration": 6,
    "start_time": "2023-07-13T13:06:50.822Z"
   },
   {
    "duration": 14,
    "start_time": "2023-07-13T13:07:17.100Z"
   },
   {
    "duration": 14,
    "start_time": "2023-07-13T13:07:22.728Z"
   },
   {
    "duration": 15,
    "start_time": "2023-07-13T13:07:31.292Z"
   },
   {
    "duration": 14,
    "start_time": "2023-07-13T13:07:38.812Z"
   },
   {
    "duration": 87,
    "start_time": "2023-07-13T13:08:22.524Z"
   },
   {
    "duration": 7,
    "start_time": "2023-07-13T13:08:29.535Z"
   },
   {
    "duration": 7,
    "start_time": "2023-07-13T13:08:57.040Z"
   },
   {
    "duration": 6,
    "start_time": "2023-07-13T13:08:59.635Z"
   },
   {
    "duration": 8,
    "start_time": "2023-07-13T13:17:09.113Z"
   },
   {
    "duration": 11,
    "start_time": "2023-07-13T13:19:16.424Z"
   },
   {
    "duration": 9,
    "start_time": "2023-07-13T13:19:51.324Z"
   },
   {
    "duration": 3,
    "start_time": "2023-07-13T13:44:00.728Z"
   },
   {
    "duration": 138,
    "start_time": "2023-07-13T13:44:00.733Z"
   },
   {
    "duration": 19,
    "start_time": "2023-07-13T13:44:00.873Z"
   },
   {
    "duration": 47,
    "start_time": "2023-07-13T13:44:00.894Z"
   },
   {
    "duration": 86,
    "start_time": "2023-07-13T13:44:00.944Z"
   },
   {
    "duration": 57,
    "start_time": "2023-07-13T13:44:01.033Z"
   },
   {
    "duration": 100,
    "start_time": "2023-07-13T13:44:01.092Z"
   },
   {
    "duration": 64,
    "start_time": "2023-07-13T13:44:01.195Z"
   },
   {
    "duration": 62,
    "start_time": "2023-07-13T13:44:01.261Z"
   },
   {
    "duration": 65,
    "start_time": "2023-07-13T13:44:01.325Z"
   },
   {
    "duration": 81,
    "start_time": "2023-07-13T13:44:01.392Z"
   },
   {
    "duration": 98,
    "start_time": "2023-07-13T13:44:01.475Z"
   },
   {
    "duration": 124,
    "start_time": "2023-07-13T13:44:01.575Z"
   },
   {
    "duration": 116,
    "start_time": "2023-07-13T13:44:01.702Z"
   },
   {
    "duration": 46,
    "start_time": "2023-07-13T13:44:01.821Z"
   },
   {
    "duration": 62,
    "start_time": "2023-07-13T13:44:01.869Z"
   },
   {
    "duration": 136,
    "start_time": "2023-07-13T13:44:01.934Z"
   },
   {
    "duration": 14,
    "start_time": "2023-07-13T13:44:02.071Z"
   },
   {
    "duration": 34,
    "start_time": "2023-07-13T13:44:02.087Z"
   },
   {
    "duration": 46,
    "start_time": "2023-07-13T13:44:02.123Z"
   },
   {
    "duration": 48,
    "start_time": "2023-07-13T13:44:02.172Z"
   },
   {
    "duration": 27,
    "start_time": "2023-07-13T13:44:02.223Z"
   },
   {
    "duration": 23,
    "start_time": "2023-07-13T13:44:02.252Z"
   },
   {
    "duration": 20,
    "start_time": "2023-07-13T13:44:02.277Z"
   },
   {
    "duration": 255,
    "start_time": "2023-07-13T13:44:02.299Z"
   },
   {
    "duration": 254,
    "start_time": "2023-07-13T13:44:02.556Z"
   },
   {
    "duration": 236,
    "start_time": "2023-07-13T13:44:02.812Z"
   },
   {
    "duration": 14,
    "start_time": "2023-07-13T13:44:03.050Z"
   },
   {
    "duration": 10,
    "start_time": "2023-07-13T13:44:03.066Z"
   },
   {
    "duration": 635,
    "start_time": "2023-07-13T13:44:03.078Z"
   },
   {
    "duration": 9,
    "start_time": "2023-07-13T13:44:03.716Z"
   },
   {
    "duration": 16,
    "start_time": "2023-07-13T13:44:03.727Z"
   },
   {
    "duration": 156,
    "start_time": "2023-07-13T13:44:03.745Z"
   },
   {
    "duration": 168,
    "start_time": "2023-07-13T13:44:03.909Z"
   },
   {
    "duration": 213,
    "start_time": "2023-07-13T13:44:04.079Z"
   },
   {
    "duration": 23,
    "start_time": "2023-07-13T13:44:04.294Z"
   },
   {
    "duration": 216,
    "start_time": "2023-07-13T13:44:04.319Z"
   },
   {
    "duration": 17,
    "start_time": "2023-07-13T13:44:04.537Z"
   },
   {
    "duration": 19,
    "start_time": "2023-07-13T13:44:04.556Z"
   },
   {
    "duration": 15,
    "start_time": "2023-07-13T13:44:04.577Z"
   },
   {
    "duration": 38,
    "start_time": "2023-07-13T13:44:04.597Z"
   },
   {
    "duration": 25,
    "start_time": "2023-07-13T13:44:04.637Z"
   },
   {
    "duration": 25,
    "start_time": "2023-07-13T13:44:04.664Z"
   },
   {
    "duration": 56,
    "start_time": "2023-07-13T13:44:04.691Z"
   },
   {
    "duration": 10,
    "start_time": "2023-07-13T13:44:04.749Z"
   },
   {
    "duration": 9,
    "start_time": "2023-07-13T13:44:04.762Z"
   },
   {
    "duration": 11,
    "start_time": "2023-07-13T13:44:04.773Z"
   },
   {
    "duration": 27,
    "start_time": "2023-07-13T13:44:04.786Z"
   },
   {
    "duration": 10,
    "start_time": "2023-07-13T13:44:04.817Z"
   },
   {
    "duration": 243,
    "start_time": "2023-07-13T13:44:04.830Z"
   },
   {
    "duration": 234,
    "start_time": "2023-07-13T13:44:05.075Z"
   },
   {
    "duration": 177,
    "start_time": "2023-07-13T13:44:05.311Z"
   },
   {
    "duration": 192,
    "start_time": "2023-07-13T13:44:05.490Z"
   },
   {
    "duration": 198,
    "start_time": "2023-07-13T13:44:05.684Z"
   },
   {
    "duration": 18,
    "start_time": "2023-07-13T13:44:05.884Z"
   },
   {
    "duration": 33,
    "start_time": "2023-07-13T13:44:05.912Z"
   },
   {
    "duration": 28,
    "start_time": "2023-07-13T13:44:05.947Z"
   },
   {
    "duration": 3,
    "start_time": "2023-07-13T13:44:18.833Z"
   },
   {
    "duration": 111,
    "start_time": "2023-07-13T13:44:18.839Z"
   },
   {
    "duration": 19,
    "start_time": "2023-07-13T13:44:18.952Z"
   },
   {
    "duration": 44,
    "start_time": "2023-07-13T13:44:18.973Z"
   },
   {
    "duration": 38,
    "start_time": "2023-07-13T13:44:19.020Z"
   },
   {
    "duration": 37,
    "start_time": "2023-07-13T13:44:19.060Z"
   },
   {
    "duration": 38,
    "start_time": "2023-07-13T13:44:19.099Z"
   },
   {
    "duration": 30,
    "start_time": "2023-07-13T13:44:19.140Z"
   },
   {
    "duration": 31,
    "start_time": "2023-07-13T13:44:19.172Z"
   },
   {
    "duration": 51,
    "start_time": "2023-07-13T13:44:19.205Z"
   },
   {
    "duration": 14,
    "start_time": "2023-07-13T13:44:19.258Z"
   },
   {
    "duration": 45,
    "start_time": "2023-07-13T13:44:19.275Z"
   },
   {
    "duration": 192,
    "start_time": "2023-07-13T13:44:19.322Z"
   },
   {
    "duration": 40,
    "start_time": "2023-07-13T13:44:19.522Z"
   },
   {
    "duration": 23,
    "start_time": "2023-07-13T13:44:19.564Z"
   },
   {
    "duration": 50,
    "start_time": "2023-07-13T13:44:19.589Z"
   },
   {
    "duration": 38,
    "start_time": "2023-07-13T13:44:19.641Z"
   },
   {
    "duration": 38,
    "start_time": "2023-07-13T13:44:19.681Z"
   },
   {
    "duration": 25,
    "start_time": "2023-07-13T13:44:19.723Z"
   },
   {
    "duration": 33,
    "start_time": "2023-07-13T13:44:19.750Z"
   },
   {
    "duration": 40,
    "start_time": "2023-07-13T13:44:19.785Z"
   },
   {
    "duration": 21,
    "start_time": "2023-07-13T13:44:19.828Z"
   },
   {
    "duration": 33,
    "start_time": "2023-07-13T13:44:19.851Z"
   },
   {
    "duration": 51,
    "start_time": "2023-07-13T13:44:19.886Z"
   },
   {
    "duration": 272,
    "start_time": "2023-07-13T13:44:19.939Z"
   },
   {
    "duration": 262,
    "start_time": "2023-07-13T13:44:20.214Z"
   },
   {
    "duration": 239,
    "start_time": "2023-07-13T13:44:20.478Z"
   },
   {
    "duration": 18,
    "start_time": "2023-07-13T13:44:20.721Z"
   },
   {
    "duration": 37,
    "start_time": "2023-07-13T13:44:20.741Z"
   },
   {
    "duration": 702,
    "start_time": "2023-07-13T13:44:20.780Z"
   },
   {
    "duration": 5,
    "start_time": "2023-07-13T13:44:21.484Z"
   },
   {
    "duration": 40,
    "start_time": "2023-07-13T13:44:21.491Z"
   },
   {
    "duration": 174,
    "start_time": "2023-07-13T13:44:21.534Z"
   },
   {
    "duration": 158,
    "start_time": "2023-07-13T13:44:21.711Z"
   },
   {
    "duration": 226,
    "start_time": "2023-07-13T13:44:21.870Z"
   },
   {
    "duration": 18,
    "start_time": "2023-07-13T13:44:22.098Z"
   },
   {
    "duration": 222,
    "start_time": "2023-07-13T13:44:22.118Z"
   },
   {
    "duration": 17,
    "start_time": "2023-07-13T13:44:22.342Z"
   },
   {
    "duration": 29,
    "start_time": "2023-07-13T13:44:22.361Z"
   },
   {
    "duration": 54,
    "start_time": "2023-07-13T13:44:22.392Z"
   },
   {
    "duration": 26,
    "start_time": "2023-07-13T13:44:22.450Z"
   },
   {
    "duration": 59,
    "start_time": "2023-07-13T13:44:22.478Z"
   },
   {
    "duration": 55,
    "start_time": "2023-07-13T13:44:22.539Z"
   },
   {
    "duration": 54,
    "start_time": "2023-07-13T13:44:22.596Z"
   },
   {
    "duration": 29,
    "start_time": "2023-07-13T13:44:22.652Z"
   },
   {
    "duration": 43,
    "start_time": "2023-07-13T13:44:22.683Z"
   },
   {
    "duration": 32,
    "start_time": "2023-07-13T13:44:22.728Z"
   },
   {
    "duration": 25,
    "start_time": "2023-07-13T13:44:22.762Z"
   },
   {
    "duration": 70,
    "start_time": "2023-07-13T13:44:22.789Z"
   },
   {
    "duration": 287,
    "start_time": "2023-07-13T13:44:22.862Z"
   },
   {
    "duration": 239,
    "start_time": "2023-07-13T13:44:23.151Z"
   },
   {
    "duration": 163,
    "start_time": "2023-07-13T13:44:23.392Z"
   },
   {
    "duration": 169,
    "start_time": "2023-07-13T13:44:23.557Z"
   },
   {
    "duration": 201,
    "start_time": "2023-07-13T13:44:23.729Z"
   },
   {
    "duration": 19,
    "start_time": "2023-07-13T13:44:23.933Z"
   },
   {
    "duration": 40,
    "start_time": "2023-07-13T13:44:23.954Z"
   },
   {
    "duration": 30,
    "start_time": "2023-07-13T13:44:23.996Z"
   },
   {
    "duration": 22,
    "start_time": "2023-07-13T13:47:05.848Z"
   },
   {
    "duration": 17,
    "start_time": "2023-07-13T13:47:19.551Z"
   },
   {
    "duration": 5,
    "start_time": "2023-07-13T13:48:33.408Z"
   },
   {
    "duration": 156,
    "start_time": "2023-07-13T13:48:33.417Z"
   },
   {
    "duration": 79,
    "start_time": "2023-07-13T13:48:33.575Z"
   },
   {
    "duration": 25,
    "start_time": "2023-07-13T13:48:33.656Z"
   },
   {
    "duration": 46,
    "start_time": "2023-07-13T13:48:33.685Z"
   },
   {
    "duration": 6,
    "start_time": "2023-07-13T13:48:33.734Z"
   },
   {
    "duration": 22,
    "start_time": "2023-07-13T13:48:33.742Z"
   },
   {
    "duration": 48,
    "start_time": "2023-07-13T13:48:33.766Z"
   },
   {
    "duration": 60,
    "start_time": "2023-07-13T13:48:33.817Z"
   },
   {
    "duration": 16,
    "start_time": "2023-07-13T13:48:33.879Z"
   },
   {
    "duration": 23,
    "start_time": "2023-07-13T13:48:33.897Z"
   },
   {
    "duration": 196,
    "start_time": "2023-07-13T13:48:33.923Z"
   },
   {
    "duration": 57,
    "start_time": "2023-07-13T13:48:34.122Z"
   },
   {
    "duration": 67,
    "start_time": "2023-07-13T13:48:34.182Z"
   },
   {
    "duration": 30,
    "start_time": "2023-07-13T13:48:34.251Z"
   },
   {
    "duration": 35,
    "start_time": "2023-07-13T13:48:34.284Z"
   },
   {
    "duration": 23,
    "start_time": "2023-07-13T13:48:34.323Z"
   },
   {
    "duration": 48,
    "start_time": "2023-07-13T13:48:34.348Z"
   },
   {
    "duration": 69,
    "start_time": "2023-07-13T13:48:34.398Z"
   },
   {
    "duration": 18,
    "start_time": "2023-07-13T13:48:34.469Z"
   },
   {
    "duration": 47,
    "start_time": "2023-07-13T13:48:34.489Z"
   },
   {
    "duration": 25,
    "start_time": "2023-07-13T13:48:34.538Z"
   },
   {
    "duration": 39,
    "start_time": "2023-07-13T13:48:34.566Z"
   },
   {
    "duration": 261,
    "start_time": "2023-07-13T13:48:34.607Z"
   },
   {
    "duration": 233,
    "start_time": "2023-07-13T13:48:34.871Z"
   },
   {
    "duration": 248,
    "start_time": "2023-07-13T13:48:35.109Z"
   },
   {
    "duration": 16,
    "start_time": "2023-07-13T13:48:35.359Z"
   },
   {
    "duration": 28,
    "start_time": "2023-07-13T13:48:35.377Z"
   },
   {
    "duration": 815,
    "start_time": "2023-07-13T13:48:35.408Z"
   },
   {
    "duration": 6,
    "start_time": "2023-07-13T13:48:36.225Z"
   },
   {
    "duration": 20,
    "start_time": "2023-07-13T13:48:36.234Z"
   },
   {
    "duration": 174,
    "start_time": "2023-07-13T13:48:36.256Z"
   },
   {
    "duration": 162,
    "start_time": "2023-07-13T13:48:36.432Z"
   },
   {
    "duration": 208,
    "start_time": "2023-07-13T13:48:36.596Z"
   },
   {
    "duration": 22,
    "start_time": "2023-07-13T13:48:36.809Z"
   },
   {
    "duration": 305,
    "start_time": "2023-07-13T13:48:36.833Z"
   },
   {
    "duration": 15,
    "start_time": "2023-07-13T13:48:37.140Z"
   },
   {
    "duration": 8,
    "start_time": "2023-07-13T13:48:37.158Z"
   },
   {
    "duration": 28,
    "start_time": "2023-07-13T13:48:37.168Z"
   },
   {
    "duration": 41,
    "start_time": "2023-07-13T13:48:37.198Z"
   },
   {
    "duration": 21,
    "start_time": "2023-07-13T13:48:37.245Z"
   },
   {
    "duration": 19,
    "start_time": "2023-07-13T13:48:37.269Z"
   },
   {
    "duration": 68,
    "start_time": "2023-07-13T13:48:37.291Z"
   },
   {
    "duration": 12,
    "start_time": "2023-07-13T13:48:37.361Z"
   },
   {
    "duration": 24,
    "start_time": "2023-07-13T13:48:37.375Z"
   },
   {
    "duration": 27,
    "start_time": "2023-07-13T13:48:37.401Z"
   },
   {
    "duration": 16,
    "start_time": "2023-07-13T13:48:37.433Z"
   },
   {
    "duration": 14,
    "start_time": "2023-07-13T13:48:37.451Z"
   },
   {
    "duration": 232,
    "start_time": "2023-07-13T13:48:37.467Z"
   },
   {
    "duration": 239,
    "start_time": "2023-07-13T13:48:37.701Z"
   },
   {
    "duration": 161,
    "start_time": "2023-07-13T13:48:37.942Z"
   },
   {
    "duration": 172,
    "start_time": "2023-07-13T13:48:38.105Z"
   },
   {
    "duration": 181,
    "start_time": "2023-07-13T13:48:38.279Z"
   },
   {
    "duration": 17,
    "start_time": "2023-07-13T13:48:38.461Z"
   },
   {
    "duration": 43,
    "start_time": "2023-07-13T13:48:38.480Z"
   },
   {
    "duration": 50,
    "start_time": "2023-07-13T13:48:38.525Z"
   },
   {
    "duration": 1256,
    "start_time": "2023-07-15T10:54:40.016Z"
   },
   {
    "duration": 135,
    "start_time": "2023-07-15T10:54:41.274Z"
   },
   {
    "duration": 19,
    "start_time": "2023-07-15T10:54:41.411Z"
   },
   {
    "duration": 24,
    "start_time": "2023-07-15T10:54:41.432Z"
   },
   {
    "duration": 28,
    "start_time": "2023-07-15T10:54:41.457Z"
   },
   {
    "duration": 17,
    "start_time": "2023-07-15T10:54:41.486Z"
   },
   {
    "duration": 8,
    "start_time": "2023-07-15T10:54:41.505Z"
   },
   {
    "duration": 16,
    "start_time": "2023-07-15T10:54:41.515Z"
   },
   {
    "duration": 22,
    "start_time": "2023-07-15T10:54:41.532Z"
   },
   {
    "duration": 9,
    "start_time": "2023-07-15T10:54:41.557Z"
   },
   {
    "duration": 16,
    "start_time": "2023-07-15T10:54:41.568Z"
   },
   {
    "duration": 13,
    "start_time": "2023-07-15T10:54:41.586Z"
   },
   {
    "duration": 12,
    "start_time": "2023-07-15T10:54:41.619Z"
   },
   {
    "duration": 11,
    "start_time": "2023-07-15T10:54:41.633Z"
   },
   {
    "duration": 20,
    "start_time": "2023-07-15T10:54:41.646Z"
   },
   {
    "duration": 10,
    "start_time": "2023-07-15T10:54:41.667Z"
   },
   {
    "duration": 14,
    "start_time": "2023-07-15T10:54:41.678Z"
   },
   {
    "duration": 8,
    "start_time": "2023-07-15T10:54:41.694Z"
   },
   {
    "duration": 33,
    "start_time": "2023-07-15T10:54:41.704Z"
   },
   {
    "duration": 14,
    "start_time": "2023-07-15T10:54:41.739Z"
   },
   {
    "duration": 9,
    "start_time": "2023-07-15T10:54:41.754Z"
   },
   {
    "duration": 6,
    "start_time": "2023-07-15T10:54:41.764Z"
   },
   {
    "duration": 9,
    "start_time": "2023-07-15T10:54:41.772Z"
   },
   {
    "duration": 200,
    "start_time": "2023-07-15T10:54:41.783Z"
   },
   {
    "duration": 190,
    "start_time": "2023-07-15T10:54:41.985Z"
   },
   {
    "duration": 190,
    "start_time": "2023-07-15T10:54:42.177Z"
   },
   {
    "duration": 12,
    "start_time": "2023-07-15T10:54:42.369Z"
   },
   {
    "duration": 13,
    "start_time": "2023-07-15T10:54:42.385Z"
   },
   {
    "duration": 542,
    "start_time": "2023-07-15T10:54:42.400Z"
   },
   {
    "duration": 4,
    "start_time": "2023-07-15T10:54:42.943Z"
   },
   {
    "duration": 30,
    "start_time": "2023-07-15T10:54:42.949Z"
   },
   {
    "duration": 117,
    "start_time": "2023-07-15T10:54:42.980Z"
   },
   {
    "duration": 122,
    "start_time": "2023-07-15T10:54:43.099Z"
   },
   {
    "duration": 175,
    "start_time": "2023-07-15T10:54:43.222Z"
   },
   {
    "duration": 11,
    "start_time": "2023-07-15T10:54:43.399Z"
   },
   {
    "duration": 205,
    "start_time": "2023-07-15T10:54:43.411Z"
   },
   {
    "duration": 12,
    "start_time": "2023-07-15T10:54:43.617Z"
   },
   {
    "duration": 24,
    "start_time": "2023-07-15T10:54:43.630Z"
   },
   {
    "duration": 16,
    "start_time": "2023-07-15T10:54:43.656Z"
   },
   {
    "duration": 11,
    "start_time": "2023-07-15T10:54:43.673Z"
   },
   {
    "duration": 30,
    "start_time": "2023-07-15T10:54:43.685Z"
   },
   {
    "duration": 23,
    "start_time": "2023-07-15T10:54:43.716Z"
   },
   {
    "duration": 27,
    "start_time": "2023-07-15T10:54:43.740Z"
   },
   {
    "duration": 7,
    "start_time": "2023-07-15T10:54:43.768Z"
   },
   {
    "duration": 10,
    "start_time": "2023-07-15T10:54:43.776Z"
   },
   {
    "duration": 17,
    "start_time": "2023-07-15T10:54:43.788Z"
   },
   {
    "duration": 22,
    "start_time": "2023-07-15T10:54:43.806Z"
   },
   {
    "duration": 14,
    "start_time": "2023-07-15T10:54:43.829Z"
   },
   {
    "duration": 181,
    "start_time": "2023-07-15T10:54:43.845Z"
   },
   {
    "duration": 167,
    "start_time": "2023-07-15T10:54:44.028Z"
   },
   {
    "duration": 122,
    "start_time": "2023-07-15T10:54:44.196Z"
   },
   {
    "duration": 164,
    "start_time": "2023-07-15T10:54:44.320Z"
   },
   {
    "duration": 127,
    "start_time": "2023-07-15T10:54:44.486Z"
   },
   {
    "duration": 14,
    "start_time": "2023-07-15T10:54:44.614Z"
   },
   {
    "duration": 10,
    "start_time": "2023-07-15T10:54:44.629Z"
   },
   {
    "duration": 15,
    "start_time": "2023-07-15T10:54:44.641Z"
   },
   {
    "duration": 16,
    "start_time": "2023-07-15T10:54:44.657Z"
   },
   {
    "duration": 36,
    "start_time": "2023-07-15T10:54:44.674Z"
   },
   {
    "duration": 5,
    "start_time": "2023-07-15T10:55:33.844Z"
   },
   {
    "duration": 5,
    "start_time": "2023-07-15T10:55:44.691Z"
   },
   {
    "duration": 5,
    "start_time": "2023-07-15T10:55:59.642Z"
   },
   {
    "duration": 7,
    "start_time": "2023-07-15T10:56:04.839Z"
   },
   {
    "duration": 5,
    "start_time": "2023-07-15T10:56:05.256Z"
   },
   {
    "duration": 6,
    "start_time": "2023-07-15T10:56:05.739Z"
   },
   {
    "duration": 6,
    "start_time": "2023-07-15T10:56:09.840Z"
   },
   {
    "duration": 8,
    "start_time": "2023-07-15T11:12:11.349Z"
   },
   {
    "duration": 6,
    "start_time": "2023-07-15T11:12:16.052Z"
   },
   {
    "duration": 5,
    "start_time": "2023-07-15T11:43:01.464Z"
   },
   {
    "duration": 3,
    "start_time": "2023-07-15T12:02:03.436Z"
   },
   {
    "duration": 90,
    "start_time": "2023-07-15T12:02:03.442Z"
   },
   {
    "duration": 16,
    "start_time": "2023-07-15T12:02:03.535Z"
   },
   {
    "duration": 20,
    "start_time": "2023-07-15T12:02:03.552Z"
   },
   {
    "duration": 39,
    "start_time": "2023-07-15T12:02:03.576Z"
   },
   {
    "duration": 27,
    "start_time": "2023-07-15T12:02:03.616Z"
   },
   {
    "duration": 13,
    "start_time": "2023-07-15T12:02:03.645Z"
   },
   {
    "duration": 20,
    "start_time": "2023-07-15T12:02:03.660Z"
   },
   {
    "duration": 27,
    "start_time": "2023-07-15T12:02:03.681Z"
   },
   {
    "duration": 41,
    "start_time": "2023-07-15T12:02:03.710Z"
   },
   {
    "duration": 21,
    "start_time": "2023-07-15T12:02:03.753Z"
   },
   {
    "duration": 72,
    "start_time": "2023-07-15T12:02:03.776Z"
   },
   {
    "duration": 35,
    "start_time": "2023-07-15T12:02:03.851Z"
   },
   {
    "duration": 18,
    "start_time": "2023-07-15T12:02:03.889Z"
   },
   {
    "duration": 25,
    "start_time": "2023-07-15T12:02:03.908Z"
   },
   {
    "duration": 22,
    "start_time": "2023-07-15T12:02:03.935Z"
   },
   {
    "duration": 12,
    "start_time": "2023-07-15T12:02:03.959Z"
   },
   {
    "duration": 13,
    "start_time": "2023-07-15T12:02:03.973Z"
   },
   {
    "duration": 23,
    "start_time": "2023-07-15T12:02:03.988Z"
   },
   {
    "duration": 31,
    "start_time": "2023-07-15T12:02:04.012Z"
   },
   {
    "duration": 17,
    "start_time": "2023-07-15T12:02:04.045Z"
   },
   {
    "duration": 8,
    "start_time": "2023-07-15T12:02:04.064Z"
   },
   {
    "duration": 9,
    "start_time": "2023-07-15T12:02:04.074Z"
   },
   {
    "duration": 181,
    "start_time": "2023-07-15T12:02:04.085Z"
   },
   {
    "duration": 197,
    "start_time": "2023-07-15T12:02:04.268Z"
   },
   {
    "duration": 209,
    "start_time": "2023-07-15T12:02:04.466Z"
   },
   {
    "duration": 13,
    "start_time": "2023-07-15T12:02:04.677Z"
   },
   {
    "duration": 16,
    "start_time": "2023-07-15T12:02:04.692Z"
   },
   {
    "duration": 578,
    "start_time": "2023-07-15T12:02:04.709Z"
   },
   {
    "duration": 4,
    "start_time": "2023-07-15T12:02:05.288Z"
   },
   {
    "duration": 62,
    "start_time": "2023-07-15T12:02:05.294Z"
   },
   {
    "duration": 148,
    "start_time": "2023-07-15T12:02:05.358Z"
   },
   {
    "duration": 156,
    "start_time": "2023-07-15T12:02:05.508Z"
   },
   {
    "duration": 217,
    "start_time": "2023-07-15T12:02:05.666Z"
   },
   {
    "duration": 11,
    "start_time": "2023-07-15T12:02:05.885Z"
   },
   {
    "duration": 236,
    "start_time": "2023-07-15T12:02:05.898Z"
   },
   {
    "duration": 12,
    "start_time": "2023-07-15T12:02:06.136Z"
   },
   {
    "duration": 55,
    "start_time": "2023-07-15T12:02:06.149Z"
   },
   {
    "duration": 36,
    "start_time": "2023-07-15T12:02:06.205Z"
   },
   {
    "duration": 41,
    "start_time": "2023-07-15T12:02:06.243Z"
   },
   {
    "duration": 18,
    "start_time": "2023-07-15T12:02:06.287Z"
   },
   {
    "duration": 25,
    "start_time": "2023-07-15T12:02:06.307Z"
   },
   {
    "duration": 29,
    "start_time": "2023-07-15T12:02:06.338Z"
   },
   {
    "duration": 12,
    "start_time": "2023-07-15T12:02:06.369Z"
   },
   {
    "duration": 17,
    "start_time": "2023-07-15T12:02:06.383Z"
   },
   {
    "duration": 8,
    "start_time": "2023-07-15T12:02:06.401Z"
   },
   {
    "duration": 29,
    "start_time": "2023-07-15T12:02:06.411Z"
   },
   {
    "duration": 19,
    "start_time": "2023-07-15T12:02:06.441Z"
   },
   {
    "duration": 207,
    "start_time": "2023-07-15T12:02:06.461Z"
   },
   {
    "duration": 191,
    "start_time": "2023-07-15T12:02:06.669Z"
   },
   {
    "duration": 125,
    "start_time": "2023-07-15T12:02:06.862Z"
   },
   {
    "duration": 217,
    "start_time": "2023-07-15T12:02:06.988Z"
   },
   {
    "duration": 143,
    "start_time": "2023-07-15T12:02:07.206Z"
   },
   {
    "duration": 10,
    "start_time": "2023-07-15T12:02:07.350Z"
   },
   {
    "duration": 57,
    "start_time": "2023-07-15T12:02:07.362Z"
   },
   {
    "duration": 15,
    "start_time": "2023-07-15T12:02:07.430Z"
   },
   {
    "duration": 16,
    "start_time": "2023-07-15T12:02:07.446Z"
   },
   {
    "duration": 24,
    "start_time": "2023-07-15T12:02:07.464Z"
   },
   {
    "duration": 4,
    "start_time": "2023-07-15T12:04:56.821Z"
   },
   {
    "duration": 89,
    "start_time": "2023-07-15T12:04:56.836Z"
   },
   {
    "duration": 19,
    "start_time": "2023-07-15T12:04:56.931Z"
   },
   {
    "duration": 50,
    "start_time": "2023-07-15T12:04:56.952Z"
   },
   {
    "duration": 25,
    "start_time": "2023-07-15T12:04:57.005Z"
   },
   {
    "duration": 22,
    "start_time": "2023-07-15T12:04:57.032Z"
   },
   {
    "duration": 63,
    "start_time": "2023-07-15T12:04:57.056Z"
   },
   {
    "duration": 53,
    "start_time": "2023-07-15T12:04:57.120Z"
   },
   {
    "duration": 26,
    "start_time": "2023-07-15T12:04:57.175Z"
   },
   {
    "duration": 46,
    "start_time": "2023-07-15T12:04:57.203Z"
   },
   {
    "duration": 28,
    "start_time": "2023-07-15T12:04:57.251Z"
   },
   {
    "duration": 18,
    "start_time": "2023-07-15T12:04:57.281Z"
   },
   {
    "duration": 16,
    "start_time": "2023-07-15T12:04:57.301Z"
   },
   {
    "duration": 54,
    "start_time": "2023-07-15T12:04:57.319Z"
   },
   {
    "duration": 22,
    "start_time": "2023-07-15T12:04:57.375Z"
   },
   {
    "duration": 11,
    "start_time": "2023-07-15T12:04:57.398Z"
   },
   {
    "duration": 16,
    "start_time": "2023-07-15T12:04:57.410Z"
   },
   {
    "duration": 39,
    "start_time": "2023-07-15T12:04:57.427Z"
   },
   {
    "duration": 17,
    "start_time": "2023-07-15T12:04:57.468Z"
   },
   {
    "duration": 13,
    "start_time": "2023-07-15T12:04:57.486Z"
   },
   {
    "duration": 11,
    "start_time": "2023-07-15T12:04:57.501Z"
   },
   {
    "duration": 19,
    "start_time": "2023-07-15T12:04:57.513Z"
   },
   {
    "duration": 35,
    "start_time": "2023-07-15T12:04:57.534Z"
   },
   {
    "duration": 204,
    "start_time": "2023-07-15T12:04:57.571Z"
   },
   {
    "duration": 191,
    "start_time": "2023-07-15T12:04:57.776Z"
   },
   {
    "duration": 199,
    "start_time": "2023-07-15T12:04:57.969Z"
   },
   {
    "duration": 15,
    "start_time": "2023-07-15T12:04:58.170Z"
   },
   {
    "duration": 29,
    "start_time": "2023-07-15T12:04:58.187Z"
   },
   {
    "duration": 743,
    "start_time": "2023-07-15T12:04:58.220Z"
   },
   {
    "duration": 4,
    "start_time": "2023-07-15T12:04:58.965Z"
   },
   {
    "duration": 40,
    "start_time": "2023-07-15T12:04:58.971Z"
   },
   {
    "duration": 152,
    "start_time": "2023-07-15T12:04:59.013Z"
   },
   {
    "duration": 160,
    "start_time": "2023-07-15T12:04:59.167Z"
   },
   {
    "duration": 207,
    "start_time": "2023-07-15T12:04:59.329Z"
   },
   {
    "duration": 13,
    "start_time": "2023-07-15T12:04:59.538Z"
   },
   {
    "duration": 236,
    "start_time": "2023-07-15T12:04:59.552Z"
   },
   {
    "duration": 14,
    "start_time": "2023-07-15T12:04:59.790Z"
   },
   {
    "duration": 8,
    "start_time": "2023-07-15T12:04:59.806Z"
   },
   {
    "duration": 51,
    "start_time": "2023-07-15T12:04:59.816Z"
   },
   {
    "duration": 18,
    "start_time": "2023-07-15T12:04:59.868Z"
   },
   {
    "duration": 18,
    "start_time": "2023-07-15T12:04:59.888Z"
   },
   {
    "duration": 52,
    "start_time": "2023-07-15T12:04:59.907Z"
   },
   {
    "duration": 17,
    "start_time": "2023-07-15T12:04:59.960Z"
   },
   {
    "duration": 12,
    "start_time": "2023-07-15T12:04:59.978Z"
   },
   {
    "duration": 10,
    "start_time": "2023-07-15T12:04:59.991Z"
   },
   {
    "duration": 71,
    "start_time": "2023-07-15T12:05:00.003Z"
   },
   {
    "duration": 55,
    "start_time": "2023-07-15T12:05:00.076Z"
   },
   {
    "duration": 59,
    "start_time": "2023-07-15T12:05:00.132Z"
   },
   {
    "duration": 271,
    "start_time": "2023-07-15T12:05:00.193Z"
   },
   {
    "duration": 202,
    "start_time": "2023-07-15T12:05:00.466Z"
   },
   {
    "duration": 138,
    "start_time": "2023-07-15T12:05:00.669Z"
   },
   {
    "duration": 201,
    "start_time": "2023-07-15T12:05:00.809Z"
   },
   {
    "duration": 152,
    "start_time": "2023-07-15T12:05:01.011Z"
   },
   {
    "duration": 44,
    "start_time": "2023-07-15T12:05:01.165Z"
   },
   {
    "duration": 166,
    "start_time": "2023-07-15T12:05:01.211Z"
   },
   {
    "duration": 71,
    "start_time": "2023-07-15T12:05:01.378Z"
   },
   {
    "duration": 231,
    "start_time": "2023-07-15T12:05:01.451Z"
   },
   {
    "duration": 64,
    "start_time": "2023-07-15T12:05:01.684Z"
   },
   {
    "duration": 1338,
    "start_time": "2023-07-17T10:10:35.933Z"
   },
   {
    "duration": 151,
    "start_time": "2023-07-17T10:10:37.273Z"
   },
   {
    "duration": 19,
    "start_time": "2023-07-17T10:10:37.425Z"
   },
   {
    "duration": 14,
    "start_time": "2023-07-17T10:10:37.446Z"
   },
   {
    "duration": 22,
    "start_time": "2023-07-17T10:10:37.462Z"
   },
   {
    "duration": 14,
    "start_time": "2023-07-17T10:10:37.485Z"
   },
   {
    "duration": 31,
    "start_time": "2023-07-17T10:10:37.500Z"
   },
   {
    "duration": 50,
    "start_time": "2023-07-17T10:10:37.532Z"
   },
   {
    "duration": 28,
    "start_time": "2023-07-17T10:10:37.583Z"
   },
   {
    "duration": 21,
    "start_time": "2023-07-17T10:10:37.612Z"
   },
   {
    "duration": 19,
    "start_time": "2023-07-17T10:10:37.635Z"
   },
   {
    "duration": 44,
    "start_time": "2023-07-17T10:10:37.655Z"
   },
   {
    "duration": 33,
    "start_time": "2023-07-17T10:10:37.700Z"
   },
   {
    "duration": 87,
    "start_time": "2023-07-17T10:10:37.735Z"
   },
   {
    "duration": 17,
    "start_time": "2023-07-17T10:10:37.823Z"
   },
   {
    "duration": 26,
    "start_time": "2023-07-17T10:10:37.842Z"
   },
   {
    "duration": 24,
    "start_time": "2023-07-17T10:10:37.870Z"
   },
   {
    "duration": 13,
    "start_time": "2023-07-17T10:10:37.895Z"
   },
   {
    "duration": 25,
    "start_time": "2023-07-17T10:10:37.909Z"
   },
   {
    "duration": 27,
    "start_time": "2023-07-17T10:10:37.935Z"
   },
   {
    "duration": 14,
    "start_time": "2023-07-17T10:10:37.964Z"
   },
   {
    "duration": 71,
    "start_time": "2023-07-17T10:10:37.979Z"
   },
   {
    "duration": 36,
    "start_time": "2023-07-17T10:10:38.051Z"
   },
   {
    "duration": 245,
    "start_time": "2023-07-17T10:10:38.088Z"
   },
   {
    "duration": 188,
    "start_time": "2023-07-17T10:10:38.334Z"
   },
   {
    "duration": 198,
    "start_time": "2023-07-17T10:10:38.524Z"
   },
   {
    "duration": 12,
    "start_time": "2023-07-17T10:10:38.724Z"
   },
   {
    "duration": 36,
    "start_time": "2023-07-17T10:10:38.737Z"
   },
   {
    "duration": 574,
    "start_time": "2023-07-17T10:10:38.775Z"
   },
   {
    "duration": 4,
    "start_time": "2023-07-17T10:10:39.350Z"
   },
   {
    "duration": 16,
    "start_time": "2023-07-17T10:10:39.355Z"
   },
   {
    "duration": 112,
    "start_time": "2023-07-17T10:10:39.373Z"
   },
   {
    "duration": 120,
    "start_time": "2023-07-17T10:10:39.486Z"
   },
   {
    "duration": 165,
    "start_time": "2023-07-17T10:10:39.608Z"
   },
   {
    "duration": 12,
    "start_time": "2023-07-17T10:10:39.775Z"
   },
   {
    "duration": 175,
    "start_time": "2023-07-17T10:10:39.788Z"
   },
   {
    "duration": 14,
    "start_time": "2023-07-17T10:10:39.965Z"
   },
   {
    "duration": 75,
    "start_time": "2023-07-17T10:10:39.981Z"
   },
   {
    "duration": 29,
    "start_time": "2023-07-17T10:10:40.058Z"
   },
   {
    "duration": 25,
    "start_time": "2023-07-17T10:10:40.089Z"
   },
   {
    "duration": 27,
    "start_time": "2023-07-17T10:10:40.118Z"
   },
   {
    "duration": 25,
    "start_time": "2023-07-17T10:10:40.147Z"
   },
   {
    "duration": 40,
    "start_time": "2023-07-17T10:10:40.174Z"
   },
   {
    "duration": 21,
    "start_time": "2023-07-17T10:10:40.216Z"
   },
   {
    "duration": 16,
    "start_time": "2023-07-17T10:10:40.239Z"
   },
   {
    "duration": 19,
    "start_time": "2023-07-17T10:10:40.257Z"
   },
   {
    "duration": 21,
    "start_time": "2023-07-17T10:10:40.277Z"
   },
   {
    "duration": 11,
    "start_time": "2023-07-17T10:10:40.300Z"
   },
   {
    "duration": 201,
    "start_time": "2023-07-17T10:10:40.312Z"
   },
   {
    "duration": 176,
    "start_time": "2023-07-17T10:10:40.515Z"
   },
   {
    "duration": 117,
    "start_time": "2023-07-17T10:10:40.693Z"
   },
   {
    "duration": 204,
    "start_time": "2023-07-17T10:10:40.811Z"
   },
   {
    "duration": 147,
    "start_time": "2023-07-17T10:10:41.020Z"
   },
   {
    "duration": 13,
    "start_time": "2023-07-17T10:10:41.170Z"
   },
   {
    "duration": 28,
    "start_time": "2023-07-17T10:10:41.184Z"
   },
   {
    "duration": 17,
    "start_time": "2023-07-17T10:10:41.214Z"
   },
   {
    "duration": 82,
    "start_time": "2023-07-17T10:10:41.233Z"
   },
   {
    "duration": 24,
    "start_time": "2023-07-17T10:10:41.317Z"
   },
   {
    "duration": 206,
    "start_time": "2023-07-17T10:10:41.343Z"
   },
   {
    "duration": 384,
    "start_time": "2023-07-17T10:10:45.509Z"
   },
   {
    "duration": 298,
    "start_time": "2023-07-17T10:14:12.461Z"
   },
   {
    "duration": 278,
    "start_time": "2023-07-17T10:15:17.806Z"
   },
   {
    "duration": 772,
    "start_time": "2023-07-17T10:16:36.609Z"
   },
   {
    "duration": 147,
    "start_time": "2023-07-17T10:20:49.303Z"
   },
   {
    "duration": 56,
    "start_time": "2023-07-17T10:21:00.133Z"
   },
   {
    "duration": 11,
    "start_time": "2023-07-17T10:21:56.337Z"
   },
   {
    "duration": 770,
    "start_time": "2023-07-17T10:22:00.385Z"
   }
  ],
  "kernelspec": {
   "display_name": "Python 3 (ipykernel)",
   "language": "python",
   "name": "python3"
  },
  "language_info": {
   "codemirror_mode": {
    "name": "ipython",
    "version": 3
   },
   "file_extension": ".py",
   "mimetype": "text/x-python",
   "name": "python",
   "nbconvert_exporter": "python",
   "pygments_lexer": "ipython3",
   "version": "3.11.3"
  },
  "toc": {
   "base_numbering": 1,
   "nav_menu": {
    "height": "465.994px",
    "width": "420.994px"
   },
   "number_sections": true,
   "sideBar": true,
   "skip_h1_title": true,
   "title_cell": "Table of Contents",
   "title_sidebar": "Contents",
   "toc_cell": false,
   "toc_position": {},
   "toc_section_display": true,
   "toc_window_display": false
  }
 },
 "nbformat": 4,
 "nbformat_minor": 2
}
